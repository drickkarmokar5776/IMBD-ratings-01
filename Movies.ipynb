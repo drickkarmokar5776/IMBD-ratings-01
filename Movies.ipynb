{
  "metadata": {
    "kernelspec": {
      "language": "python",
      "display_name": "Python 3",
      "name": "python3"
    },
    "language_info": {
      "pygments_lexer": "ipython3",
      "nbconvert_exporter": "python",
      "version": "3.6.4",
      "file_extension": ".py",
      "codemirror_mode": {
        "name": "ipython",
        "version": 3
      },
      "name": "python",
      "mimetype": "text/x-python"
    },
    "kaggle": {
      "accelerator": "none",
      "dataSources": [
        {
          "sourceId": 2639,
          "sourceType": "datasetVersion",
          "datasetId": 1474
        }
      ],
      "dockerImageVersionId": 30260,
      "isInternetEnabled": false,
      "language": "python",
      "sourceType": "notebook",
      "isGpuEnabled": false
    },
    "colab": {
      "provenance": [],
      "include_colab_link": true
    }
  },
  "nbformat_minor": 0,
  "nbformat": 4,
  "cells": [
    {
      "cell_type": "markdown",
      "metadata": {
        "id": "view-in-github",
        "colab_type": "text"
      },
      "source": [
        "<a href=\"https://colab.research.google.com/github/drickkarmokar5776/IMBD-ratings-01/blob/main/Movies.ipynb\" target=\"_parent\"><img src=\"https://colab.research.google.com/assets/colab-badge.svg\" alt=\"Open In Colab\"/></a>"
      ]
    },
    {
      "cell_type": "code",
      "source": [
        "# This Python 3 environment comes with many helpful analytics libraries installed\n",
        "# It is defined by the kaggle/python Docker image: https://github.com/kaggle/docker-python\n",
        "# For example, here's several helpful packages to load\n",
        "\n",
        "import numpy as np # linear algebra\n",
        "import pandas as pd # data processing, CSV file I/O (e.g. pd.read_csv)\n",
        "\n",
        "# Input data files are available in the read-only \"../input/\" directory\n",
        "# For example, running this (by clicking run or pressing Shift+Enter) will list all files under the input directory\n",
        "\n",
        "import os\n",
        "for dirname, _, filenames in os.walk('/kaggle/input'):\n",
        "    for filename in filenames:\n",
        "        print(os.path.join(dirname, filename))\n",
        "\n",
        "# You can write up to 20GB to the current directory (/kaggle/working/) that gets preserved as output when you create a version using \"Save & Run All\"\n",
        "# You can also write temporary files to /kaggle/temp/, but they won't be saved outside of the current session"
      ],
      "metadata": {
        "_uuid": "8f2839f25d086af736a60e9eeb907d3b93b6e0e5",
        "_cell_guid": "b1076dfc-b9ad-4769-8c92-a6c4dae69d19",
        "execution": {
          "iopub.status.busy": "2022-10-07T07:43:07.065027Z",
          "iopub.execute_input": "2022-10-07T07:43:07.065433Z",
          "iopub.status.idle": "2022-10-07T07:43:07.080238Z",
          "shell.execute_reply.started": "2022-10-07T07:43:07.065401Z",
          "shell.execute_reply": "2022-10-07T07:43:07.079007Z"
        },
        "trusted": true,
        "id": "g7wCjqF9Go4o"
      },
      "execution_count": 1,
      "outputs": []
    },
    {
      "cell_type": "markdown",
      "source": [
        "# Youtube Video Link : https://youtu.be/Asm2_qgBK48"
      ],
      "metadata": {
        "id": "rqSJ2l7pGo4q"
      }
    },
    {
      "cell_type": "code",
      "source": [
        "import warnings\n",
        "warnings.filterwarnings('ignore')"
      ],
      "metadata": {
        "execution": {
          "iopub.status.busy": "2022-10-07T07:43:08.280139Z",
          "iopub.execute_input": "2022-10-07T07:43:08.280923Z",
          "iopub.status.idle": "2022-10-07T07:43:08.285949Z",
          "shell.execute_reply.started": "2022-10-07T07:43:08.280885Z",
          "shell.execute_reply": "2022-10-07T07:43:08.284696Z"
        },
        "trusted": true,
        "id": "CSbZKSxhGo4r"
      },
      "execution_count": 2,
      "outputs": []
    },
    {
      "cell_type": "code",
      "source": [
        "data = pd.read_csv(r'IMDB-Movie-Data (1).csv')"
      ],
      "metadata": {
        "execution": {
          "iopub.status.busy": "2022-10-07T07:43:08.545263Z",
          "iopub.execute_input": "2022-10-07T07:43:08.54596Z",
          "iopub.status.idle": "2022-10-07T07:43:08.583629Z",
          "shell.execute_reply.started": "2022-10-07T07:43:08.545924Z",
          "shell.execute_reply": "2022-10-07T07:43:08.582348Z"
        },
        "trusted": true,
        "id": "Qhz7hqbdGo4s"
      },
      "execution_count": 4,
      "outputs": []
    },
    {
      "cell_type": "markdown",
      "source": [
        "# 1. Display Top 10 Rows of The Dataset"
      ],
      "metadata": {
        "execution": {
          "iopub.status.busy": "2022-10-07T05:28:53.866112Z",
          "iopub.execute_input": "2022-10-07T05:28:53.867396Z",
          "iopub.status.idle": "2022-10-07T05:28:53.897473Z",
          "shell.execute_reply.started": "2022-10-07T05:28:53.867351Z",
          "shell.execute_reply": "2022-10-07T05:28:53.896329Z"
        },
        "id": "tWOQIX90Go4t"
      }
    },
    {
      "cell_type": "code",
      "source": [
        "data.head(10)"
      ],
      "metadata": {
        "execution": {
          "iopub.status.busy": "2022-10-07T07:43:08.97141Z",
          "iopub.execute_input": "2022-10-07T07:43:08.972091Z",
          "iopub.status.idle": "2022-10-07T07:43:09.011251Z",
          "shell.execute_reply.started": "2022-10-07T07:43:08.972053Z",
          "shell.execute_reply": "2022-10-07T07:43:09.009867Z"
        },
        "trusted": true,
        "colab": {
          "base_uri": "https://localhost:8080/",
          "height": 554
        },
        "id": "pMx9LaOuGo4t",
        "outputId": "349c61e8-fdd6-4343-fb5e-761bb6b1f605"
      },
      "execution_count": 5,
      "outputs": [
        {
          "output_type": "execute_result",
          "data": {
            "text/plain": [
              "   Rank                    Title                       Genre  \\\n",
              "0     1  Guardians of the Galaxy     Action,Adventure,Sci-Fi   \n",
              "1     2               Prometheus    Adventure,Mystery,Sci-Fi   \n",
              "2     3                    Split             Horror,Thriller   \n",
              "3     4                     Sing     Animation,Comedy,Family   \n",
              "4     5            Suicide Squad    Action,Adventure,Fantasy   \n",
              "5     6           The Great Wall    Action,Adventure,Fantasy   \n",
              "6     7               La La Land          Comedy,Drama,Music   \n",
              "7     8                 Mindhorn                      Comedy   \n",
              "8     9       The Lost City of Z  Action,Adventure,Biography   \n",
              "9    10               Passengers     Adventure,Drama,Romance   \n",
              "\n",
              "                                         Description              Director  \\\n",
              "0  A group of intergalactic criminals are forced ...            James Gunn   \n",
              "1  Following clues to the origin of mankind, a te...          Ridley Scott   \n",
              "2  Three girls are kidnapped by a man with a diag...    M. Night Shyamalan   \n",
              "3  In a city of humanoid animals, a hustling thea...  Christophe Lourdelet   \n",
              "4  A secret government agency recruits some of th...            David Ayer   \n",
              "5  European mercenaries searching for black powde...           Yimou Zhang   \n",
              "6  A jazz pianist falls for an aspiring actress i...       Damien Chazelle   \n",
              "7  A has-been actor best known for playing the ti...            Sean Foley   \n",
              "8  A true-life drama, centering on British explor...            James Gray   \n",
              "9  A spacecraft traveling to a distant colony pla...         Morten Tyldum   \n",
              "\n",
              "                                              Actors  Year  Runtime (Minutes)  \\\n",
              "0  Chris Pratt, Vin Diesel, Bradley Cooper, Zoe S...  2014                121   \n",
              "1  Noomi Rapace, Logan Marshall-Green, Michael Fa...  2012                124   \n",
              "2  James McAvoy, Anya Taylor-Joy, Haley Lu Richar...  2016                117   \n",
              "3  Matthew McConaughey,Reese Witherspoon, Seth Ma...  2016                108   \n",
              "4  Will Smith, Jared Leto, Margot Robbie, Viola D...  2016                123   \n",
              "5      Matt Damon, Tian Jing, Willem Dafoe, Andy Lau  2016                103   \n",
              "6  Ryan Gosling, Emma Stone, Rosemarie DeWitt, J....  2016                128   \n",
              "7  Essie Davis, Andrea Riseborough, Julian Barrat...  2016                 89   \n",
              "8  Charlie Hunnam, Robert Pattinson, Sienna Mille...  2016                141   \n",
              "9  Jennifer Lawrence, Chris Pratt, Michael Sheen,...  2016                116   \n",
              "\n",
              "   Rating   Votes  Revenue (Millions)  Metascore  \n",
              "0     8.1  757074              333.13       76.0  \n",
              "1     7.0  485820              126.46       65.0  \n",
              "2     7.3  157606              138.12       62.0  \n",
              "3     7.2   60545              270.32       59.0  \n",
              "4     6.2  393727              325.02       40.0  \n",
              "5     6.1   56036               45.13       42.0  \n",
              "6     8.3  258682              151.06       93.0  \n",
              "7     6.4    2490                 NaN       71.0  \n",
              "8     7.1    7188                8.01       78.0  \n",
              "9     7.0  192177              100.01       41.0  "
            ],
            "text/html": [
              "\n",
              "  <div id=\"df-468db04a-1ff4-4dc3-ba91-c7006000abc1\" class=\"colab-df-container\">\n",
              "    <div>\n",
              "<style scoped>\n",
              "    .dataframe tbody tr th:only-of-type {\n",
              "        vertical-align: middle;\n",
              "    }\n",
              "\n",
              "    .dataframe tbody tr th {\n",
              "        vertical-align: top;\n",
              "    }\n",
              "\n",
              "    .dataframe thead th {\n",
              "        text-align: right;\n",
              "    }\n",
              "</style>\n",
              "<table border=\"1\" class=\"dataframe\">\n",
              "  <thead>\n",
              "    <tr style=\"text-align: right;\">\n",
              "      <th></th>\n",
              "      <th>Rank</th>\n",
              "      <th>Title</th>\n",
              "      <th>Genre</th>\n",
              "      <th>Description</th>\n",
              "      <th>Director</th>\n",
              "      <th>Actors</th>\n",
              "      <th>Year</th>\n",
              "      <th>Runtime (Minutes)</th>\n",
              "      <th>Rating</th>\n",
              "      <th>Votes</th>\n",
              "      <th>Revenue (Millions)</th>\n",
              "      <th>Metascore</th>\n",
              "    </tr>\n",
              "  </thead>\n",
              "  <tbody>\n",
              "    <tr>\n",
              "      <th>0</th>\n",
              "      <td>1</td>\n",
              "      <td>Guardians of the Galaxy</td>\n",
              "      <td>Action,Adventure,Sci-Fi</td>\n",
              "      <td>A group of intergalactic criminals are forced ...</td>\n",
              "      <td>James Gunn</td>\n",
              "      <td>Chris Pratt, Vin Diesel, Bradley Cooper, Zoe S...</td>\n",
              "      <td>2014</td>\n",
              "      <td>121</td>\n",
              "      <td>8.1</td>\n",
              "      <td>757074</td>\n",
              "      <td>333.13</td>\n",
              "      <td>76.0</td>\n",
              "    </tr>\n",
              "    <tr>\n",
              "      <th>1</th>\n",
              "      <td>2</td>\n",
              "      <td>Prometheus</td>\n",
              "      <td>Adventure,Mystery,Sci-Fi</td>\n",
              "      <td>Following clues to the origin of mankind, a te...</td>\n",
              "      <td>Ridley Scott</td>\n",
              "      <td>Noomi Rapace, Logan Marshall-Green, Michael Fa...</td>\n",
              "      <td>2012</td>\n",
              "      <td>124</td>\n",
              "      <td>7.0</td>\n",
              "      <td>485820</td>\n",
              "      <td>126.46</td>\n",
              "      <td>65.0</td>\n",
              "    </tr>\n",
              "    <tr>\n",
              "      <th>2</th>\n",
              "      <td>3</td>\n",
              "      <td>Split</td>\n",
              "      <td>Horror,Thriller</td>\n",
              "      <td>Three girls are kidnapped by a man with a diag...</td>\n",
              "      <td>M. Night Shyamalan</td>\n",
              "      <td>James McAvoy, Anya Taylor-Joy, Haley Lu Richar...</td>\n",
              "      <td>2016</td>\n",
              "      <td>117</td>\n",
              "      <td>7.3</td>\n",
              "      <td>157606</td>\n",
              "      <td>138.12</td>\n",
              "      <td>62.0</td>\n",
              "    </tr>\n",
              "    <tr>\n",
              "      <th>3</th>\n",
              "      <td>4</td>\n",
              "      <td>Sing</td>\n",
              "      <td>Animation,Comedy,Family</td>\n",
              "      <td>In a city of humanoid animals, a hustling thea...</td>\n",
              "      <td>Christophe Lourdelet</td>\n",
              "      <td>Matthew McConaughey,Reese Witherspoon, Seth Ma...</td>\n",
              "      <td>2016</td>\n",
              "      <td>108</td>\n",
              "      <td>7.2</td>\n",
              "      <td>60545</td>\n",
              "      <td>270.32</td>\n",
              "      <td>59.0</td>\n",
              "    </tr>\n",
              "    <tr>\n",
              "      <th>4</th>\n",
              "      <td>5</td>\n",
              "      <td>Suicide Squad</td>\n",
              "      <td>Action,Adventure,Fantasy</td>\n",
              "      <td>A secret government agency recruits some of th...</td>\n",
              "      <td>David Ayer</td>\n",
              "      <td>Will Smith, Jared Leto, Margot Robbie, Viola D...</td>\n",
              "      <td>2016</td>\n",
              "      <td>123</td>\n",
              "      <td>6.2</td>\n",
              "      <td>393727</td>\n",
              "      <td>325.02</td>\n",
              "      <td>40.0</td>\n",
              "    </tr>\n",
              "    <tr>\n",
              "      <th>5</th>\n",
              "      <td>6</td>\n",
              "      <td>The Great Wall</td>\n",
              "      <td>Action,Adventure,Fantasy</td>\n",
              "      <td>European mercenaries searching for black powde...</td>\n",
              "      <td>Yimou Zhang</td>\n",
              "      <td>Matt Damon, Tian Jing, Willem Dafoe, Andy Lau</td>\n",
              "      <td>2016</td>\n",
              "      <td>103</td>\n",
              "      <td>6.1</td>\n",
              "      <td>56036</td>\n",
              "      <td>45.13</td>\n",
              "      <td>42.0</td>\n",
              "    </tr>\n",
              "    <tr>\n",
              "      <th>6</th>\n",
              "      <td>7</td>\n",
              "      <td>La La Land</td>\n",
              "      <td>Comedy,Drama,Music</td>\n",
              "      <td>A jazz pianist falls for an aspiring actress i...</td>\n",
              "      <td>Damien Chazelle</td>\n",
              "      <td>Ryan Gosling, Emma Stone, Rosemarie DeWitt, J....</td>\n",
              "      <td>2016</td>\n",
              "      <td>128</td>\n",
              "      <td>8.3</td>\n",
              "      <td>258682</td>\n",
              "      <td>151.06</td>\n",
              "      <td>93.0</td>\n",
              "    </tr>\n",
              "    <tr>\n",
              "      <th>7</th>\n",
              "      <td>8</td>\n",
              "      <td>Mindhorn</td>\n",
              "      <td>Comedy</td>\n",
              "      <td>A has-been actor best known for playing the ti...</td>\n",
              "      <td>Sean Foley</td>\n",
              "      <td>Essie Davis, Andrea Riseborough, Julian Barrat...</td>\n",
              "      <td>2016</td>\n",
              "      <td>89</td>\n",
              "      <td>6.4</td>\n",
              "      <td>2490</td>\n",
              "      <td>NaN</td>\n",
              "      <td>71.0</td>\n",
              "    </tr>\n",
              "    <tr>\n",
              "      <th>8</th>\n",
              "      <td>9</td>\n",
              "      <td>The Lost City of Z</td>\n",
              "      <td>Action,Adventure,Biography</td>\n",
              "      <td>A true-life drama, centering on British explor...</td>\n",
              "      <td>James Gray</td>\n",
              "      <td>Charlie Hunnam, Robert Pattinson, Sienna Mille...</td>\n",
              "      <td>2016</td>\n",
              "      <td>141</td>\n",
              "      <td>7.1</td>\n",
              "      <td>7188</td>\n",
              "      <td>8.01</td>\n",
              "      <td>78.0</td>\n",
              "    </tr>\n",
              "    <tr>\n",
              "      <th>9</th>\n",
              "      <td>10</td>\n",
              "      <td>Passengers</td>\n",
              "      <td>Adventure,Drama,Romance</td>\n",
              "      <td>A spacecraft traveling to a distant colony pla...</td>\n",
              "      <td>Morten Tyldum</td>\n",
              "      <td>Jennifer Lawrence, Chris Pratt, Michael Sheen,...</td>\n",
              "      <td>2016</td>\n",
              "      <td>116</td>\n",
              "      <td>7.0</td>\n",
              "      <td>192177</td>\n",
              "      <td>100.01</td>\n",
              "      <td>41.0</td>\n",
              "    </tr>\n",
              "  </tbody>\n",
              "</table>\n",
              "</div>\n",
              "    <div class=\"colab-df-buttons\">\n",
              "\n",
              "  <div class=\"colab-df-container\">\n",
              "    <button class=\"colab-df-convert\" onclick=\"convertToInteractive('df-468db04a-1ff4-4dc3-ba91-c7006000abc1')\"\n",
              "            title=\"Convert this dataframe to an interactive table.\"\n",
              "            style=\"display:none;\">\n",
              "\n",
              "  <svg xmlns=\"http://www.w3.org/2000/svg\" height=\"24px\" viewBox=\"0 -960 960 960\">\n",
              "    <path d=\"M120-120v-720h720v720H120Zm60-500h600v-160H180v160Zm220 220h160v-160H400v160Zm0 220h160v-160H400v160ZM180-400h160v-160H180v160Zm440 0h160v-160H620v160ZM180-180h160v-160H180v160Zm440 0h160v-160H620v160Z\"/>\n",
              "  </svg>\n",
              "    </button>\n",
              "\n",
              "  <style>\n",
              "    .colab-df-container {\n",
              "      display:flex;\n",
              "      gap: 12px;\n",
              "    }\n",
              "\n",
              "    .colab-df-convert {\n",
              "      background-color: #E8F0FE;\n",
              "      border: none;\n",
              "      border-radius: 50%;\n",
              "      cursor: pointer;\n",
              "      display: none;\n",
              "      fill: #1967D2;\n",
              "      height: 32px;\n",
              "      padding: 0 0 0 0;\n",
              "      width: 32px;\n",
              "    }\n",
              "\n",
              "    .colab-df-convert:hover {\n",
              "      background-color: #E2EBFA;\n",
              "      box-shadow: 0px 1px 2px rgba(60, 64, 67, 0.3), 0px 1px 3px 1px rgba(60, 64, 67, 0.15);\n",
              "      fill: #174EA6;\n",
              "    }\n",
              "\n",
              "    .colab-df-buttons div {\n",
              "      margin-bottom: 4px;\n",
              "    }\n",
              "\n",
              "    [theme=dark] .colab-df-convert {\n",
              "      background-color: #3B4455;\n",
              "      fill: #D2E3FC;\n",
              "    }\n",
              "\n",
              "    [theme=dark] .colab-df-convert:hover {\n",
              "      background-color: #434B5C;\n",
              "      box-shadow: 0px 1px 3px 1px rgba(0, 0, 0, 0.15);\n",
              "      filter: drop-shadow(0px 1px 2px rgba(0, 0, 0, 0.3));\n",
              "      fill: #FFFFFF;\n",
              "    }\n",
              "  </style>\n",
              "\n",
              "    <script>\n",
              "      const buttonEl =\n",
              "        document.querySelector('#df-468db04a-1ff4-4dc3-ba91-c7006000abc1 button.colab-df-convert');\n",
              "      buttonEl.style.display =\n",
              "        google.colab.kernel.accessAllowed ? 'block' : 'none';\n",
              "\n",
              "      async function convertToInteractive(key) {\n",
              "        const element = document.querySelector('#df-468db04a-1ff4-4dc3-ba91-c7006000abc1');\n",
              "        const dataTable =\n",
              "          await google.colab.kernel.invokeFunction('convertToInteractive',\n",
              "                                                    [key], {});\n",
              "        if (!dataTable) return;\n",
              "\n",
              "        const docLinkHtml = 'Like what you see? Visit the ' +\n",
              "          '<a target=\"_blank\" href=https://colab.research.google.com/notebooks/data_table.ipynb>data table notebook</a>'\n",
              "          + ' to learn more about interactive tables.';\n",
              "        element.innerHTML = '';\n",
              "        dataTable['output_type'] = 'display_data';\n",
              "        await google.colab.output.renderOutput(dataTable, element);\n",
              "        const docLink = document.createElement('div');\n",
              "        docLink.innerHTML = docLinkHtml;\n",
              "        element.appendChild(docLink);\n",
              "      }\n",
              "    </script>\n",
              "  </div>\n",
              "\n",
              "\n",
              "<div id=\"df-d5c4b720-ca06-44b5-9217-dd27410bae47\">\n",
              "  <button class=\"colab-df-quickchart\" onclick=\"quickchart('df-d5c4b720-ca06-44b5-9217-dd27410bae47')\"\n",
              "            title=\"Suggest charts\"\n",
              "            style=\"display:none;\">\n",
              "\n",
              "<svg xmlns=\"http://www.w3.org/2000/svg\" height=\"24px\"viewBox=\"0 0 24 24\"\n",
              "     width=\"24px\">\n",
              "    <g>\n",
              "        <path d=\"M19 3H5c-1.1 0-2 .9-2 2v14c0 1.1.9 2 2 2h14c1.1 0 2-.9 2-2V5c0-1.1-.9-2-2-2zM9 17H7v-7h2v7zm4 0h-2V7h2v10zm4 0h-2v-4h2v4z\"/>\n",
              "    </g>\n",
              "</svg>\n",
              "  </button>\n",
              "\n",
              "<style>\n",
              "  .colab-df-quickchart {\n",
              "      --bg-color: #E8F0FE;\n",
              "      --fill-color: #1967D2;\n",
              "      --hover-bg-color: #E2EBFA;\n",
              "      --hover-fill-color: #174EA6;\n",
              "      --disabled-fill-color: #AAA;\n",
              "      --disabled-bg-color: #DDD;\n",
              "  }\n",
              "\n",
              "  [theme=dark] .colab-df-quickchart {\n",
              "      --bg-color: #3B4455;\n",
              "      --fill-color: #D2E3FC;\n",
              "      --hover-bg-color: #434B5C;\n",
              "      --hover-fill-color: #FFFFFF;\n",
              "      --disabled-bg-color: #3B4455;\n",
              "      --disabled-fill-color: #666;\n",
              "  }\n",
              "\n",
              "  .colab-df-quickchart {\n",
              "    background-color: var(--bg-color);\n",
              "    border: none;\n",
              "    border-radius: 50%;\n",
              "    cursor: pointer;\n",
              "    display: none;\n",
              "    fill: var(--fill-color);\n",
              "    height: 32px;\n",
              "    padding: 0;\n",
              "    width: 32px;\n",
              "  }\n",
              "\n",
              "  .colab-df-quickchart:hover {\n",
              "    background-color: var(--hover-bg-color);\n",
              "    box-shadow: 0 1px 2px rgba(60, 64, 67, 0.3), 0 1px 3px 1px rgba(60, 64, 67, 0.15);\n",
              "    fill: var(--button-hover-fill-color);\n",
              "  }\n",
              "\n",
              "  .colab-df-quickchart-complete:disabled,\n",
              "  .colab-df-quickchart-complete:disabled:hover {\n",
              "    background-color: var(--disabled-bg-color);\n",
              "    fill: var(--disabled-fill-color);\n",
              "    box-shadow: none;\n",
              "  }\n",
              "\n",
              "  .colab-df-spinner {\n",
              "    border: 2px solid var(--fill-color);\n",
              "    border-color: transparent;\n",
              "    border-bottom-color: var(--fill-color);\n",
              "    animation:\n",
              "      spin 1s steps(1) infinite;\n",
              "  }\n",
              "\n",
              "  @keyframes spin {\n",
              "    0% {\n",
              "      border-color: transparent;\n",
              "      border-bottom-color: var(--fill-color);\n",
              "      border-left-color: var(--fill-color);\n",
              "    }\n",
              "    20% {\n",
              "      border-color: transparent;\n",
              "      border-left-color: var(--fill-color);\n",
              "      border-top-color: var(--fill-color);\n",
              "    }\n",
              "    30% {\n",
              "      border-color: transparent;\n",
              "      border-left-color: var(--fill-color);\n",
              "      border-top-color: var(--fill-color);\n",
              "      border-right-color: var(--fill-color);\n",
              "    }\n",
              "    40% {\n",
              "      border-color: transparent;\n",
              "      border-right-color: var(--fill-color);\n",
              "      border-top-color: var(--fill-color);\n",
              "    }\n",
              "    60% {\n",
              "      border-color: transparent;\n",
              "      border-right-color: var(--fill-color);\n",
              "    }\n",
              "    80% {\n",
              "      border-color: transparent;\n",
              "      border-right-color: var(--fill-color);\n",
              "      border-bottom-color: var(--fill-color);\n",
              "    }\n",
              "    90% {\n",
              "      border-color: transparent;\n",
              "      border-bottom-color: var(--fill-color);\n",
              "    }\n",
              "  }\n",
              "</style>\n",
              "\n",
              "  <script>\n",
              "    async function quickchart(key) {\n",
              "      const quickchartButtonEl =\n",
              "        document.querySelector('#' + key + ' button');\n",
              "      quickchartButtonEl.disabled = true;  // To prevent multiple clicks.\n",
              "      quickchartButtonEl.classList.add('colab-df-spinner');\n",
              "      try {\n",
              "        const charts = await google.colab.kernel.invokeFunction(\n",
              "            'suggestCharts', [key], {});\n",
              "      } catch (error) {\n",
              "        console.error('Error during call to suggestCharts:', error);\n",
              "      }\n",
              "      quickchartButtonEl.classList.remove('colab-df-spinner');\n",
              "      quickchartButtonEl.classList.add('colab-df-quickchart-complete');\n",
              "    }\n",
              "    (() => {\n",
              "      let quickchartButtonEl =\n",
              "        document.querySelector('#df-d5c4b720-ca06-44b5-9217-dd27410bae47 button');\n",
              "      quickchartButtonEl.style.display =\n",
              "        google.colab.kernel.accessAllowed ? 'block' : 'none';\n",
              "    })();\n",
              "  </script>\n",
              "</div>\n",
              "\n",
              "    </div>\n",
              "  </div>\n"
            ],
            "application/vnd.google.colaboratory.intrinsic+json": {
              "type": "dataframe",
              "variable_name": "data",
              "summary": "{\n  \"name\": \"data\",\n  \"rows\": 1000,\n  \"fields\": [\n    {\n      \"column\": \"Rank\",\n      \"properties\": {\n        \"dtype\": \"number\",\n        \"std\": 288,\n        \"min\": 1,\n        \"max\": 1000,\n        \"num_unique_values\": 1000,\n        \"samples\": [\n          522,\n          738,\n          741\n        ],\n        \"semantic_type\": \"\",\n        \"description\": \"\"\n      }\n    },\n    {\n      \"column\": \"Title\",\n      \"properties\": {\n        \"dtype\": \"string\",\n        \"num_unique_values\": 999,\n        \"samples\": [\n          \"Olympus Has Fallen\",\n          \"Man on a Ledge\",\n          \"The Girl with All the Gifts\"\n        ],\n        \"semantic_type\": \"\",\n        \"description\": \"\"\n      }\n    },\n    {\n      \"column\": \"Genre\",\n      \"properties\": {\n        \"dtype\": \"category\",\n        \"num_unique_values\": 207,\n        \"samples\": [\n          \"Mystery,Romance,Sci-Fi\",\n          \"Drama,Mystery,Sci-Fi\",\n          \"Drama,Mystery,Romance\"\n        ],\n        \"semantic_type\": \"\",\n        \"description\": \"\"\n      }\n    },\n    {\n      \"column\": \"Description\",\n      \"properties\": {\n        \"dtype\": \"string\",\n        \"num_unique_values\": 1000,\n        \"samples\": [\n          \"A lawyer finds himself in over his head when he gets involved in drug trafficking.\",\n          \"A CIA agent on the ground in Jordan hunts down a powerful terrorist leader while being caught between the unclear intentions of his American supervisors and Jordan Intelligence.\",\n          \"A titan of industry is sent to prison after she's caught insider trading. When she emerges ready to rebrand herself as America's latest sweetheart, not everyone she screwed over is so quick to forgive and forget.\"\n        ],\n        \"semantic_type\": \"\",\n        \"description\": \"\"\n      }\n    },\n    {\n      \"column\": \"Director\",\n      \"properties\": {\n        \"dtype\": \"string\",\n        \"num_unique_values\": 644,\n        \"samples\": [\n          \"Patricia Riggen\",\n          \"Gregory Wilson\",\n          \"Chris McCoy\"\n        ],\n        \"semantic_type\": \"\",\n        \"description\": \"\"\n      }\n    },\n    {\n      \"column\": \"Actors\",\n      \"properties\": {\n        \"dtype\": \"string\",\n        \"num_unique_values\": 996,\n        \"samples\": [\n          \"Adrian Titieni, Maria-Victoria Dragus, Lia Bugnar,Malina Manovici\",\n          \"Madina Nalwanga, David Oyelowo, Lupita Nyong'o, Martin Kabanza\",\n          \"Ry\\u00fbnosuke Kamiki, Mone Kamishiraishi, Ry\\u00f4 Narita, Aoi Yuki\"\n        ],\n        \"semantic_type\": \"\",\n        \"description\": \"\"\n      }\n    },\n    {\n      \"column\": \"Year\",\n      \"properties\": {\n        \"dtype\": \"number\",\n        \"std\": 3,\n        \"min\": 2006,\n        \"max\": 2016,\n        \"num_unique_values\": 11,\n        \"samples\": [\n          2011,\n          2014,\n          2010\n        ],\n        \"semantic_type\": \"\",\n        \"description\": \"\"\n      }\n    },\n    {\n      \"column\": \"Runtime (Minutes)\",\n      \"properties\": {\n        \"dtype\": \"number\",\n        \"std\": 18,\n        \"min\": 66,\n        \"max\": 191,\n        \"num_unique_values\": 94,\n        \"samples\": [\n          106,\n          99,\n          146\n        ],\n        \"semantic_type\": \"\",\n        \"description\": \"\"\n      }\n    },\n    {\n      \"column\": \"Rating\",\n      \"properties\": {\n        \"dtype\": \"number\",\n        \"std\": 0.9454287892779634,\n        \"min\": 1.9,\n        \"max\": 9.0,\n        \"num_unique_values\": 55,\n        \"samples\": [\n          7.4,\n          6.1,\n          4.1\n        ],\n        \"semantic_type\": \"\",\n        \"description\": \"\"\n      }\n    },\n    {\n      \"column\": \"Votes\",\n      \"properties\": {\n        \"dtype\": \"number\",\n        \"std\": 188762,\n        \"min\": 61,\n        \"max\": 1791916,\n        \"num_unique_values\": 997,\n        \"samples\": [\n          214994,\n          4370,\n          23713\n        ],\n        \"semantic_type\": \"\",\n        \"description\": \"\"\n      }\n    },\n    {\n      \"column\": \"Revenue (Millions)\",\n      \"properties\": {\n        \"dtype\": \"number\",\n        \"std\": 103.25354047492472,\n        \"min\": 0.0,\n        \"max\": 936.63,\n        \"num_unique_values\": 814,\n        \"samples\": [\n          89.02,\n          23.23,\n          202.85\n        ],\n        \"semantic_type\": \"\",\n        \"description\": \"\"\n      }\n    },\n    {\n      \"column\": \"Metascore\",\n      \"properties\": {\n        \"dtype\": \"number\",\n        \"std\": 17.194757023263833,\n        \"min\": 11.0,\n        \"max\": 100.0,\n        \"num_unique_values\": 84,\n        \"samples\": [\n          27.0,\n          76.0,\n          47.0\n        ],\n        \"semantic_type\": \"\",\n        \"description\": \"\"\n      }\n    }\n  ]\n}"
            }
          },
          "metadata": {},
          "execution_count": 5
        }
      ]
    },
    {
      "cell_type": "markdown",
      "source": [
        "# 2. Check Last 10 Rows of The Dataset"
      ],
      "metadata": {
        "id": "ZWieqRUfGo4u"
      }
    },
    {
      "cell_type": "code",
      "source": [
        "data.tail(10)"
      ],
      "metadata": {
        "execution": {
          "iopub.status.busy": "2022-10-07T07:43:09.386202Z",
          "iopub.execute_input": "2022-10-07T07:43:09.386594Z",
          "iopub.status.idle": "2022-10-07T07:43:09.410216Z",
          "shell.execute_reply.started": "2022-10-07T07:43:09.386565Z",
          "shell.execute_reply": "2022-10-07T07:43:09.409117Z"
        },
        "trusted": true,
        "colab": {
          "base_uri": "https://localhost:8080/",
          "height": 554
        },
        "id": "Y7L2muliGo4u",
        "outputId": "02e91ded-3b12-4301-b40c-205bac2be678"
      },
      "execution_count": 6,
      "outputs": [
        {
          "output_type": "execute_result",
          "data": {
            "text/plain": [
              "     Rank                           Title                     Genre  \\\n",
              "990   991  Underworld: Rise of the Lycans  Action,Adventure,Fantasy   \n",
              "991   992                Taare Zameen Par        Drama,Family,Music   \n",
              "992   993            Take Me Home Tonight      Comedy,Drama,Romance   \n",
              "993   994        Resident Evil: Afterlife   Action,Adventure,Horror   \n",
              "994   995                       Project X                    Comedy   \n",
              "995   996            Secret in Their Eyes       Crime,Drama,Mystery   \n",
              "996   997                 Hostel: Part II                    Horror   \n",
              "997   998          Step Up 2: The Streets       Drama,Music,Romance   \n",
              "998   999                    Search Party          Adventure,Comedy   \n",
              "999  1000                      Nine Lives     Comedy,Family,Fantasy   \n",
              "\n",
              "                                           Description            Director  \\\n",
              "990  An origins story centered on the centuries-old...  Patrick Tatopoulos   \n",
              "991  An eight-year-old boy is thought to be a lazy ...          Aamir Khan   \n",
              "992  Four years after graduation, an awkward high s...       Michael Dowse   \n",
              "993  While still out to destroy the evil Umbrella C...  Paul W.S. Anderson   \n",
              "994  3 high school seniors throw a birthday party t...     Nima Nourizadeh   \n",
              "995  A tight-knit team of rising investigators, alo...           Billy Ray   \n",
              "996  Three American college students studying abroa...            Eli Roth   \n",
              "997  Romantic sparks occur between two dance studen...          Jon M. Chu   \n",
              "998  A pair of friends embark on a mission to reuni...      Scot Armstrong   \n",
              "999  A stuffy businessman finds himself trapped ins...    Barry Sonnenfeld   \n",
              "\n",
              "                                                Actors  Year  \\\n",
              "990  Rhona Mitra, Michael Sheen, Bill Nighy, Steven...  2009   \n",
              "991  Darsheel Safary, Aamir Khan, Tanay Chheda, Sac...  2007   \n",
              "992  Topher Grace, Anna Faris, Dan Fogler, Teresa P...  2011   \n",
              "993  Milla Jovovich, Ali Larter, Wentworth Miller,K...  2010   \n",
              "994  Thomas Mann, Oliver Cooper, Jonathan Daniel Br...  2012   \n",
              "995  Chiwetel Ejiofor, Nicole Kidman, Julia Roberts...  2015   \n",
              "996  Lauren German, Heather Matarazzo, Bijou Philli...  2007   \n",
              "997  Robert Hoffman, Briana Evigan, Cassie Ventura,...  2008   \n",
              "998  Adam Pally, T.J. Miller, Thomas Middleditch,Sh...  2014   \n",
              "999  Kevin Spacey, Jennifer Garner, Robbie Amell,Ch...  2016   \n",
              "\n",
              "     Runtime (Minutes)  Rating   Votes  Revenue (Millions)  Metascore  \n",
              "990                 92     6.6  129708               45.80       44.0  \n",
              "991                165     8.5  102697                1.20       42.0  \n",
              "992                 97     6.3   45419                6.92        NaN  \n",
              "993                 97     5.9  140900               60.13       37.0  \n",
              "994                 88     6.7  164088               54.72       48.0  \n",
              "995                111     6.2   27585                 NaN       45.0  \n",
              "996                 94     5.5   73152               17.54       46.0  \n",
              "997                 98     6.2   70699               58.01       50.0  \n",
              "998                 93     5.6    4881                 NaN       22.0  \n",
              "999                 87     5.3   12435               19.64       11.0  "
            ],
            "text/html": [
              "\n",
              "  <div id=\"df-ae903d17-0181-48e1-a79d-75a888a2d261\" class=\"colab-df-container\">\n",
              "    <div>\n",
              "<style scoped>\n",
              "    .dataframe tbody tr th:only-of-type {\n",
              "        vertical-align: middle;\n",
              "    }\n",
              "\n",
              "    .dataframe tbody tr th {\n",
              "        vertical-align: top;\n",
              "    }\n",
              "\n",
              "    .dataframe thead th {\n",
              "        text-align: right;\n",
              "    }\n",
              "</style>\n",
              "<table border=\"1\" class=\"dataframe\">\n",
              "  <thead>\n",
              "    <tr style=\"text-align: right;\">\n",
              "      <th></th>\n",
              "      <th>Rank</th>\n",
              "      <th>Title</th>\n",
              "      <th>Genre</th>\n",
              "      <th>Description</th>\n",
              "      <th>Director</th>\n",
              "      <th>Actors</th>\n",
              "      <th>Year</th>\n",
              "      <th>Runtime (Minutes)</th>\n",
              "      <th>Rating</th>\n",
              "      <th>Votes</th>\n",
              "      <th>Revenue (Millions)</th>\n",
              "      <th>Metascore</th>\n",
              "    </tr>\n",
              "  </thead>\n",
              "  <tbody>\n",
              "    <tr>\n",
              "      <th>990</th>\n",
              "      <td>991</td>\n",
              "      <td>Underworld: Rise of the Lycans</td>\n",
              "      <td>Action,Adventure,Fantasy</td>\n",
              "      <td>An origins story centered on the centuries-old...</td>\n",
              "      <td>Patrick Tatopoulos</td>\n",
              "      <td>Rhona Mitra, Michael Sheen, Bill Nighy, Steven...</td>\n",
              "      <td>2009</td>\n",
              "      <td>92</td>\n",
              "      <td>6.6</td>\n",
              "      <td>129708</td>\n",
              "      <td>45.80</td>\n",
              "      <td>44.0</td>\n",
              "    </tr>\n",
              "    <tr>\n",
              "      <th>991</th>\n",
              "      <td>992</td>\n",
              "      <td>Taare Zameen Par</td>\n",
              "      <td>Drama,Family,Music</td>\n",
              "      <td>An eight-year-old boy is thought to be a lazy ...</td>\n",
              "      <td>Aamir Khan</td>\n",
              "      <td>Darsheel Safary, Aamir Khan, Tanay Chheda, Sac...</td>\n",
              "      <td>2007</td>\n",
              "      <td>165</td>\n",
              "      <td>8.5</td>\n",
              "      <td>102697</td>\n",
              "      <td>1.20</td>\n",
              "      <td>42.0</td>\n",
              "    </tr>\n",
              "    <tr>\n",
              "      <th>992</th>\n",
              "      <td>993</td>\n",
              "      <td>Take Me Home Tonight</td>\n",
              "      <td>Comedy,Drama,Romance</td>\n",
              "      <td>Four years after graduation, an awkward high s...</td>\n",
              "      <td>Michael Dowse</td>\n",
              "      <td>Topher Grace, Anna Faris, Dan Fogler, Teresa P...</td>\n",
              "      <td>2011</td>\n",
              "      <td>97</td>\n",
              "      <td>6.3</td>\n",
              "      <td>45419</td>\n",
              "      <td>6.92</td>\n",
              "      <td>NaN</td>\n",
              "    </tr>\n",
              "    <tr>\n",
              "      <th>993</th>\n",
              "      <td>994</td>\n",
              "      <td>Resident Evil: Afterlife</td>\n",
              "      <td>Action,Adventure,Horror</td>\n",
              "      <td>While still out to destroy the evil Umbrella C...</td>\n",
              "      <td>Paul W.S. Anderson</td>\n",
              "      <td>Milla Jovovich, Ali Larter, Wentworth Miller,K...</td>\n",
              "      <td>2010</td>\n",
              "      <td>97</td>\n",
              "      <td>5.9</td>\n",
              "      <td>140900</td>\n",
              "      <td>60.13</td>\n",
              "      <td>37.0</td>\n",
              "    </tr>\n",
              "    <tr>\n",
              "      <th>994</th>\n",
              "      <td>995</td>\n",
              "      <td>Project X</td>\n",
              "      <td>Comedy</td>\n",
              "      <td>3 high school seniors throw a birthday party t...</td>\n",
              "      <td>Nima Nourizadeh</td>\n",
              "      <td>Thomas Mann, Oliver Cooper, Jonathan Daniel Br...</td>\n",
              "      <td>2012</td>\n",
              "      <td>88</td>\n",
              "      <td>6.7</td>\n",
              "      <td>164088</td>\n",
              "      <td>54.72</td>\n",
              "      <td>48.0</td>\n",
              "    </tr>\n",
              "    <tr>\n",
              "      <th>995</th>\n",
              "      <td>996</td>\n",
              "      <td>Secret in Their Eyes</td>\n",
              "      <td>Crime,Drama,Mystery</td>\n",
              "      <td>A tight-knit team of rising investigators, alo...</td>\n",
              "      <td>Billy Ray</td>\n",
              "      <td>Chiwetel Ejiofor, Nicole Kidman, Julia Roberts...</td>\n",
              "      <td>2015</td>\n",
              "      <td>111</td>\n",
              "      <td>6.2</td>\n",
              "      <td>27585</td>\n",
              "      <td>NaN</td>\n",
              "      <td>45.0</td>\n",
              "    </tr>\n",
              "    <tr>\n",
              "      <th>996</th>\n",
              "      <td>997</td>\n",
              "      <td>Hostel: Part II</td>\n",
              "      <td>Horror</td>\n",
              "      <td>Three American college students studying abroa...</td>\n",
              "      <td>Eli Roth</td>\n",
              "      <td>Lauren German, Heather Matarazzo, Bijou Philli...</td>\n",
              "      <td>2007</td>\n",
              "      <td>94</td>\n",
              "      <td>5.5</td>\n",
              "      <td>73152</td>\n",
              "      <td>17.54</td>\n",
              "      <td>46.0</td>\n",
              "    </tr>\n",
              "    <tr>\n",
              "      <th>997</th>\n",
              "      <td>998</td>\n",
              "      <td>Step Up 2: The Streets</td>\n",
              "      <td>Drama,Music,Romance</td>\n",
              "      <td>Romantic sparks occur between two dance studen...</td>\n",
              "      <td>Jon M. Chu</td>\n",
              "      <td>Robert Hoffman, Briana Evigan, Cassie Ventura,...</td>\n",
              "      <td>2008</td>\n",
              "      <td>98</td>\n",
              "      <td>6.2</td>\n",
              "      <td>70699</td>\n",
              "      <td>58.01</td>\n",
              "      <td>50.0</td>\n",
              "    </tr>\n",
              "    <tr>\n",
              "      <th>998</th>\n",
              "      <td>999</td>\n",
              "      <td>Search Party</td>\n",
              "      <td>Adventure,Comedy</td>\n",
              "      <td>A pair of friends embark on a mission to reuni...</td>\n",
              "      <td>Scot Armstrong</td>\n",
              "      <td>Adam Pally, T.J. Miller, Thomas Middleditch,Sh...</td>\n",
              "      <td>2014</td>\n",
              "      <td>93</td>\n",
              "      <td>5.6</td>\n",
              "      <td>4881</td>\n",
              "      <td>NaN</td>\n",
              "      <td>22.0</td>\n",
              "    </tr>\n",
              "    <tr>\n",
              "      <th>999</th>\n",
              "      <td>1000</td>\n",
              "      <td>Nine Lives</td>\n",
              "      <td>Comedy,Family,Fantasy</td>\n",
              "      <td>A stuffy businessman finds himself trapped ins...</td>\n",
              "      <td>Barry Sonnenfeld</td>\n",
              "      <td>Kevin Spacey, Jennifer Garner, Robbie Amell,Ch...</td>\n",
              "      <td>2016</td>\n",
              "      <td>87</td>\n",
              "      <td>5.3</td>\n",
              "      <td>12435</td>\n",
              "      <td>19.64</td>\n",
              "      <td>11.0</td>\n",
              "    </tr>\n",
              "  </tbody>\n",
              "</table>\n",
              "</div>\n",
              "    <div class=\"colab-df-buttons\">\n",
              "\n",
              "  <div class=\"colab-df-container\">\n",
              "    <button class=\"colab-df-convert\" onclick=\"convertToInteractive('df-ae903d17-0181-48e1-a79d-75a888a2d261')\"\n",
              "            title=\"Convert this dataframe to an interactive table.\"\n",
              "            style=\"display:none;\">\n",
              "\n",
              "  <svg xmlns=\"http://www.w3.org/2000/svg\" height=\"24px\" viewBox=\"0 -960 960 960\">\n",
              "    <path d=\"M120-120v-720h720v720H120Zm60-500h600v-160H180v160Zm220 220h160v-160H400v160Zm0 220h160v-160H400v160ZM180-400h160v-160H180v160Zm440 0h160v-160H620v160ZM180-180h160v-160H180v160Zm440 0h160v-160H620v160Z\"/>\n",
              "  </svg>\n",
              "    </button>\n",
              "\n",
              "  <style>\n",
              "    .colab-df-container {\n",
              "      display:flex;\n",
              "      gap: 12px;\n",
              "    }\n",
              "\n",
              "    .colab-df-convert {\n",
              "      background-color: #E8F0FE;\n",
              "      border: none;\n",
              "      border-radius: 50%;\n",
              "      cursor: pointer;\n",
              "      display: none;\n",
              "      fill: #1967D2;\n",
              "      height: 32px;\n",
              "      padding: 0 0 0 0;\n",
              "      width: 32px;\n",
              "    }\n",
              "\n",
              "    .colab-df-convert:hover {\n",
              "      background-color: #E2EBFA;\n",
              "      box-shadow: 0px 1px 2px rgba(60, 64, 67, 0.3), 0px 1px 3px 1px rgba(60, 64, 67, 0.15);\n",
              "      fill: #174EA6;\n",
              "    }\n",
              "\n",
              "    .colab-df-buttons div {\n",
              "      margin-bottom: 4px;\n",
              "    }\n",
              "\n",
              "    [theme=dark] .colab-df-convert {\n",
              "      background-color: #3B4455;\n",
              "      fill: #D2E3FC;\n",
              "    }\n",
              "\n",
              "    [theme=dark] .colab-df-convert:hover {\n",
              "      background-color: #434B5C;\n",
              "      box-shadow: 0px 1px 3px 1px rgba(0, 0, 0, 0.15);\n",
              "      filter: drop-shadow(0px 1px 2px rgba(0, 0, 0, 0.3));\n",
              "      fill: #FFFFFF;\n",
              "    }\n",
              "  </style>\n",
              "\n",
              "    <script>\n",
              "      const buttonEl =\n",
              "        document.querySelector('#df-ae903d17-0181-48e1-a79d-75a888a2d261 button.colab-df-convert');\n",
              "      buttonEl.style.display =\n",
              "        google.colab.kernel.accessAllowed ? 'block' : 'none';\n",
              "\n",
              "      async function convertToInteractive(key) {\n",
              "        const element = document.querySelector('#df-ae903d17-0181-48e1-a79d-75a888a2d261');\n",
              "        const dataTable =\n",
              "          await google.colab.kernel.invokeFunction('convertToInteractive',\n",
              "                                                    [key], {});\n",
              "        if (!dataTable) return;\n",
              "\n",
              "        const docLinkHtml = 'Like what you see? Visit the ' +\n",
              "          '<a target=\"_blank\" href=https://colab.research.google.com/notebooks/data_table.ipynb>data table notebook</a>'\n",
              "          + ' to learn more about interactive tables.';\n",
              "        element.innerHTML = '';\n",
              "        dataTable['output_type'] = 'display_data';\n",
              "        await google.colab.output.renderOutput(dataTable, element);\n",
              "        const docLink = document.createElement('div');\n",
              "        docLink.innerHTML = docLinkHtml;\n",
              "        element.appendChild(docLink);\n",
              "      }\n",
              "    </script>\n",
              "  </div>\n",
              "\n",
              "\n",
              "<div id=\"df-45ed09ac-c466-4c48-b7a7-2ab88a030a2b\">\n",
              "  <button class=\"colab-df-quickchart\" onclick=\"quickchart('df-45ed09ac-c466-4c48-b7a7-2ab88a030a2b')\"\n",
              "            title=\"Suggest charts\"\n",
              "            style=\"display:none;\">\n",
              "\n",
              "<svg xmlns=\"http://www.w3.org/2000/svg\" height=\"24px\"viewBox=\"0 0 24 24\"\n",
              "     width=\"24px\">\n",
              "    <g>\n",
              "        <path d=\"M19 3H5c-1.1 0-2 .9-2 2v14c0 1.1.9 2 2 2h14c1.1 0 2-.9 2-2V5c0-1.1-.9-2-2-2zM9 17H7v-7h2v7zm4 0h-2V7h2v10zm4 0h-2v-4h2v4z\"/>\n",
              "    </g>\n",
              "</svg>\n",
              "  </button>\n",
              "\n",
              "<style>\n",
              "  .colab-df-quickchart {\n",
              "      --bg-color: #E8F0FE;\n",
              "      --fill-color: #1967D2;\n",
              "      --hover-bg-color: #E2EBFA;\n",
              "      --hover-fill-color: #174EA6;\n",
              "      --disabled-fill-color: #AAA;\n",
              "      --disabled-bg-color: #DDD;\n",
              "  }\n",
              "\n",
              "  [theme=dark] .colab-df-quickchart {\n",
              "      --bg-color: #3B4455;\n",
              "      --fill-color: #D2E3FC;\n",
              "      --hover-bg-color: #434B5C;\n",
              "      --hover-fill-color: #FFFFFF;\n",
              "      --disabled-bg-color: #3B4455;\n",
              "      --disabled-fill-color: #666;\n",
              "  }\n",
              "\n",
              "  .colab-df-quickchart {\n",
              "    background-color: var(--bg-color);\n",
              "    border: none;\n",
              "    border-radius: 50%;\n",
              "    cursor: pointer;\n",
              "    display: none;\n",
              "    fill: var(--fill-color);\n",
              "    height: 32px;\n",
              "    padding: 0;\n",
              "    width: 32px;\n",
              "  }\n",
              "\n",
              "  .colab-df-quickchart:hover {\n",
              "    background-color: var(--hover-bg-color);\n",
              "    box-shadow: 0 1px 2px rgba(60, 64, 67, 0.3), 0 1px 3px 1px rgba(60, 64, 67, 0.15);\n",
              "    fill: var(--button-hover-fill-color);\n",
              "  }\n",
              "\n",
              "  .colab-df-quickchart-complete:disabled,\n",
              "  .colab-df-quickchart-complete:disabled:hover {\n",
              "    background-color: var(--disabled-bg-color);\n",
              "    fill: var(--disabled-fill-color);\n",
              "    box-shadow: none;\n",
              "  }\n",
              "\n",
              "  .colab-df-spinner {\n",
              "    border: 2px solid var(--fill-color);\n",
              "    border-color: transparent;\n",
              "    border-bottom-color: var(--fill-color);\n",
              "    animation:\n",
              "      spin 1s steps(1) infinite;\n",
              "  }\n",
              "\n",
              "  @keyframes spin {\n",
              "    0% {\n",
              "      border-color: transparent;\n",
              "      border-bottom-color: var(--fill-color);\n",
              "      border-left-color: var(--fill-color);\n",
              "    }\n",
              "    20% {\n",
              "      border-color: transparent;\n",
              "      border-left-color: var(--fill-color);\n",
              "      border-top-color: var(--fill-color);\n",
              "    }\n",
              "    30% {\n",
              "      border-color: transparent;\n",
              "      border-left-color: var(--fill-color);\n",
              "      border-top-color: var(--fill-color);\n",
              "      border-right-color: var(--fill-color);\n",
              "    }\n",
              "    40% {\n",
              "      border-color: transparent;\n",
              "      border-right-color: var(--fill-color);\n",
              "      border-top-color: var(--fill-color);\n",
              "    }\n",
              "    60% {\n",
              "      border-color: transparent;\n",
              "      border-right-color: var(--fill-color);\n",
              "    }\n",
              "    80% {\n",
              "      border-color: transparent;\n",
              "      border-right-color: var(--fill-color);\n",
              "      border-bottom-color: var(--fill-color);\n",
              "    }\n",
              "    90% {\n",
              "      border-color: transparent;\n",
              "      border-bottom-color: var(--fill-color);\n",
              "    }\n",
              "  }\n",
              "</style>\n",
              "\n",
              "  <script>\n",
              "    async function quickchart(key) {\n",
              "      const quickchartButtonEl =\n",
              "        document.querySelector('#' + key + ' button');\n",
              "      quickchartButtonEl.disabled = true;  // To prevent multiple clicks.\n",
              "      quickchartButtonEl.classList.add('colab-df-spinner');\n",
              "      try {\n",
              "        const charts = await google.colab.kernel.invokeFunction(\n",
              "            'suggestCharts', [key], {});\n",
              "      } catch (error) {\n",
              "        console.error('Error during call to suggestCharts:', error);\n",
              "      }\n",
              "      quickchartButtonEl.classList.remove('colab-df-spinner');\n",
              "      quickchartButtonEl.classList.add('colab-df-quickchart-complete');\n",
              "    }\n",
              "    (() => {\n",
              "      let quickchartButtonEl =\n",
              "        document.querySelector('#df-45ed09ac-c466-4c48-b7a7-2ab88a030a2b button');\n",
              "      quickchartButtonEl.style.display =\n",
              "        google.colab.kernel.accessAllowed ? 'block' : 'none';\n",
              "    })();\n",
              "  </script>\n",
              "</div>\n",
              "\n",
              "    </div>\n",
              "  </div>\n"
            ],
            "application/vnd.google.colaboratory.intrinsic+json": {
              "type": "dataframe",
              "summary": "{\n  \"name\": \"data\",\n  \"rows\": 10,\n  \"fields\": [\n    {\n      \"column\": \"Rank\",\n      \"properties\": {\n        \"dtype\": \"number\",\n        \"std\": 3,\n        \"min\": 991,\n        \"max\": 1000,\n        \"num_unique_values\": 10,\n        \"samples\": [\n          999,\n          992,\n          996\n        ],\n        \"semantic_type\": \"\",\n        \"description\": \"\"\n      }\n    },\n    {\n      \"column\": \"Title\",\n      \"properties\": {\n        \"dtype\": \"string\",\n        \"num_unique_values\": 10,\n        \"samples\": [\n          \"Search Party\",\n          \"Taare Zameen Par\",\n          \"Secret in Their Eyes\"\n        ],\n        \"semantic_type\": \"\",\n        \"description\": \"\"\n      }\n    },\n    {\n      \"column\": \"Genre\",\n      \"properties\": {\n        \"dtype\": \"string\",\n        \"num_unique_values\": 10,\n        \"samples\": [\n          \"Adventure,Comedy\",\n          \"Drama,Family,Music\",\n          \"Crime,Drama,Mystery\"\n        ],\n        \"semantic_type\": \"\",\n        \"description\": \"\"\n      }\n    },\n    {\n      \"column\": \"Description\",\n      \"properties\": {\n        \"dtype\": \"string\",\n        \"num_unique_values\": 10,\n        \"samples\": [\n          \"A pair of friends embark on a mission to reunite their pal with the woman he was going to marry.\",\n          \"An eight-year-old boy is thought to be a lazy trouble-maker, until the new art teacher has the patience and compassion to discover the real problem behind his struggles in school.\",\n          \"A tight-knit team of rising investigators, along with their supervisor, is suddenly torn apart when they discover that one of their own teenage daughters has been brutally murdered.\"\n        ],\n        \"semantic_type\": \"\",\n        \"description\": \"\"\n      }\n    },\n    {\n      \"column\": \"Director\",\n      \"properties\": {\n        \"dtype\": \"string\",\n        \"num_unique_values\": 10,\n        \"samples\": [\n          \"Scot Armstrong\",\n          \"Aamir Khan\",\n          \"Billy Ray\"\n        ],\n        \"semantic_type\": \"\",\n        \"description\": \"\"\n      }\n    },\n    {\n      \"column\": \"Actors\",\n      \"properties\": {\n        \"dtype\": \"string\",\n        \"num_unique_values\": 10,\n        \"samples\": [\n          \"Adam Pally, T.J. Miller, Thomas Middleditch,Shannon Woodward\",\n          \"Darsheel Safary, Aamir Khan, Tanay Chheda, Sachet Engineer\",\n          \"Chiwetel Ejiofor, Nicole Kidman, Julia Roberts, Dean Norris\"\n        ],\n        \"semantic_type\": \"\",\n        \"description\": \"\"\n      }\n    },\n    {\n      \"column\": \"Year\",\n      \"properties\": {\n        \"dtype\": \"number\",\n        \"std\": 3,\n        \"min\": 2007,\n        \"max\": 2016,\n        \"num_unique_values\": 9,\n        \"samples\": [\n          2014,\n          2007,\n          2015\n        ],\n        \"semantic_type\": \"\",\n        \"description\": \"\"\n      }\n    },\n    {\n      \"column\": \"Runtime (Minutes)\",\n      \"properties\": {\n        \"dtype\": \"number\",\n        \"std\": 23,\n        \"min\": 87,\n        \"max\": 165,\n        \"num_unique_values\": 9,\n        \"samples\": [\n          93,\n          165,\n          94\n        ],\n        \"semantic_type\": \"\",\n        \"description\": \"\"\n      }\n    },\n    {\n      \"column\": \"Rating\",\n      \"properties\": {\n        \"dtype\": \"number\",\n        \"std\": 0.9065195959149354,\n        \"min\": 5.3,\n        \"max\": 8.5,\n        \"num_unique_values\": 9,\n        \"samples\": [\n          5.6,\n          8.5,\n          6.2\n        ],\n        \"semantic_type\": \"\",\n        \"description\": \"\"\n      }\n    },\n    {\n      \"column\": \"Votes\",\n      \"properties\": {\n        \"dtype\": \"number\",\n        \"std\": 55746,\n        \"min\": 4881,\n        \"max\": 164088,\n        \"num_unique_values\": 10,\n        \"samples\": [\n          4881,\n          102697,\n          27585\n        ],\n        \"semantic_type\": \"\",\n        \"description\": \"\"\n      }\n    },\n    {\n      \"column\": \"Revenue (Millions)\",\n      \"properties\": {\n        \"dtype\": \"number\",\n        \"std\": 24.219362973809673,\n        \"min\": 1.2,\n        \"max\": 60.13,\n        \"num_unique_values\": 8,\n        \"samples\": [\n          1.2,\n          17.54,\n          45.8\n        ],\n        \"semantic_type\": \"\",\n        \"description\": \"\"\n      }\n    },\n    {\n      \"column\": \"Metascore\",\n      \"properties\": {\n        \"dtype\": \"number\",\n        \"std\": 13.200378782444085,\n        \"min\": 11.0,\n        \"max\": 50.0,\n        \"num_unique_values\": 9,\n        \"samples\": [\n          22.0,\n          42.0,\n          46.0\n        ],\n        \"semantic_type\": \"\",\n        \"description\": \"\"\n      }\n    }\n  ]\n}"
            }
          },
          "metadata": {},
          "execution_count": 6
        }
      ]
    },
    {
      "cell_type": "markdown",
      "source": [
        "# 3. Find Shape of Our Dataset (Number of Rows And Number of Columns)"
      ],
      "metadata": {
        "execution": {
          "iopub.status.busy": "2022-10-07T05:32:37.224157Z",
          "iopub.execute_input": "2022-10-07T05:32:37.22467Z",
          "iopub.status.idle": "2022-10-07T05:32:37.230098Z",
          "shell.execute_reply.started": "2022-10-07T05:32:37.224616Z",
          "shell.execute_reply": "2022-10-07T05:32:37.2287Z"
        },
        "id": "mSFNaJV5Go4u"
      }
    },
    {
      "cell_type": "code",
      "source": [
        "data.shape"
      ],
      "metadata": {
        "execution": {
          "iopub.status.busy": "2022-10-07T07:43:09.772209Z",
          "iopub.execute_input": "2022-10-07T07:43:09.773128Z",
          "iopub.status.idle": "2022-10-07T07:43:09.780447Z",
          "shell.execute_reply.started": "2022-10-07T07:43:09.773087Z",
          "shell.execute_reply": "2022-10-07T07:43:09.779039Z"
        },
        "trusted": true,
        "colab": {
          "base_uri": "https://localhost:8080/"
        },
        "id": "babCkRAeGo4v",
        "outputId": "80999427-ad62-44d7-8577-2402437d21ff"
      },
      "execution_count": 7,
      "outputs": [
        {
          "output_type": "execute_result",
          "data": {
            "text/plain": [
              "(1000, 12)"
            ]
          },
          "metadata": {},
          "execution_count": 7
        }
      ]
    },
    {
      "cell_type": "code",
      "source": [
        "print('Number of Rows',data.shape[0])\n",
        "print('Number of Columns',data.shape[1])"
      ],
      "metadata": {
        "execution": {
          "iopub.status.busy": "2022-10-07T07:43:09.965106Z",
          "iopub.execute_input": "2022-10-07T07:43:09.965581Z",
          "iopub.status.idle": "2022-10-07T07:43:09.972557Z",
          "shell.execute_reply.started": "2022-10-07T07:43:09.965543Z",
          "shell.execute_reply": "2022-10-07T07:43:09.970959Z"
        },
        "trusted": true,
        "colab": {
          "base_uri": "https://localhost:8080/"
        },
        "id": "tlqjXcktGo4v",
        "outputId": "2301e4a3-8840-42e9-b986-2efc1183952b"
      },
      "execution_count": 8,
      "outputs": [
        {
          "output_type": "stream",
          "name": "stdout",
          "text": [
            "Number of Rows 1000\n",
            "Number of Columns 12\n"
          ]
        }
      ]
    },
    {
      "cell_type": "markdown",
      "source": [
        "# 4. Getting Information About Our Dataset Like Total Number Rows, Total Number of Columns, Datatypes of Each Column And Memory Requirement"
      ],
      "metadata": {
        "id": "NpuaPFOdGo4v"
      }
    },
    {
      "cell_type": "code",
      "source": [
        "data.info()"
      ],
      "metadata": {
        "execution": {
          "iopub.status.busy": "2022-10-07T07:43:10.383636Z",
          "iopub.execute_input": "2022-10-07T07:43:10.384175Z",
          "iopub.status.idle": "2022-10-07T07:43:10.418753Z",
          "shell.execute_reply.started": "2022-10-07T07:43:10.384137Z",
          "shell.execute_reply": "2022-10-07T07:43:10.416854Z"
        },
        "trusted": true,
        "colab": {
          "base_uri": "https://localhost:8080/"
        },
        "id": "V_53tQiVGo4v",
        "outputId": "b5de8650-a187-49e7-d3e5-ce0254d207f8"
      },
      "execution_count": 9,
      "outputs": [
        {
          "output_type": "stream",
          "name": "stdout",
          "text": [
            "<class 'pandas.core.frame.DataFrame'>\n",
            "RangeIndex: 1000 entries, 0 to 999\n",
            "Data columns (total 12 columns):\n",
            " #   Column              Non-Null Count  Dtype  \n",
            "---  ------              --------------  -----  \n",
            " 0   Rank                1000 non-null   int64  \n",
            " 1   Title               1000 non-null   object \n",
            " 2   Genre               1000 non-null   object \n",
            " 3   Description         1000 non-null   object \n",
            " 4   Director            1000 non-null   object \n",
            " 5   Actors              1000 non-null   object \n",
            " 6   Year                1000 non-null   int64  \n",
            " 7   Runtime (Minutes)   1000 non-null   int64  \n",
            " 8   Rating              1000 non-null   float64\n",
            " 9   Votes               1000 non-null   int64  \n",
            " 10  Revenue (Millions)  872 non-null    float64\n",
            " 11  Metascore           936 non-null    float64\n",
            "dtypes: float64(3), int64(4), object(5)\n",
            "memory usage: 93.9+ KB\n"
          ]
        }
      ]
    },
    {
      "cell_type": "markdown",
      "source": [
        "# 5. Check Null Values In The Dataset"
      ],
      "metadata": {
        "id": "hH0ILsuXGo4w"
      }
    },
    {
      "cell_type": "code",
      "source": [
        "data.isnull().sum()"
      ],
      "metadata": {
        "execution": {
          "iopub.status.busy": "2022-10-07T07:43:10.802322Z",
          "iopub.execute_input": "2022-10-07T07:43:10.803582Z",
          "iopub.status.idle": "2022-10-07T07:43:10.815534Z",
          "shell.execute_reply.started": "2022-10-07T07:43:10.803536Z",
          "shell.execute_reply": "2022-10-07T07:43:10.814186Z"
        },
        "trusted": true,
        "colab": {
          "base_uri": "https://localhost:8080/"
        },
        "id": "Wah9ODmwGo4w",
        "outputId": "af365edd-64ed-40e5-da9c-535e674e9f13"
      },
      "execution_count": 10,
      "outputs": [
        {
          "output_type": "execute_result",
          "data": {
            "text/plain": [
              "Rank                    0\n",
              "Title                   0\n",
              "Genre                   0\n",
              "Description             0\n",
              "Director                0\n",
              "Actors                  0\n",
              "Year                    0\n",
              "Runtime (Minutes)       0\n",
              "Rating                  0\n",
              "Votes                   0\n",
              "Revenue (Millions)    128\n",
              "Metascore              64\n",
              "dtype: int64"
            ]
          },
          "metadata": {},
          "execution_count": 10
        }
      ]
    },
    {
      "cell_type": "code",
      "source": [
        "import matplotlib.pyplot as plt\n",
        "import seaborn as sns\n",
        "sns.heatmap(data.isnull())\n",
        "plt.show()"
      ],
      "metadata": {
        "execution": {
          "iopub.status.busy": "2022-10-07T07:43:10.984354Z",
          "iopub.execute_input": "2022-10-07T07:43:10.984805Z",
          "iopub.status.idle": "2022-10-07T07:43:12.195991Z",
          "shell.execute_reply.started": "2022-10-07T07:43:10.984753Z",
          "shell.execute_reply": "2022-10-07T07:43:12.193509Z"
        },
        "trusted": true,
        "colab": {
          "base_uri": "https://localhost:8080/",
          "height": 550
        },
        "id": "zqLWukM_Go4w",
        "outputId": "b5299498-1841-4e97-9040-40dbf28e47bc"
      },
      "execution_count": 11,
      "outputs": [
        {
          "output_type": "display_data",
          "data": {
            "text/plain": [
              "<Figure size 640x480 with 2 Axes>"
            ],
            "image/png": "[encoded data removed]"
          },
          "metadata": {}
        }
      ]
    },
    {
      "cell_type": "markdown",
      "source": [
        "# 6. Drop All The Missing Values"
      ],
      "metadata": {
        "id": "p4vF9K2wGo4w"
      }
    },
    {
      "cell_type": "code",
      "source": [
        "data = data.dropna(axis=0)"
      ],
      "metadata": {
        "execution": {
          "iopub.status.busy": "2022-10-07T07:43:12.19876Z",
          "iopub.execute_input": "2022-10-07T07:43:12.199306Z",
          "iopub.status.idle": "2022-10-07T07:43:12.213065Z",
          "shell.execute_reply.started": "2022-10-07T07:43:12.199255Z",
          "shell.execute_reply": "2022-10-07T07:43:12.211257Z"
        },
        "trusted": true,
        "id": "RZUeAJZwGo4w"
      },
      "execution_count": 12,
      "outputs": []
    },
    {
      "cell_type": "code",
      "source": [
        "sns.heatmap(data.isnull())\n",
        "plt.show()"
      ],
      "metadata": {
        "execution": {
          "iopub.status.busy": "2022-10-07T07:43:12.215002Z",
          "iopub.execute_input": "2022-10-07T07:43:12.215409Z",
          "iopub.status.idle": "2022-10-07T07:43:12.689039Z",
          "shell.execute_reply.started": "2022-10-07T07:43:12.215375Z",
          "shell.execute_reply": "2022-10-07T07:43:12.687569Z"
        },
        "trusted": true,
        "colab": {
          "base_uri": "https://localhost:8080/",
          "height": 550
        },
        "id": "I0yd_uQYGo4x",
        "outputId": "3c4f6280-ccd1-4608-c50f-dfa4097d8463"
      },
      "execution_count": 13,
      "outputs": [
        {
          "output_type": "display_data",
          "data": {
            "text/plain": [
              "<Figure size 640x480 with 2 Axes>"
            ],
            "image/png": "[encoded data removed]"
          },
          "metadata": {}
        }
      ]
    },
    {
      "cell_type": "markdown",
      "source": [
        "# 7. Check For Duplicate Data"
      ],
      "metadata": {
        "id": "MnGjSEbBGo4x"
      }
    },
    {
      "cell_type": "code",
      "source": [
        "dup_data=data.duplicated().any()\n",
        "print(\"Are there any duplicated values in data?\",dup_data)"
      ],
      "metadata": {
        "execution": {
          "iopub.status.busy": "2022-10-07T07:43:12.692364Z",
          "iopub.execute_input": "2022-10-07T07:43:12.692968Z",
          "iopub.status.idle": "2022-10-07T07:43:12.710813Z",
          "shell.execute_reply.started": "2022-10-07T07:43:12.692908Z",
          "shell.execute_reply": "2022-10-07T07:43:12.709094Z"
        },
        "trusted": true,
        "colab": {
          "base_uri": "https://localhost:8080/"
        },
        "id": "So5lNy0IGo4x",
        "outputId": "8c9b6fb0-5544-42b9-b36d-97b22c4296f9"
      },
      "execution_count": 14,
      "outputs": [
        {
          "output_type": "stream",
          "name": "stdout",
          "text": [
            "Are there any duplicated values in data? False\n"
          ]
        }
      ]
    },
    {
      "cell_type": "markdown",
      "source": [
        "# 8. Get Overall Statistics About The DataFrame"
      ],
      "metadata": {
        "id": "4EH4oJfXGo4x"
      }
    },
    {
      "cell_type": "code",
      "source": [
        "data.describe()"
      ],
      "metadata": {
        "execution": {
          "iopub.status.busy": "2022-10-07T07:43:12.71343Z",
          "iopub.execute_input": "2022-10-07T07:43:12.713991Z",
          "iopub.status.idle": "2022-10-07T07:43:12.759699Z",
          "shell.execute_reply.started": "2022-10-07T07:43:12.713939Z",
          "shell.execute_reply": "2022-10-07T07:43:12.757815Z"
        },
        "trusted": true,
        "colab": {
          "base_uri": "https://localhost:8080/",
          "height": 300
        },
        "id": "M7Zj43QSGo4x",
        "outputId": "10e5eff7-a72c-4d5d-aed3-f85bcf3e7cdf"
      },
      "execution_count": 15,
      "outputs": [
        {
          "output_type": "execute_result",
          "data": {
            "text/plain": [
              "              Rank        Year  Runtime (Minutes)      Rating         Votes  \\\n",
              "count   838.000000   838.00000         838.000000  838.000000  8.380000e+02   \n",
              "mean    485.247017  2012.50716         114.638425    6.814320  1.932303e+05   \n",
              "std     286.572065     3.17236          18.470922    0.877754  1.930990e+05   \n",
              "min       1.000000  2006.00000          66.000000    1.900000  1.780000e+02   \n",
              "25%     238.250000  2010.00000         101.000000    6.300000  6.127650e+04   \n",
              "50%     475.500000  2013.00000         112.000000    6.900000  1.368795e+05   \n",
              "75%     729.750000  2015.00000         124.000000    7.500000  2.710830e+05   \n",
              "max    1000.000000  2016.00000         187.000000    9.000000  1.791916e+06   \n",
              "\n",
              "       Revenue (Millions)   Metascore  \n",
              "count          838.000000  838.000000  \n",
              "mean            84.564558   59.575179  \n",
              "std            104.520227   16.952416  \n",
              "min              0.000000   11.000000  \n",
              "25%             13.967500   47.000000  \n",
              "50%             48.150000   60.000000  \n",
              "75%            116.800000   72.000000  \n",
              "max            936.630000  100.000000  "
            ],
            "text/html": [
              "\n",
              "  <div id=\"df-a2a2ec71-bd6f-4380-9393-77ac2dd262a4\" class=\"colab-df-container\">\n",
              "    <div>\n",
              "<style scoped>\n",
              "    .dataframe tbody tr th:only-of-type {\n",
              "        vertical-align: middle;\n",
              "    }\n",
              "\n",
              "    .dataframe tbody tr th {\n",
              "        vertical-align: top;\n",
              "    }\n",
              "\n",
              "    .dataframe thead th {\n",
              "        text-align: right;\n",
              "    }\n",
              "</style>\n",
              "<table border=\"1\" class=\"dataframe\">\n",
              "  <thead>\n",
              "    <tr style=\"text-align: right;\">\n",
              "      <th></th>\n",
              "      <th>Rank</th>\n",
              "      <th>Year</th>\n",
              "      <th>Runtime (Minutes)</th>\n",
              "      <th>Rating</th>\n",
              "      <th>Votes</th>\n",
              "      <th>Revenue (Millions)</th>\n",
              "      <th>Metascore</th>\n",
              "    </tr>\n",
              "  </thead>\n",
              "  <tbody>\n",
              "    <tr>\n",
              "      <th>count</th>\n",
              "      <td>838.000000</td>\n",
              "      <td>838.00000</td>\n",
              "      <td>838.000000</td>\n",
              "      <td>838.000000</td>\n",
              "      <td>8.380000e+02</td>\n",
              "      <td>838.000000</td>\n",
              "      <td>838.000000</td>\n",
              "    </tr>\n",
              "    <tr>\n",
              "      <th>mean</th>\n",
              "      <td>485.247017</td>\n",
              "      <td>2012.50716</td>\n",
              "      <td>114.638425</td>\n",
              "      <td>6.814320</td>\n",
              "      <td>1.932303e+05</td>\n",
              "      <td>84.564558</td>\n",
              "      <td>59.575179</td>\n",
              "    </tr>\n",
              "    <tr>\n",
              "      <th>std</th>\n",
              "      <td>286.572065</td>\n",
              "      <td>3.17236</td>\n",
              "      <td>18.470922</td>\n",
              "      <td>0.877754</td>\n",
              "      <td>1.930990e+05</td>\n",
              "      <td>104.520227</td>\n",
              "      <td>16.952416</td>\n",
              "    </tr>\n",
              "    <tr>\n",
              "      <th>min</th>\n",
              "      <td>1.000000</td>\n",
              "      <td>2006.00000</td>\n",
              "      <td>66.000000</td>\n",
              "      <td>1.900000</td>\n",
              "      <td>1.780000e+02</td>\n",
              "      <td>0.000000</td>\n",
              "      <td>11.000000</td>\n",
              "    </tr>\n",
              "    <tr>\n",
              "      <th>25%</th>\n",
              "      <td>238.250000</td>\n",
              "      <td>2010.00000</td>\n",
              "      <td>101.000000</td>\n",
              "      <td>6.300000</td>\n",
              "      <td>6.127650e+04</td>\n",
              "      <td>13.967500</td>\n",
              "      <td>47.000000</td>\n",
              "    </tr>\n",
              "    <tr>\n",
              "      <th>50%</th>\n",
              "      <td>475.500000</td>\n",
              "      <td>2013.00000</td>\n",
              "      <td>112.000000</td>\n",
              "      <td>6.900000</td>\n",
              "      <td>1.368795e+05</td>\n",
              "      <td>48.150000</td>\n",
              "      <td>60.000000</td>\n",
              "    </tr>\n",
              "    <tr>\n",
              "      <th>75%</th>\n",
              "      <td>729.750000</td>\n",
              "      <td>2015.00000</td>\n",
              "      <td>124.000000</td>\n",
              "      <td>7.500000</td>\n",
              "      <td>2.710830e+05</td>\n",
              "      <td>116.800000</td>\n",
              "      <td>72.000000</td>\n",
              "    </tr>\n",
              "    <tr>\n",
              "      <th>max</th>\n",
              "      <td>1000.000000</td>\n",
              "      <td>2016.00000</td>\n",
              "      <td>187.000000</td>\n",
              "      <td>9.000000</td>\n",
              "      <td>1.791916e+06</td>\n",
              "      <td>936.630000</td>\n",
              "      <td>100.000000</td>\n",
              "    </tr>\n",
              "  </tbody>\n",
              "</table>\n",
              "</div>\n",
              "    <div class=\"colab-df-buttons\">\n",
              "\n",
              "  <div class=\"colab-df-container\">\n",
              "    <button class=\"colab-df-convert\" onclick=\"convertToInteractive('df-a2a2ec71-bd6f-4380-9393-77ac2dd262a4')\"\n",
              "            title=\"Convert this dataframe to an interactive table.\"\n",
              "            style=\"display:none;\">\n",
              "\n",
              "  <svg xmlns=\"http://www.w3.org/2000/svg\" height=\"24px\" viewBox=\"0 -960 960 960\">\n",
              "    <path d=\"M120-120v-720h720v720H120Zm60-500h600v-160H180v160Zm220 220h160v-160H400v160Zm0 220h160v-160H400v160ZM180-400h160v-160H180v160Zm440 0h160v-160H620v160ZM180-180h160v-160H180v160Zm440 0h160v-160H620v160Z\"/>\n",
              "  </svg>\n",
              "    </button>\n",
              "\n",
              "  <style>\n",
              "    .colab-df-container {\n",
              "      display:flex;\n",
              "      gap: 12px;\n",
              "    }\n",
              "\n",
              "    .colab-df-convert {\n",
              "      background-color: #E8F0FE;\n",
              "      border: none;\n",
              "      border-radius: 50%;\n",
              "      cursor: pointer;\n",
              "      display: none;\n",
              "      fill: #1967D2;\n",
              "      height: 32px;\n",
              "      padding: 0 0 0 0;\n",
              "      width: 32px;\n",
              "    }\n",
              "\n",
              "    .colab-df-convert:hover {\n",
              "      background-color: #E2EBFA;\n",
              "      box-shadow: 0px 1px 2px rgba(60, 64, 67, 0.3), 0px 1px 3px 1px rgba(60, 64, 67, 0.15);\n",
              "      fill: #174EA6;\n",
              "    }\n",
              "\n",
              "    .colab-df-buttons div {\n",
              "      margin-bottom: 4px;\n",
              "    }\n",
              "\n",
              "    [theme=dark] .colab-df-convert {\n",
              "      background-color: #3B4455;\n",
              "      fill: #D2E3FC;\n",
              "    }\n",
              "\n",
              "    [theme=dark] .colab-df-convert:hover {\n",
              "      background-color: #434B5C;\n",
              "      box-shadow: 0px 1px 3px 1px rgba(0, 0, 0, 0.15);\n",
              "      filter: drop-shadow(0px 1px 2px rgba(0, 0, 0, 0.3));\n",
              "      fill: #FFFFFF;\n",
              "    }\n",
              "  </style>\n",
              "\n",
              "    <script>\n",
              "      const buttonEl =\n",
              "        document.querySelector('#df-a2a2ec71-bd6f-4380-9393-77ac2dd262a4 button.colab-df-convert');\n",
              "      buttonEl.style.display =\n",
              "        google.colab.kernel.accessAllowed ? 'block' : 'none';\n",
              "\n",
              "      async function convertToInteractive(key) {\n",
              "        const element = document.querySelector('#df-a2a2ec71-bd6f-4380-9393-77ac2dd262a4');\n",
              "        const dataTable =\n",
              "          await google.colab.kernel.invokeFunction('convertToInteractive',\n",
              "                                                    [key], {});\n",
              "        if (!dataTable) return;\n",
              "\n",
              "        const docLinkHtml = 'Like what you see? Visit the ' +\n",
              "          '<a target=\"_blank\" href=https://colab.research.google.com/notebooks/data_table.ipynb>data table notebook</a>'\n",
              "          + ' to learn more about interactive tables.';\n",
              "        element.innerHTML = '';\n",
              "        dataTable['output_type'] = 'display_data';\n",
              "        await google.colab.output.renderOutput(dataTable, element);\n",
              "        const docLink = document.createElement('div');\n",
              "        docLink.innerHTML = docLinkHtml;\n",
              "        element.appendChild(docLink);\n",
              "      }\n",
              "    </script>\n",
              "  </div>\n",
              "\n",
              "\n",
              "<div id=\"df-c732948b-0bc4-44f3-bbd6-003e6ccf2911\">\n",
              "  <button class=\"colab-df-quickchart\" onclick=\"quickchart('df-c732948b-0bc4-44f3-bbd6-003e6ccf2911')\"\n",
              "            title=\"Suggest charts\"\n",
              "            style=\"display:none;\">\n",
              "\n",
              "<svg xmlns=\"http://www.w3.org/2000/svg\" height=\"24px\"viewBox=\"0 0 24 24\"\n",
              "     width=\"24px\">\n",
              "    <g>\n",
              "        <path d=\"M19 3H5c-1.1 0-2 .9-2 2v14c0 1.1.9 2 2 2h14c1.1 0 2-.9 2-2V5c0-1.1-.9-2-2-2zM9 17H7v-7h2v7zm4 0h-2V7h2v10zm4 0h-2v-4h2v4z\"/>\n",
              "    </g>\n",
              "</svg>\n",
              "  </button>\n",
              "\n",
              "<style>\n",
              "  .colab-df-quickchart {\n",
              "      --bg-color: #E8F0FE;\n",
              "      --fill-color: #1967D2;\n",
              "      --hover-bg-color: #E2EBFA;\n",
              "      --hover-fill-color: #174EA6;\n",
              "      --disabled-fill-color: #AAA;\n",
              "      --disabled-bg-color: #DDD;\n",
              "  }\n",
              "\n",
              "  [theme=dark] .colab-df-quickchart {\n",
              "      --bg-color: #3B4455;\n",
              "      --fill-color: #D2E3FC;\n",
              "      --hover-bg-color: #434B5C;\n",
              "      --hover-fill-color: #FFFFFF;\n",
              "      --disabled-bg-color: #3B4455;\n",
              "      --disabled-fill-color: #666;\n",
              "  }\n",
              "\n",
              "  .colab-df-quickchart {\n",
              "    background-color: var(--bg-color);\n",
              "    border: none;\n",
              "    border-radius: 50%;\n",
              "    cursor: pointer;\n",
              "    display: none;\n",
              "    fill: var(--fill-color);\n",
              "    height: 32px;\n",
              "    padding: 0;\n",
              "    width: 32px;\n",
              "  }\n",
              "\n",
              "  .colab-df-quickchart:hover {\n",
              "    background-color: var(--hover-bg-color);\n",
              "    box-shadow: 0 1px 2px rgba(60, 64, 67, 0.3), 0 1px 3px 1px rgba(60, 64, 67, 0.15);\n",
              "    fill: var(--button-hover-fill-color);\n",
              "  }\n",
              "\n",
              "  .colab-df-quickchart-complete:disabled,\n",
              "  .colab-df-quickchart-complete:disabled:hover {\n",
              "    background-color: var(--disabled-bg-color);\n",
              "    fill: var(--disabled-fill-color);\n",
              "    box-shadow: none;\n",
              "  }\n",
              "\n",
              "  .colab-df-spinner {\n",
              "    border: 2px solid var(--fill-color);\n",
              "    border-color: transparent;\n",
              "    border-bottom-color: var(--fill-color);\n",
              "    animation:\n",
              "      spin 1s steps(1) infinite;\n",
              "  }\n",
              "\n",
              "  @keyframes spin {\n",
              "    0% {\n",
              "      border-color: transparent;\n",
              "      border-bottom-color: var(--fill-color);\n",
              "      border-left-color: var(--fill-color);\n",
              "    }\n",
              "    20% {\n",
              "      border-color: transparent;\n",
              "      border-left-color: var(--fill-color);\n",
              "      border-top-color: var(--fill-color);\n",
              "    }\n",
              "    30% {\n",
              "      border-color: transparent;\n",
              "      border-left-color: var(--fill-color);\n",
              "      border-top-color: var(--fill-color);\n",
              "      border-right-color: var(--fill-color);\n",
              "    }\n",
              "    40% {\n",
              "      border-color: transparent;\n",
              "      border-right-color: var(--fill-color);\n",
              "      border-top-color: var(--fill-color);\n",
              "    }\n",
              "    60% {\n",
              "      border-color: transparent;\n",
              "      border-right-color: var(--fill-color);\n",
              "    }\n",
              "    80% {\n",
              "      border-color: transparent;\n",
              "      border-right-color: var(--fill-color);\n",
              "      border-bottom-color: var(--fill-color);\n",
              "    }\n",
              "    90% {\n",
              "      border-color: transparent;\n",
              "      border-bottom-color: var(--fill-color);\n",
              "    }\n",
              "  }\n",
              "</style>\n",
              "\n",
              "  <script>\n",
              "    async function quickchart(key) {\n",
              "      const quickchartButtonEl =\n",
              "        document.querySelector('#' + key + ' button');\n",
              "      quickchartButtonEl.disabled = true;  // To prevent multiple clicks.\n",
              "      quickchartButtonEl.classList.add('colab-df-spinner');\n",
              "      try {\n",
              "        const charts = await google.colab.kernel.invokeFunction(\n",
              "            'suggestCharts', [key], {});\n",
              "      } catch (error) {\n",
              "        console.error('Error during call to suggestCharts:', error);\n",
              "      }\n",
              "      quickchartButtonEl.classList.remove('colab-df-spinner');\n",
              "      quickchartButtonEl.classList.add('colab-df-quickchart-complete');\n",
              "    }\n",
              "    (() => {\n",
              "      let quickchartButtonEl =\n",
              "        document.querySelector('#df-c732948b-0bc4-44f3-bbd6-003e6ccf2911 button');\n",
              "      quickchartButtonEl.style.display =\n",
              "        google.colab.kernel.accessAllowed ? 'block' : 'none';\n",
              "    })();\n",
              "  </script>\n",
              "</div>\n",
              "\n",
              "    </div>\n",
              "  </div>\n"
            ],
            "application/vnd.google.colaboratory.intrinsic+json": {
              "type": "dataframe",
              "summary": "{\n  \"name\": \"data\",\n  \"rows\": 8,\n  \"fields\": [\n    {\n      \"column\": \"Rank\",\n      \"properties\": {\n        \"dtype\": \"number\",\n        \"std\": 333.9255025527513,\n        \"min\": 1.0,\n        \"max\": 1000.0,\n        \"num_unique_values\": 8,\n        \"samples\": [\n          485.2470167064439,\n          475.5,\n          838.0\n        ],\n        \"semantic_type\": \"\",\n        \"description\": \"\"\n      }\n    },\n    {\n      \"column\": \"Year\",\n      \"properties\": {\n        \"dtype\": \"number\",\n        \"std\": 769.7713287499067,\n        \"min\": 3.1723599152660173,\n        \"max\": 2016.0,\n        \"num_unique_values\": 8,\n        \"samples\": [\n          2012.5071599045345,\n          2013.0,\n          838.0\n        ],\n        \"semantic_type\": \"\",\n        \"description\": \"\"\n      }\n    },\n    {\n      \"column\": \"Runtime (Minutes)\",\n      \"properties\": {\n        \"dtype\": \"number\",\n        \"std\": 264.1807671963779,\n        \"min\": 18.470922051554552,\n        \"max\": 838.0,\n        \"num_unique_values\": 8,\n        \"samples\": [\n          114.63842482100239,\n          112.0,\n          838.0\n        ],\n        \"semantic_type\": \"\",\n        \"description\": \"\"\n      }\n    },\n    {\n      \"column\": \"Rating\",\n      \"properties\": {\n        \"dtype\": \"number\",\n        \"std\": 294.30649538847763,\n        \"min\": 0.8777538418027492,\n        \"max\": 838.0,\n        \"num_unique_values\": 8,\n        \"samples\": [\n          6.814319809069212,\n          6.9,\n          838.0\n        ],\n        \"semantic_type\": \"\",\n        \"description\": \"\"\n      }\n    },\n    {\n      \"column\": \"Votes\",\n      \"properties\": {\n        \"dtype\": \"number\",\n        \"std\": 598181.3436789116,\n        \"min\": 178.0,\n        \"max\": 1791916.0,\n        \"num_unique_values\": 8,\n        \"samples\": [\n          193230.25178997614,\n          136879.5,\n          838.0\n        ],\n        \"semantic_type\": \"\",\n        \"description\": \"\"\n      }\n    },\n    {\n      \"column\": \"Revenue (Millions)\",\n      \"properties\": {\n        \"dtype\": \"number\",\n        \"std\": 385.4296330380251,\n        \"min\": 0.0,\n        \"max\": 936.63,\n        \"num_unique_values\": 8,\n        \"samples\": [\n          84.5645584725537,\n          48.150000000000006,\n          838.0\n        ],\n        \"semantic_type\": \"\",\n        \"description\": \"\"\n      }\n    },\n    {\n      \"column\": \"Metascore\",\n      \"properties\": {\n        \"dtype\": \"number\",\n        \"std\": 279.24227712556353,\n        \"min\": 11.0,\n        \"max\": 838.0,\n        \"num_unique_values\": 8,\n        \"samples\": [\n          59.575178997613364,\n          60.0,\n          838.0\n        ],\n        \"semantic_type\": \"\",\n        \"description\": \"\"\n      }\n    }\n  ]\n}"
            }
          },
          "metadata": {},
          "execution_count": 15
        }
      ]
    },
    {
      "cell_type": "markdown",
      "source": [
        "# 9. Display Title of The Movie Having Runtime >= 180 Minutes"
      ],
      "metadata": {
        "id": "in9wkRbvGo4x"
      }
    },
    {
      "cell_type": "code",
      "source": [
        "data[data['Runtime (Minutes)']>=180]['Title']"
      ],
      "metadata": {
        "execution": {
          "iopub.status.busy": "2022-10-07T07:43:12.782021Z",
          "iopub.execute_input": "2022-10-07T07:43:12.782515Z",
          "iopub.status.idle": "2022-10-07T07:43:12.793056Z",
          "shell.execute_reply.started": "2022-10-07T07:43:12.78248Z",
          "shell.execute_reply": "2022-10-07T07:43:12.791896Z"
        },
        "trusted": true,
        "colab": {
          "base_uri": "https://localhost:8080/"
        },
        "id": "_CB3QqxnGo4y",
        "outputId": "613d4c88-badd-4947-924a-116c348ae728"
      },
      "execution_count": 16,
      "outputs": [
        {
          "output_type": "execute_result",
          "data": {
            "text/plain": [
              "82     The Wolf of Wall Street\n",
              "88           The Hateful Eight\n",
              "311             La vie d'Adèle\n",
              "Name: Title, dtype: object"
            ]
          },
          "metadata": {},
          "execution_count": 16
        }
      ]
    },
    {
      "cell_type": "markdown",
      "source": [
        "# 10. In Which Year There Was The Highest Voting?"
      ],
      "metadata": {
        "id": "xHg8KK4xGo4y"
      }
    },
    {
      "cell_type": "code",
      "source": [
        "sns.barplot(x='Year',y='Votes',data=data)\n",
        "plt.title(\"Votes By Year\")\n",
        "plt.show()"
      ],
      "metadata": {
        "execution": {
          "iopub.status.busy": "2022-10-07T07:43:13.155086Z",
          "iopub.execute_input": "2022-10-07T07:43:13.155563Z",
          "iopub.status.idle": "2022-10-07T07:43:13.689262Z",
          "shell.execute_reply.started": "2022-10-07T07:43:13.155525Z",
          "shell.execute_reply": "2022-10-07T07:43:13.687505Z"
        },
        "trusted": true,
        "colab": {
          "base_uri": "https://localhost:8080/",
          "height": 472
        },
        "id": "tcuiNXeTGo4y",
        "outputId": "2c5d780e-0c6a-49d2-b6dc-2776dacd2082"
      },
      "execution_count": 17,
      "outputs": [
        {
          "output_type": "display_data",
          "data": {
            "text/plain": [
              "<Figure size 640x480 with 1 Axes>"
            ],
            "image/png": "[encoded data removed]"
          },
          "metadata": {}
        }
      ]
    },
    {
      "cell_type": "markdown",
      "source": [
        "# 11. In Which Year There Was The Highest Revenue?"
      ],
      "metadata": {
        "id": "HjVWgHKqGo4y"
      }
    },
    {
      "cell_type": "code",
      "source": [
        "sns.barplot(x='Year',y='Revenue (Millions)',data=data)\n",
        "plt.title(\"Revenue By Year\")\n",
        "plt.show()"
      ],
      "metadata": {
        "execution": {
          "iopub.status.busy": "2022-10-07T07:43:13.691429Z",
          "iopub.execute_input": "2022-10-07T07:43:13.691856Z",
          "iopub.status.idle": "2022-10-07T07:43:14.221061Z",
          "shell.execute_reply.started": "2022-10-07T07:43:13.691823Z",
          "shell.execute_reply": "2022-10-07T07:43:14.219548Z"
        },
        "trusted": true,
        "colab": {
          "base_uri": "https://localhost:8080/",
          "height": 472
        },
        "id": "kk1Hch_0Go4y",
        "outputId": "137e2daf-5e85-4434-b130-158310774460"
      },
      "execution_count": 18,
      "outputs": [
        {
          "output_type": "display_data",
          "data": {
            "text/plain": [
              "<Figure size 640x480 with 1 Axes>"
            ],
            "image/png": "[encoded data removed]"
          },
          "metadata": {}
        }
      ]
    },
    {
      "cell_type": "markdown",
      "source": [
        "# 12. Find The Average Rating For Each Director"
      ],
      "metadata": {
        "id": "QAoNDHFyGo4y"
      }
    },
    {
      "cell_type": "code",
      "source": [
        "data.groupby('Director')['Rating'].mean().sort_values(ascending=False)"
      ],
      "metadata": {
        "execution": {
          "iopub.status.busy": "2022-10-07T07:43:14.225439Z",
          "iopub.execute_input": "2022-10-07T07:43:14.225926Z",
          "iopub.status.idle": "2022-10-07T07:43:14.244843Z",
          "shell.execute_reply.started": "2022-10-07T07:43:14.225888Z",
          "shell.execute_reply": "2022-10-07T07:43:14.243065Z"
        },
        "trusted": true,
        "colab": {
          "base_uri": "https://localhost:8080/"
        },
        "id": "2oIgMCPqGo4y",
        "outputId": "34a65808-fc9a-405e-8c3e-03015255bc23"
      },
      "execution_count": null,
      "outputs": [
        {
          "output_type": "execute_result",
          "data": {
            "text/plain": [
              "Director\n",
              "Christopher Nolan                   8.68\n",
              "Olivier Nakache                     8.60\n",
              "Makoto Shinkai                      8.60\n",
              "Florian Henckel von Donnersmarck    8.50\n",
              "Aamir Khan                          8.50\n",
              "                                    ... \n",
              "Sam Taylor-Johnson                  4.10\n",
              "Joey Curtis                         4.00\n",
              "George Nolfi                        3.90\n",
              "James Wong                          2.70\n",
              "Jason Friedberg                     1.90\n",
              "Name: Rating, Length: 524, dtype: float64"
            ]
          },
          "metadata": {},
          "execution_count": 20
        }
      ]
    },
    {
      "cell_type": "markdown",
      "source": [
        "# 13. Display Top 10 Lengthy Movies Title"
      ],
      "metadata": {
        "id": "vaGyf7gDGo4y"
      }
    },
    {
      "cell_type": "code",
      "source": [
        "le =data.nlargest(10,'Runtime (Minutes)')[['Title','Runtime (Minutes)']]. \\\n",
        "set_index('Title')"
      ],
      "metadata": {
        "execution": {
          "iopub.status.busy": "2022-10-07T07:43:14.459852Z",
          "iopub.execute_input": "2022-10-07T07:43:14.460271Z",
          "iopub.status.idle": "2022-10-07T07:43:14.471158Z",
          "shell.execute_reply.started": "2022-10-07T07:43:14.460237Z",
          "shell.execute_reply": "2022-10-07T07:43:14.469579Z"
        },
        "trusted": true,
        "id": "02tJOzqIGo4z"
      },
      "execution_count": null,
      "outputs": []
    },
    {
      "cell_type": "code",
      "source": [
        "sns.barplot(x=le['Runtime (Minutes)'], y=le.index)\n",
        "plt.title('Top 5 Lengtly Movies')\n",
        "plt.show()"
      ],
      "metadata": {
        "execution": {
          "iopub.status.busy": "2022-10-07T07:43:14.694395Z",
          "iopub.execute_input": "2022-10-07T07:43:14.694855Z",
          "iopub.status.idle": "2022-10-07T07:43:14.982481Z",
          "shell.execute_reply.started": "2022-10-07T07:43:14.694809Z",
          "shell.execute_reply": "2022-10-07T07:43:14.981373Z"
        },
        "trusted": true,
        "colab": {
          "base_uri": "https://localhost:8080/",
          "height": 472
        },
        "id": "S926sYfCGo4z",
        "outputId": "c6ce43d2-1881-485a-aa3c-004e7ff727ef"
      },
      "execution_count": null,
      "outputs": [
        {
          "output_type": "display_data",
          "data": {
            "text/plain": [
              "<Figure size 640x480 with 1 Axes>"
            ],
            "image/png": "[encoded data removed]"
          },
          "metadata": {}
        }
      ]
    },
    {
      "cell_type": "markdown",
      "source": [
        "# 14. Display Number of Movies Per Year"
      ],
      "metadata": {
        "id": "iEwoN9bpGo4z"
      }
    },
    {
      "cell_type": "code",
      "source": [
        "sns.countplot(x='Year',data=data)\n",
        "plt.title(\"Number of Movies Per Year\")"
      ],
      "metadata": {
        "execution": {
          "iopub.status.busy": "2022-10-07T07:43:15.14703Z",
          "iopub.execute_input": "2022-10-07T07:43:15.147632Z",
          "iopub.status.idle": "2022-10-07T07:43:15.445278Z",
          "shell.execute_reply.started": "2022-10-07T07:43:15.147588Z",
          "shell.execute_reply": "2022-10-07T07:43:15.443895Z"
        },
        "trusted": true,
        "colab": {
          "base_uri": "https://localhost:8080/",
          "height": 489
        },
        "id": "W8fZSGUsGo4z",
        "outputId": "bc206c19-bf99-43ed-f089-455cd14889ec"
      },
      "execution_count": null,
      "outputs": [
        {
          "output_type": "execute_result",
          "data": {
            "text/plain": [
              "Text(0.5, 1.0, 'Number of Movies Per Year')"
            ]
          },
          "metadata": {},
          "execution_count": 23
        },
        {
          "output_type": "display_data",
          "data": {
            "text/plain": [
              "<Figure size 640x480 with 1 Axes>"
            ],
            "image/png": "[encoded data removed]"
          },
          "metadata": {}
        }
      ]
    },
    {
      "cell_type": "markdown",
      "source": [
        "# 15. Find Most Popular Movie Title (Higest Revenue)"
      ],
      "metadata": {
        "id": "0No7gfpGGo4z"
      }
    },
    {
      "cell_type": "code",
      "source": [
        "data.columns"
      ],
      "metadata": {
        "execution": {
          "iopub.status.busy": "2022-10-07T07:43:15.592804Z",
          "iopub.execute_input": "2022-10-07T07:43:15.593279Z",
          "iopub.status.idle": "2022-10-07T07:43:15.604182Z",
          "shell.execute_reply.started": "2022-10-07T07:43:15.593242Z",
          "shell.execute_reply": "2022-10-07T07:43:15.602328Z"
        },
        "trusted": true,
        "colab": {
          "base_uri": "https://localhost:8080/"
        },
        "id": "UXxK4QQkGo4z",
        "outputId": "082a3b2f-e36f-4ef4-8d9e-6af02e1a2198"
      },
      "execution_count": null,
      "outputs": [
        {
          "output_type": "execute_result",
          "data": {
            "text/plain": [
              "Index(['Rank', 'Title', 'Genre', 'Description', 'Director', 'Actors', 'Year',\n",
              "       'Runtime (Minutes)', 'Rating', 'Votes', 'Revenue (Millions)',\n",
              "       'Metascore'],\n",
              "      dtype='object')"
            ]
          },
          "metadata": {},
          "execution_count": 24
        }
      ]
    },
    {
      "cell_type": "code",
      "source": [
        "data[data['Revenue (Millions)'].max() == data['Revenue (Millions)']]['Title']"
      ],
      "metadata": {
        "execution": {
          "iopub.status.busy": "2022-10-07T07:43:54.142574Z",
          "iopub.execute_input": "2022-10-07T07:43:54.144174Z",
          "iopub.status.idle": "2022-10-07T07:43:54.15589Z",
          "shell.execute_reply.started": "2022-10-07T07:43:54.144118Z",
          "shell.execute_reply": "2022-10-07T07:43:54.154567Z"
        },
        "trusted": true,
        "colab": {
          "base_uri": "https://localhost:8080/"
        },
        "id": "7bkLk0lvGo4z",
        "outputId": "a83186e6-1c95-444a-8ce6-04493e6c1745"
      },
      "execution_count": null,
      "outputs": [
        {
          "output_type": "execute_result",
          "data": {
            "text/plain": [
              "50    Star Wars: Episode VII - The Force Awakens\n",
              "Name: Title, dtype: object"
            ]
          },
          "metadata": {},
          "execution_count": 25
        }
      ]
    },
    {
      "cell_type": "markdown",
      "source": [
        "# 16. Display Top 10 Highest Rated Movie Titles And its Directors"
      ],
      "metadata": {
        "id": "78y6Wbp7Go43"
      }
    },
    {
      "cell_type": "code",
      "source": [
        "top_10=data.nlargest(10,'Rating')[['Title','Rating','Director']].set_index('Title')"
      ],
      "metadata": {
        "execution": {
          "iopub.status.busy": "2022-10-07T07:44:20.756029Z",
          "iopub.execute_input": "2022-10-07T07:44:20.75652Z",
          "iopub.status.idle": "2022-10-07T07:44:20.769115Z",
          "shell.execute_reply.started": "2022-10-07T07:44:20.756482Z",
          "shell.execute_reply": "2022-10-07T07:44:20.767107Z"
        },
        "trusted": true,
        "id": "C4fGve_wGo43"
      },
      "execution_count": null,
      "outputs": []
    },
    {
      "cell_type": "code",
      "source": [
        "top_10"
      ],
      "metadata": {
        "execution": {
          "iopub.status.busy": "2022-10-07T07:44:24.991907Z",
          "iopub.execute_input": "2022-10-07T07:44:24.992403Z",
          "iopub.status.idle": "2022-10-07T07:44:25.006332Z",
          "shell.execute_reply.started": "2022-10-07T07:44:24.992363Z",
          "shell.execute_reply": "2022-10-07T07:44:25.005072Z"
        },
        "trusted": true,
        "colab": {
          "base_uri": "https://localhost:8080/",
          "height": 394
        },
        "id": "ASYw-OxIGo43",
        "outputId": "d66772a5-d109-43ef-9d6e-e36d9cec8ebb"
      },
      "execution_count": null,
      "outputs": [
        {
          "output_type": "execute_result",
          "data": {
            "text/plain": [
              "                       Rating                          Director\n",
              "Title                                                          \n",
              "The Dark Knight           9.0                 Christopher Nolan\n",
              "Inception                 8.8                 Christopher Nolan\n",
              "Interstellar              8.6                 Christopher Nolan\n",
              "Kimi no na wa             8.6                    Makoto Shinkai\n",
              "The Intouchables          8.6                   Olivier Nakache\n",
              "The Prestige              8.5                 Christopher Nolan\n",
              "The Departed              8.5                   Martin Scorsese\n",
              "The Dark Knight Rises     8.5                 Christopher Nolan\n",
              "Whiplash                  8.5                   Damien Chazelle\n",
              "The Lives of Others       8.5  Florian Henckel von Donnersmarck"
            ],
            "text/html": [
              "\n",
              "  <div id=\"df-1abcdd10-dd84-418b-b097-41210ca53dc1\" class=\"colab-df-container\">\n",
              "    <div>\n",
              "<style scoped>\n",
              "    .dataframe tbody tr th:only-of-type {\n",
              "        vertical-align: middle;\n",
              "    }\n",
              "\n",
              "    .dataframe tbody tr th {\n",
              "        vertical-align: top;\n",
              "    }\n",
              "\n",
              "    .dataframe thead th {\n",
              "        text-align: right;\n",
              "    }\n",
              "</style>\n",
              "<table border=\"1\" class=\"dataframe\">\n",
              "  <thead>\n",
              "    <tr style=\"text-align: right;\">\n",
              "      <th></th>\n",
              "      <th>Rating</th>\n",
              "      <th>Director</th>\n",
              "    </tr>\n",
              "    <tr>\n",
              "      <th>Title</th>\n",
              "      <th></th>\n",
              "      <th></th>\n",
              "    </tr>\n",
              "  </thead>\n",
              "  <tbody>\n",
              "    <tr>\n",
              "      <th>The Dark Knight</th>\n",
              "      <td>9.0</td>\n",
              "      <td>Christopher Nolan</td>\n",
              "    </tr>\n",
              "    <tr>\n",
              "      <th>Inception</th>\n",
              "      <td>8.8</td>\n",
              "      <td>Christopher Nolan</td>\n",
              "    </tr>\n",
              "    <tr>\n",
              "      <th>Interstellar</th>\n",
              "      <td>8.6</td>\n",
              "      <td>Christopher Nolan</td>\n",
              "    </tr>\n",
              "    <tr>\n",
              "      <th>Kimi no na wa</th>\n",
              "      <td>8.6</td>\n",
              "      <td>Makoto Shinkai</td>\n",
              "    </tr>\n",
              "    <tr>\n",
              "      <th>The Intouchables</th>\n",
              "      <td>8.6</td>\n",
              "      <td>Olivier Nakache</td>\n",
              "    </tr>\n",
              "    <tr>\n",
              "      <th>The Prestige</th>\n",
              "      <td>8.5</td>\n",
              "      <td>Christopher Nolan</td>\n",
              "    </tr>\n",
              "    <tr>\n",
              "      <th>The Departed</th>\n",
              "      <td>8.5</td>\n",
              "      <td>Martin Scorsese</td>\n",
              "    </tr>\n",
              "    <tr>\n",
              "      <th>The Dark Knight Rises</th>\n",
              "      <td>8.5</td>\n",
              "      <td>Christopher Nolan</td>\n",
              "    </tr>\n",
              "    <tr>\n",
              "      <th>Whiplash</th>\n",
              "      <td>8.5</td>\n",
              "      <td>Damien Chazelle</td>\n",
              "    </tr>\n",
              "    <tr>\n",
              "      <th>The Lives of Others</th>\n",
              "      <td>8.5</td>\n",
              "      <td>Florian Henckel von Donnersmarck</td>\n",
              "    </tr>\n",
              "  </tbody>\n",
              "</table>\n",
              "</div>\n",
              "    <div class=\"colab-df-buttons\">\n",
              "\n",
              "  <div class=\"colab-df-container\">\n",
              "    <button class=\"colab-df-convert\" onclick=\"convertToInteractive('df-1abcdd10-dd84-418b-b097-41210ca53dc1')\"\n",
              "            title=\"Convert this dataframe to an interactive table.\"\n",
              "            style=\"display:none;\">\n",
              "\n",
              "  <svg xmlns=\"http://www.w3.org/2000/svg\" height=\"24px\" viewBox=\"0 -960 960 960\">\n",
              "    <path d=\"M120-120v-720h720v720H120Zm60-500h600v-160H180v160Zm220 220h160v-160H400v160Zm0 220h160v-160H400v160ZM180-400h160v-160H180v160Zm440 0h160v-160H620v160ZM180-180h160v-160H180v160Zm440 0h160v-160H620v160Z\"/>\n",
              "  </svg>\n",
              "    </button>\n",
              "\n",
              "  <style>\n",
              "    .colab-df-container {\n",
              "      display:flex;\n",
              "      gap: 12px;\n",
              "    }\n",
              "\n",
              "    .colab-df-convert {\n",
              "      background-color: #E8F0FE;\n",
              "      border: none;\n",
              "      border-radius: 50%;\n",
              "      cursor: pointer;\n",
              "      display: none;\n",
              "      fill: #1967D2;\n",
              "      height: 32px;\n",
              "      padding: 0 0 0 0;\n",
              "      width: 32px;\n",
              "    }\n",
              "\n",
              "    .colab-df-convert:hover {\n",
              "      background-color: #E2EBFA;\n",
              "      box-shadow: 0px 1px 2px rgba(60, 64, 67, 0.3), 0px 1px 3px 1px rgba(60, 64, 67, 0.15);\n",
              "      fill: #174EA6;\n",
              "    }\n",
              "\n",
              "    .colab-df-buttons div {\n",
              "      margin-bottom: 4px;\n",
              "    }\n",
              "\n",
              "    [theme=dark] .colab-df-convert {\n",
              "      background-color: #3B4455;\n",
              "      fill: #D2E3FC;\n",
              "    }\n",
              "\n",
              "    [theme=dark] .colab-df-convert:hover {\n",
              "      background-color: #434B5C;\n",
              "      box-shadow: 0px 1px 3px 1px rgba(0, 0, 0, 0.15);\n",
              "      filter: drop-shadow(0px 1px 2px rgba(0, 0, 0, 0.3));\n",
              "      fill: #FFFFFF;\n",
              "    }\n",
              "  </style>\n",
              "\n",
              "    <script>\n",
              "      const buttonEl =\n",
              "        document.querySelector('#df-1abcdd10-dd84-418b-b097-41210ca53dc1 button.colab-df-convert');\n",
              "      buttonEl.style.display =\n",
              "        google.colab.kernel.accessAllowed ? 'block' : 'none';\n",
              "\n",
              "      async function convertToInteractive(key) {\n",
              "        const element = document.querySelector('#df-1abcdd10-dd84-418b-b097-41210ca53dc1');\n",
              "        const dataTable =\n",
              "          await google.colab.kernel.invokeFunction('convertToInteractive',\n",
              "                                                    [key], {});\n",
              "        if (!dataTable) return;\n",
              "\n",
              "        const docLinkHtml = 'Like what you see? Visit the ' +\n",
              "          '<a target=\"_blank\" href=https://colab.research.google.com/notebooks/data_table.ipynb>data table notebook</a>'\n",
              "          + ' to learn more about interactive tables.';\n",
              "        element.innerHTML = '';\n",
              "        dataTable['output_type'] = 'display_data';\n",
              "        await google.colab.output.renderOutput(dataTable, element);\n",
              "        const docLink = document.createElement('div');\n",
              "        docLink.innerHTML = docLinkHtml;\n",
              "        element.appendChild(docLink);\n",
              "      }\n",
              "    </script>\n",
              "  </div>\n",
              "\n",
              "\n",
              "<div id=\"df-87d9856d-0dce-4ae0-b5cf-746260814f8f\">\n",
              "  <button class=\"colab-df-quickchart\" onclick=\"quickchart('df-87d9856d-0dce-4ae0-b5cf-746260814f8f')\"\n",
              "            title=\"Suggest charts\"\n",
              "            style=\"display:none;\">\n",
              "\n",
              "<svg xmlns=\"http://www.w3.org/2000/svg\" height=\"24px\"viewBox=\"0 0 24 24\"\n",
              "     width=\"24px\">\n",
              "    <g>\n",
              "        <path d=\"M19 3H5c-1.1 0-2 .9-2 2v14c0 1.1.9 2 2 2h14c1.1 0 2-.9 2-2V5c0-1.1-.9-2-2-2zM9 17H7v-7h2v7zm4 0h-2V7h2v10zm4 0h-2v-4h2v4z\"/>\n",
              "    </g>\n",
              "</svg>\n",
              "  </button>\n",
              "\n",
              "<style>\n",
              "  .colab-df-quickchart {\n",
              "      --bg-color: #E8F0FE;\n",
              "      --fill-color: #1967D2;\n",
              "      --hover-bg-color: #E2EBFA;\n",
              "      --hover-fill-color: #174EA6;\n",
              "      --disabled-fill-color: #AAA;\n",
              "      --disabled-bg-color: #DDD;\n",
              "  }\n",
              "\n",
              "  [theme=dark] .colab-df-quickchart {\n",
              "      --bg-color: #3B4455;\n",
              "      --fill-color: #D2E3FC;\n",
              "      --hover-bg-color: #434B5C;\n",
              "      --hover-fill-color: #FFFFFF;\n",
              "      --disabled-bg-color: #3B4455;\n",
              "      --disabled-fill-color: #666;\n",
              "  }\n",
              "\n",
              "  .colab-df-quickchart {\n",
              "    background-color: var(--bg-color);\n",
              "    border: none;\n",
              "    border-radius: 50%;\n",
              "    cursor: pointer;\n",
              "    display: none;\n",
              "    fill: var(--fill-color);\n",
              "    height: 32px;\n",
              "    padding: 0;\n",
              "    width: 32px;\n",
              "  }\n",
              "\n",
              "  .colab-df-quickchart:hover {\n",
              "    background-color: var(--hover-bg-color);\n",
              "    box-shadow: 0 1px 2px rgba(60, 64, 67, 0.3), 0 1px 3px 1px rgba(60, 64, 67, 0.15);\n",
              "    fill: var(--button-hover-fill-color);\n",
              "  }\n",
              "\n",
              "  .colab-df-quickchart-complete:disabled,\n",
              "  .colab-df-quickchart-complete:disabled:hover {\n",
              "    background-color: var(--disabled-bg-color);\n",
              "    fill: var(--disabled-fill-color);\n",
              "    box-shadow: none;\n",
              "  }\n",
              "\n",
              "  .colab-df-spinner {\n",
              "    border: 2px solid var(--fill-color);\n",
              "    border-color: transparent;\n",
              "    border-bottom-color: var(--fill-color);\n",
              "    animation:\n",
              "      spin 1s steps(1) infinite;\n",
              "  }\n",
              "\n",
              "  @keyframes spin {\n",
              "    0% {\n",
              "      border-color: transparent;\n",
              "      border-bottom-color: var(--fill-color);\n",
              "      border-left-color: var(--fill-color);\n",
              "    }\n",
              "    20% {\n",
              "      border-color: transparent;\n",
              "      border-left-color: var(--fill-color);\n",
              "      border-top-color: var(--fill-color);\n",
              "    }\n",
              "    30% {\n",
              "      border-color: transparent;\n",
              "      border-left-color: var(--fill-color);\n",
              "      border-top-color: var(--fill-color);\n",
              "      border-right-color: var(--fill-color);\n",
              "    }\n",
              "    40% {\n",
              "      border-color: transparent;\n",
              "      border-right-color: var(--fill-color);\n",
              "      border-top-color: var(--fill-color);\n",
              "    }\n",
              "    60% {\n",
              "      border-color: transparent;\n",
              "      border-right-color: var(--fill-color);\n",
              "    }\n",
              "    80% {\n",
              "      border-color: transparent;\n",
              "      border-right-color: var(--fill-color);\n",
              "      border-bottom-color: var(--fill-color);\n",
              "    }\n",
              "    90% {\n",
              "      border-color: transparent;\n",
              "      border-bottom-color: var(--fill-color);\n",
              "    }\n",
              "  }\n",
              "</style>\n",
              "\n",
              "  <script>\n",
              "    async function quickchart(key) {\n",
              "      const quickchartButtonEl =\n",
              "        document.querySelector('#' + key + ' button');\n",
              "      quickchartButtonEl.disabled = true;  // To prevent multiple clicks.\n",
              "      quickchartButtonEl.classList.add('colab-df-spinner');\n",
              "      try {\n",
              "        const charts = await google.colab.kernel.invokeFunction(\n",
              "            'suggestCharts', [key], {});\n",
              "      } catch (error) {\n",
              "        console.error('Error during call to suggestCharts:', error);\n",
              "      }\n",
              "      quickchartButtonEl.classList.remove('colab-df-spinner');\n",
              "      quickchartButtonEl.classList.add('colab-df-quickchart-complete');\n",
              "    }\n",
              "    (() => {\n",
              "      let quickchartButtonEl =\n",
              "        document.querySelector('#df-87d9856d-0dce-4ae0-b5cf-746260814f8f button');\n",
              "      quickchartButtonEl.style.display =\n",
              "        google.colab.kernel.accessAllowed ? 'block' : 'none';\n",
              "    })();\n",
              "  </script>\n",
              "</div>\n",
              "\n",
              "  <div id=\"id_cdcada9c-a1d7-4ca7-8161-36c920c04ac0\">\n",
              "    <style>\n",
              "      .colab-df-generate {\n",
              "        background-color: #E8F0FE;\n",
              "        border: none;\n",
              "        border-radius: 50%;\n",
              "        cursor: pointer;\n",
              "        display: none;\n",
              "        fill: #1967D2;\n",
              "        height: 32px;\n",
              "        padding: 0 0 0 0;\n",
              "        width: 32px;\n",
              "      }\n",
              "\n",
              "      .colab-df-generate:hover {\n",
              "        background-color: #E2EBFA;\n",
              "        box-shadow: 0px 1px 2px rgba(60, 64, 67, 0.3), 0px 1px 3px 1px rgba(60, 64, 67, 0.15);\n",
              "        fill: #174EA6;\n",
              "      }\n",
              "\n",
              "      [theme=dark] .colab-df-generate {\n",
              "        background-color: #3B4455;\n",
              "        fill: #D2E3FC;\n",
              "      }\n",
              "\n",
              "      [theme=dark] .colab-df-generate:hover {\n",
              "        background-color: #434B5C;\n",
              "        box-shadow: 0px 1px 3px 1px rgba(0, 0, 0, 0.15);\n",
              "        filter: drop-shadow(0px 1px 2px rgba(0, 0, 0, 0.3));\n",
              "        fill: #FFFFFF;\n",
              "      }\n",
              "    </style>\n",
              "    <button class=\"colab-df-generate\" onclick=\"generateWithVariable('top_10')\"\n",
              "            title=\"Generate code using this dataframe.\"\n",
              "            style=\"display:none;\">\n",
              "\n",
              "  <svg xmlns=\"http://www.w3.org/2000/svg\" height=\"24px\"viewBox=\"0 0 24 24\"\n",
              "       width=\"24px\">\n",
              "    <path d=\"M7,19H8.4L18.45,9,17,7.55,7,17.6ZM5,21V16.75L18.45,3.32a2,2,0,0,1,2.83,0l1.4,1.43a1.91,1.91,0,0,1,.58,1.4,1.91,1.91,0,0,1-.58,1.4L9.25,21ZM18.45,9,17,7.55Zm-12,3A5.31,5.31,0,0,0,4.9,8.1,5.31,5.31,0,0,0,1,6.5,5.31,5.31,0,0,0,4.9,4.9,5.31,5.31,0,0,0,6.5,1,5.31,5.31,0,0,0,8.1,4.9,5.31,5.31,0,0,0,12,6.5,5.46,5.46,0,0,0,6.5,12Z\"/>\n",
              "  </svg>\n",
              "    </button>\n",
              "    <script>\n",
              "      (() => {\n",
              "      const buttonEl =\n",
              "        document.querySelector('#id_cdcada9c-a1d7-4ca7-8161-36c920c04ac0 button.colab-df-generate');\n",
              "      buttonEl.style.display =\n",
              "        google.colab.kernel.accessAllowed ? 'block' : 'none';\n",
              "\n",
              "      buttonEl.onclick = () => {\n",
              "        google.colab.notebook.generateWithVariable('top_10');\n",
              "      }\n",
              "      })();\n",
              "    </script>\n",
              "  </div>\n",
              "\n",
              "    </div>\n",
              "  </div>\n"
            ],
            "application/vnd.google.colaboratory.intrinsic+json": {
              "type": "dataframe",
              "variable_name": "top_10",
              "summary": "{\n  \"name\": \"top_10\",\n  \"rows\": 10,\n  \"fields\": [\n    {\n      \"column\": \"Title\",\n      \"properties\": {\n        \"dtype\": \"string\",\n        \"num_unique_values\": 10,\n        \"samples\": [\n          \"Whiplash\",\n          \"Inception\",\n          \"The Prestige\"\n        ],\n        \"semantic_type\": \"\",\n        \"description\": \"\"\n      }\n    },\n    {\n      \"column\": \"Rating\",\n      \"properties\": {\n        \"dtype\": \"number\",\n        \"std\": 0.1663329993316621,\n        \"min\": 8.5,\n        \"max\": 9.0,\n        \"num_unique_values\": 4,\n        \"samples\": [\n          8.8,\n          8.5,\n          9.0\n        ],\n        \"semantic_type\": \"\",\n        \"description\": \"\"\n      }\n    },\n    {\n      \"column\": \"Director\",\n      \"properties\": {\n        \"dtype\": \"string\",\n        \"num_unique_values\": 6,\n        \"samples\": [\n          \"Christopher Nolan\",\n          \"Makoto Shinkai\",\n          \"Florian Henckel von Donnersmarck\"\n        ],\n        \"semantic_type\": \"\",\n        \"description\": \"\"\n      }\n    }\n  ]\n}"
            }
          },
          "metadata": {},
          "execution_count": 27
        }
      ]
    },
    {
      "cell_type": "code",
      "source": [
        "top_10 = data.nlargest(10, 'Rating')[['Title', 'Rating', 'Director']].set_index('Title')\n",
        "print(top_10)\n",
        "\n",
        "plt.figure(figsize=(10, 5))\n",
        "sns.barplot(x='Rating', y=top_10.index, data=top_10)\n",
        "plt.title(\"Display Top 10 Highest Rated Movie Titles\")\n",
        "plt.show()\n"
      ],
      "metadata": {
        "execution": {
          "iopub.status.busy": "2022-10-07T07:47:29.485389Z",
          "iopub.execute_input": "2022-10-07T07:47:29.485961Z",
          "iopub.status.idle": "2022-10-07T07:47:29.770291Z",
          "shell.execute_reply.started": "2022-10-07T07:47:29.485921Z",
          "shell.execute_reply": "2022-10-07T07:47:29.768998Z"
        },
        "trusted": true,
        "colab": {
          "base_uri": "https://localhost:8080/",
          "height": 695
        },
        "id": "yCj-S6sQGo43",
        "outputId": "86a4d9e9-8f7b-41ad-85e4-1df25fdfda5c"
      },
      "execution_count": null,
      "outputs": [
        {
          "output_type": "stream",
          "name": "stdout",
          "text": [
            "                       Rating                          Director\n",
            "Title                                                          \n",
            "The Dark Knight           9.0                 Christopher Nolan\n",
            "Inception                 8.8                 Christopher Nolan\n",
            "Interstellar              8.6                 Christopher Nolan\n",
            "Kimi no na wa             8.6                    Makoto Shinkai\n",
            "The Intouchables          8.6                   Olivier Nakache\n",
            "The Prestige              8.5                 Christopher Nolan\n",
            "The Departed              8.5                   Martin Scorsese\n",
            "The Dark Knight Rises     8.5                 Christopher Nolan\n",
            "Whiplash                  8.5                   Damien Chazelle\n",
            "The Lives of Others       8.5  Florian Henckel von Donnersmarck\n"
          ]
        },
        {
          "output_type": "display_data",
          "data": {
            "text/plain": [
              "<Figure size 1000x500 with 1 Axes>"
            ],
            "image/png": "[encoded data removed]"
          },
          "metadata": {}
        }
      ]
    },
    {
      "cell_type": "markdown",
      "source": [
        "# 17. Display Top 10 Highest Revenue Movie Titles"
      ],
      "metadata": {
        "id": "60ppWayRGo43"
      }
    },
    {
      "cell_type": "code",
      "source": [
        "data.columns"
      ],
      "metadata": {
        "execution": {
          "iopub.status.busy": "2022-10-07T07:47:58.466404Z",
          "iopub.execute_input": "2022-10-07T07:47:58.466846Z",
          "iopub.status.idle": "2022-10-07T07:47:58.475546Z",
          "shell.execute_reply.started": "2022-10-07T07:47:58.466813Z",
          "shell.execute_reply": "2022-10-07T07:47:58.47355Z"
        },
        "trusted": true,
        "colab": {
          "base_uri": "https://localhost:8080/"
        },
        "id": "48GFc1fzGo43",
        "outputId": "457ee95c-3ec0-4f2a-f479-42d80f7e9617"
      },
      "execution_count": null,
      "outputs": [
        {
          "output_type": "execute_result",
          "data": {
            "text/plain": [
              "Index(['Rank', 'Title', 'Genre', 'Description', 'Director', 'Actors', 'Year',\n",
              "       'Runtime (Minutes)', 'Rating', 'Votes', 'Revenue (Millions)',\n",
              "       'Metascore'],\n",
              "      dtype='object')"
            ]
          },
          "metadata": {},
          "execution_count": 29
        }
      ]
    },
    {
      "cell_type": "code",
      "source": [
        "data.sort_values(by='Revenue (Millions)',ascending=False).head(10)"
      ],
      "metadata": {
        "execution": {
          "iopub.status.busy": "2022-10-07T07:48:04.579088Z",
          "iopub.execute_input": "2022-10-07T07:48:04.579617Z",
          "iopub.status.idle": "2022-10-07T07:48:04.6059Z",
          "shell.execute_reply.started": "2022-10-07T07:48:04.579576Z",
          "shell.execute_reply": "2022-10-07T07:48:04.604344Z"
        },
        "trusted": true,
        "colab": {
          "base_uri": "https://localhost:8080/",
          "height": 554
        },
        "id": "jfaeBq7aGo43",
        "outputId": "23770cb6-6770-477a-8ed8-a5204977533a"
      },
      "execution_count": null,
      "outputs": [
        {
          "output_type": "execute_result",
          "data": {
            "text/plain": [
              "     Rank                                       Title  \\\n",
              "50     51  Star Wars: Episode VII - The Force Awakens   \n",
              "87     88                                      Avatar   \n",
              "85     86                              Jurassic World   \n",
              "76     77                                The Avengers   \n",
              "54     55                             The Dark Knight   \n",
              "12     13                                   Rogue One   \n",
              "119   120                                Finding Dory   \n",
              "94     95                     Avengers: Age of Ultron   \n",
              "124   125                       The Dark Knight Rises   \n",
              "578   579             The Hunger Games: Catching Fire   \n",
              "\n",
              "                          Genre  \\\n",
              "50     Action,Adventure,Fantasy   \n",
              "87     Action,Adventure,Fantasy   \n",
              "85      Action,Adventure,Sci-Fi   \n",
              "76                Action,Sci-Fi   \n",
              "54           Action,Crime,Drama   \n",
              "12      Action,Adventure,Sci-Fi   \n",
              "119  Animation,Adventure,Comedy   \n",
              "94      Action,Adventure,Sci-Fi   \n",
              "124             Action,Thriller   \n",
              "578    Action,Adventure,Mystery   \n",
              "\n",
              "                                           Description           Director  \\\n",
              "50   Three decades after the defeat of the Galactic...        J.J. Abrams   \n",
              "87   A paraplegic marine dispatched to the moon Pan...      James Cameron   \n",
              "85   A new theme park, built on the original site o...    Colin Trevorrow   \n",
              "76   Earth's mightiest heroes must come together an...        Joss Whedon   \n",
              "54   When the menace known as the Joker wreaks havo...  Christopher Nolan   \n",
              "12   The Rebel Alliance makes a risky move to steal...     Gareth Edwards   \n",
              "119  The friendly but forgetful blue tang fish, Dor...     Andrew Stanton   \n",
              "94   When Tony Stark and Bruce Banner try to jump-s...        Joss Whedon   \n",
              "124  Eight years after the Joker's reign of anarchy...  Christopher Nolan   \n",
              "578  Katniss Everdeen and Peeta Mellark become targ...   Francis Lawrence   \n",
              "\n",
              "                                                Actors  Year  \\\n",
              "50   Daisy Ridley, John Boyega, Oscar Isaac, Domhna...  2015   \n",
              "87   Sam Worthington, Zoe Saldana, Sigourney Weaver...  2009   \n",
              "85   Chris Pratt, Bryce Dallas Howard, Ty Simpkins,...  2015   \n",
              "76   Robert Downey Jr., Chris Evans, Scarlett Johan...  2012   \n",
              "54   Christian Bale, Heath Ledger, Aaron Eckhart,Mi...  2008   \n",
              "12   Felicity Jones, Diego Luna, Alan Tudyk, Donnie...  2016   \n",
              "119  Ellen DeGeneres, Albert Brooks,Ed O'Neill, Kai...  2016   \n",
              "94   Robert Downey Jr., Chris Evans, Mark Ruffalo, ...  2015   \n",
              "124  Christian Bale, Tom Hardy, Anne Hathaway,Gary ...  2012   \n",
              "578  Jennifer Lawrence, Josh Hutcherson, Liam Hemsw...  2013   \n",
              "\n",
              "     Runtime (Minutes)  Rating    Votes  Revenue (Millions)  Metascore  \n",
              "50                 136     8.1   661608              936.63       81.0  \n",
              "87                 162     7.8   935408              760.51       83.0  \n",
              "85                 124     7.0   455169              652.18       59.0  \n",
              "76                 143     8.1  1045588              623.28       69.0  \n",
              "54                 152     9.0  1791916              533.32       82.0  \n",
              "12                 133     7.9   323118              532.17       65.0  \n",
              "119                 97     7.4   157026              486.29       77.0  \n",
              "94                 141     7.4   516895              458.99       66.0  \n",
              "124                164     8.5  1222645              448.13       78.0  \n",
              "578                146     7.6   525646              424.65       76.0  "
            ],
            "text/html": [
              "\n",
              "  <div id=\"df-b6506d17-ba36-4b12-8a9a-d3e03a8b9a3a\" class=\"colab-df-container\">\n",
              "    <div>\n",
              "<style scoped>\n",
              "    .dataframe tbody tr th:only-of-type {\n",
              "        vertical-align: middle;\n",
              "    }\n",
              "\n",
              "    .dataframe tbody tr th {\n",
              "        vertical-align: top;\n",
              "    }\n",
              "\n",
              "    .dataframe thead th {\n",
              "        text-align: right;\n",
              "    }\n",
              "</style>\n",
              "<table border=\"1\" class=\"dataframe\">\n",
              "  <thead>\n",
              "    <tr style=\"text-align: right;\">\n",
              "      <th></th>\n",
              "      <th>Rank</th>\n",
              "      <th>Title</th>\n",
              "      <th>Genre</th>\n",
              "      <th>Description</th>\n",
              "      <th>Director</th>\n",
              "      <th>Actors</th>\n",
              "      <th>Year</th>\n",
              "      <th>Runtime (Minutes)</th>\n",
              "      <th>Rating</th>\n",
              "      <th>Votes</th>\n",
              "      <th>Revenue (Millions)</th>\n",
              "      <th>Metascore</th>\n",
              "    </tr>\n",
              "  </thead>\n",
              "  <tbody>\n",
              "    <tr>\n",
              "      <th>50</th>\n",
              "      <td>51</td>\n",
              "      <td>Star Wars: Episode VII - The Force Awakens</td>\n",
              "      <td>Action,Adventure,Fantasy</td>\n",
              "      <td>Three decades after the defeat of the Galactic...</td>\n",
              "      <td>J.J. Abrams</td>\n",
              "      <td>Daisy Ridley, John Boyega, Oscar Isaac, Domhna...</td>\n",
              "      <td>2015</td>\n",
              "      <td>136</td>\n",
              "      <td>8.1</td>\n",
              "      <td>661608</td>\n",
              "      <td>936.63</td>\n",
              "      <td>81.0</td>\n",
              "    </tr>\n",
              "    <tr>\n",
              "      <th>87</th>\n",
              "      <td>88</td>\n",
              "      <td>Avatar</td>\n",
              "      <td>Action,Adventure,Fantasy</td>\n",
              "      <td>A paraplegic marine dispatched to the moon Pan...</td>\n",
              "      <td>James Cameron</td>\n",
              "      <td>Sam Worthington, Zoe Saldana, Sigourney Weaver...</td>\n",
              "      <td>2009</td>\n",
              "      <td>162</td>\n",
              "      <td>7.8</td>\n",
              "      <td>935408</td>\n",
              "      <td>760.51</td>\n",
              "      <td>83.0</td>\n",
              "    </tr>\n",
              "    <tr>\n",
              "      <th>85</th>\n",
              "      <td>86</td>\n",
              "      <td>Jurassic World</td>\n",
              "      <td>Action,Adventure,Sci-Fi</td>\n",
              "      <td>A new theme park, built on the original site o...</td>\n",
              "      <td>Colin Trevorrow</td>\n",
              "      <td>Chris Pratt, Bryce Dallas Howard, Ty Simpkins,...</td>\n",
              "      <td>2015</td>\n",
              "      <td>124</td>\n",
              "      <td>7.0</td>\n",
              "      <td>455169</td>\n",
              "      <td>652.18</td>\n",
              "      <td>59.0</td>\n",
              "    </tr>\n",
              "    <tr>\n",
              "      <th>76</th>\n",
              "      <td>77</td>\n",
              "      <td>The Avengers</td>\n",
              "      <td>Action,Sci-Fi</td>\n",
              "      <td>Earth's mightiest heroes must come together an...</td>\n",
              "      <td>Joss Whedon</td>\n",
              "      <td>Robert Downey Jr., Chris Evans, Scarlett Johan...</td>\n",
              "      <td>2012</td>\n",
              "      <td>143</td>\n",
              "      <td>8.1</td>\n",
              "      <td>1045588</td>\n",
              "      <td>623.28</td>\n",
              "      <td>69.0</td>\n",
              "    </tr>\n",
              "    <tr>\n",
              "      <th>54</th>\n",
              "      <td>55</td>\n",
              "      <td>The Dark Knight</td>\n",
              "      <td>Action,Crime,Drama</td>\n",
              "      <td>When the menace known as the Joker wreaks havo...</td>\n",
              "      <td>Christopher Nolan</td>\n",
              "      <td>Christian Bale, Heath Ledger, Aaron Eckhart,Mi...</td>\n",
              "      <td>2008</td>\n",
              "      <td>152</td>\n",
              "      <td>9.0</td>\n",
              "      <td>1791916</td>\n",
              "      <td>533.32</td>\n",
              "      <td>82.0</td>\n",
              "    </tr>\n",
              "    <tr>\n",
              "      <th>12</th>\n",
              "      <td>13</td>\n",
              "      <td>Rogue One</td>\n",
              "      <td>Action,Adventure,Sci-Fi</td>\n",
              "      <td>The Rebel Alliance makes a risky move to steal...</td>\n",
              "      <td>Gareth Edwards</td>\n",
              "      <td>Felicity Jones, Diego Luna, Alan Tudyk, Donnie...</td>\n",
              "      <td>2016</td>\n",
              "      <td>133</td>\n",
              "      <td>7.9</td>\n",
              "      <td>323118</td>\n",
              "      <td>532.17</td>\n",
              "      <td>65.0</td>\n",
              "    </tr>\n",
              "    <tr>\n",
              "      <th>119</th>\n",
              "      <td>120</td>\n",
              "      <td>Finding Dory</td>\n",
              "      <td>Animation,Adventure,Comedy</td>\n",
              "      <td>The friendly but forgetful blue tang fish, Dor...</td>\n",
              "      <td>Andrew Stanton</td>\n",
              "      <td>Ellen DeGeneres, Albert Brooks,Ed O'Neill, Kai...</td>\n",
              "      <td>2016</td>\n",
              "      <td>97</td>\n",
              "      <td>7.4</td>\n",
              "      <td>157026</td>\n",
              "      <td>486.29</td>\n",
              "      <td>77.0</td>\n",
              "    </tr>\n",
              "    <tr>\n",
              "      <th>94</th>\n",
              "      <td>95</td>\n",
              "      <td>Avengers: Age of Ultron</td>\n",
              "      <td>Action,Adventure,Sci-Fi</td>\n",
              "      <td>When Tony Stark and Bruce Banner try to jump-s...</td>\n",
              "      <td>Joss Whedon</td>\n",
              "      <td>Robert Downey Jr., Chris Evans, Mark Ruffalo, ...</td>\n",
              "      <td>2015</td>\n",
              "      <td>141</td>\n",
              "      <td>7.4</td>\n",
              "      <td>516895</td>\n",
              "      <td>458.99</td>\n",
              "      <td>66.0</td>\n",
              "    </tr>\n",
              "    <tr>\n",
              "      <th>124</th>\n",
              "      <td>125</td>\n",
              "      <td>The Dark Knight Rises</td>\n",
              "      <td>Action,Thriller</td>\n",
              "      <td>Eight years after the Joker's reign of anarchy...</td>\n",
              "      <td>Christopher Nolan</td>\n",
              "      <td>Christian Bale, Tom Hardy, Anne Hathaway,Gary ...</td>\n",
              "      <td>2012</td>\n",
              "      <td>164</td>\n",
              "      <td>8.5</td>\n",
              "      <td>1222645</td>\n",
              "      <td>448.13</td>\n",
              "      <td>78.0</td>\n",
              "    </tr>\n",
              "    <tr>\n",
              "      <th>578</th>\n",
              "      <td>579</td>\n",
              "      <td>The Hunger Games: Catching Fire</td>\n",
              "      <td>Action,Adventure,Mystery</td>\n",
              "      <td>Katniss Everdeen and Peeta Mellark become targ...</td>\n",
              "      <td>Francis Lawrence</td>\n",
              "      <td>Jennifer Lawrence, Josh Hutcherson, Liam Hemsw...</td>\n",
              "      <td>2013</td>\n",
              "      <td>146</td>\n",
              "      <td>7.6</td>\n",
              "      <td>525646</td>\n",
              "      <td>424.65</td>\n",
              "      <td>76.0</td>\n",
              "    </tr>\n",
              "  </tbody>\n",
              "</table>\n",
              "</div>\n",
              "    <div class=\"colab-df-buttons\">\n",
              "\n",
              "  <div class=\"colab-df-container\">\n",
              "    <button class=\"colab-df-convert\" onclick=\"convertToInteractive('df-b6506d17-ba36-4b12-8a9a-d3e03a8b9a3a')\"\n",
              "            title=\"Convert this dataframe to an interactive table.\"\n",
              "            style=\"display:none;\">\n",
              "\n",
              "  <svg xmlns=\"http://www.w3.org/2000/svg\" height=\"24px\" viewBox=\"0 -960 960 960\">\n",
              "    <path d=\"M120-120v-720h720v720H120Zm60-500h600v-160H180v160Zm220 220h160v-160H400v160Zm0 220h160v-160H400v160ZM180-400h160v-160H180v160Zm440 0h160v-160H620v160ZM180-180h160v-160H180v160Zm440 0h160v-160H620v160Z\"/>\n",
              "  </svg>\n",
              "    </button>\n",
              "\n",
              "  <style>\n",
              "    .colab-df-container {\n",
              "      display:flex;\n",
              "      gap: 12px;\n",
              "    }\n",
              "\n",
              "    .colab-df-convert {\n",
              "      background-color: #E8F0FE;\n",
              "      border: none;\n",
              "      border-radius: 50%;\n",
              "      cursor: pointer;\n",
              "      display: none;\n",
              "      fill: #1967D2;\n",
              "      height: 32px;\n",
              "      padding: 0 0 0 0;\n",
              "      width: 32px;\n",
              "    }\n",
              "\n",
              "    .colab-df-convert:hover {\n",
              "      background-color: #E2EBFA;\n",
              "      box-shadow: 0px 1px 2px rgba(60, 64, 67, 0.3), 0px 1px 3px 1px rgba(60, 64, 67, 0.15);\n",
              "      fill: #174EA6;\n",
              "    }\n",
              "\n",
              "    .colab-df-buttons div {\n",
              "      margin-bottom: 4px;\n",
              "    }\n",
              "\n",
              "    [theme=dark] .colab-df-convert {\n",
              "      background-color: #3B4455;\n",
              "      fill: #D2E3FC;\n",
              "    }\n",
              "\n",
              "    [theme=dark] .colab-df-convert:hover {\n",
              "      background-color: #434B5C;\n",
              "      box-shadow: 0px 1px 3px 1px rgba(0, 0, 0, 0.15);\n",
              "      filter: drop-shadow(0px 1px 2px rgba(0, 0, 0, 0.3));\n",
              "      fill: #FFFFFF;\n",
              "    }\n",
              "  </style>\n",
              "\n",
              "    <script>\n",
              "      const buttonEl =\n",
              "        document.querySelector('#df-b6506d17-ba36-4b12-8a9a-d3e03a8b9a3a button.colab-df-convert');\n",
              "      buttonEl.style.display =\n",
              "        google.colab.kernel.accessAllowed ? 'block' : 'none';\n",
              "\n",
              "      async function convertToInteractive(key) {\n",
              "        const element = document.querySelector('#df-b6506d17-ba36-4b12-8a9a-d3e03a8b9a3a');\n",
              "        const dataTable =\n",
              "          await google.colab.kernel.invokeFunction('convertToInteractive',\n",
              "                                                    [key], {});\n",
              "        if (!dataTable) return;\n",
              "\n",
              "        const docLinkHtml = 'Like what you see? Visit the ' +\n",
              "          '<a target=\"_blank\" href=https://colab.research.google.com/notebooks/data_table.ipynb>data table notebook</a>'\n",
              "          + ' to learn more about interactive tables.';\n",
              "        element.innerHTML = '';\n",
              "        dataTable['output_type'] = 'display_data';\n",
              "        await google.colab.output.renderOutput(dataTable, element);\n",
              "        const docLink = document.createElement('div');\n",
              "        docLink.innerHTML = docLinkHtml;\n",
              "        element.appendChild(docLink);\n",
              "      }\n",
              "    </script>\n",
              "  </div>\n",
              "\n",
              "\n",
              "<div id=\"df-2a14dd40-37f4-445e-ab5b-f0457291d4d4\">\n",
              "  <button class=\"colab-df-quickchart\" onclick=\"quickchart('df-2a14dd40-37f4-445e-ab5b-f0457291d4d4')\"\n",
              "            title=\"Suggest charts\"\n",
              "            style=\"display:none;\">\n",
              "\n",
              "<svg xmlns=\"http://www.w3.org/2000/svg\" height=\"24px\"viewBox=\"0 0 24 24\"\n",
              "     width=\"24px\">\n",
              "    <g>\n",
              "        <path d=\"M19 3H5c-1.1 0-2 .9-2 2v14c0 1.1.9 2 2 2h14c1.1 0 2-.9 2-2V5c0-1.1-.9-2-2-2zM9 17H7v-7h2v7zm4 0h-2V7h2v10zm4 0h-2v-4h2v4z\"/>\n",
              "    </g>\n",
              "</svg>\n",
              "  </button>\n",
              "\n",
              "<style>\n",
              "  .colab-df-quickchart {\n",
              "      --bg-color: #E8F0FE;\n",
              "      --fill-color: #1967D2;\n",
              "      --hover-bg-color: #E2EBFA;\n",
              "      --hover-fill-color: #174EA6;\n",
              "      --disabled-fill-color: #AAA;\n",
              "      --disabled-bg-color: #DDD;\n",
              "  }\n",
              "\n",
              "  [theme=dark] .colab-df-quickchart {\n",
              "      --bg-color: #3B4455;\n",
              "      --fill-color: #D2E3FC;\n",
              "      --hover-bg-color: #434B5C;\n",
              "      --hover-fill-color: #FFFFFF;\n",
              "      --disabled-bg-color: #3B4455;\n",
              "      --disabled-fill-color: #666;\n",
              "  }\n",
              "\n",
              "  .colab-df-quickchart {\n",
              "    background-color: var(--bg-color);\n",
              "    border: none;\n",
              "    border-radius: 50%;\n",
              "    cursor: pointer;\n",
              "    display: none;\n",
              "    fill: var(--fill-color);\n",
              "    height: 32px;\n",
              "    padding: 0;\n",
              "    width: 32px;\n",
              "  }\n",
              "\n",
              "  .colab-df-quickchart:hover {\n",
              "    background-color: var(--hover-bg-color);\n",
              "    box-shadow: 0 1px 2px rgba(60, 64, 67, 0.3), 0 1px 3px 1px rgba(60, 64, 67, 0.15);\n",
              "    fill: var(--button-hover-fill-color);\n",
              "  }\n",
              "\n",
              "  .colab-df-quickchart-complete:disabled,\n",
              "  .colab-df-quickchart-complete:disabled:hover {\n",
              "    background-color: var(--disabled-bg-color);\n",
              "    fill: var(--disabled-fill-color);\n",
              "    box-shadow: none;\n",
              "  }\n",
              "\n",
              "  .colab-df-spinner {\n",
              "    border: 2px solid var(--fill-color);\n",
              "    border-color: transparent;\n",
              "    border-bottom-color: var(--fill-color);\n",
              "    animation:\n",
              "      spin 1s steps(1) infinite;\n",
              "  }\n",
              "\n",
              "  @keyframes spin {\n",
              "    0% {\n",
              "      border-color: transparent;\n",
              "      border-bottom-color: var(--fill-color);\n",
              "      border-left-color: var(--fill-color);\n",
              "    }\n",
              "    20% {\n",
              "      border-color: transparent;\n",
              "      border-left-color: var(--fill-color);\n",
              "      border-top-color: var(--fill-color);\n",
              "    }\n",
              "    30% {\n",
              "      border-color: transparent;\n",
              "      border-left-color: var(--fill-color);\n",
              "      border-top-color: var(--fill-color);\n",
              "      border-right-color: var(--fill-color);\n",
              "    }\n",
              "    40% {\n",
              "      border-color: transparent;\n",
              "      border-right-color: var(--fill-color);\n",
              "      border-top-color: var(--fill-color);\n",
              "    }\n",
              "    60% {\n",
              "      border-color: transparent;\n",
              "      border-right-color: var(--fill-color);\n",
              "    }\n",
              "    80% {\n",
              "      border-color: transparent;\n",
              "      border-right-color: var(--fill-color);\n",
              "      border-bottom-color: var(--fill-color);\n",
              "    }\n",
              "    90% {\n",
              "      border-color: transparent;\n",
              "      border-bottom-color: var(--fill-color);\n",
              "    }\n",
              "  }\n",
              "</style>\n",
              "\n",
              "  <script>\n",
              "    async function quickchart(key) {\n",
              "      const quickchartButtonEl =\n",
              "        document.querySelector('#' + key + ' button');\n",
              "      quickchartButtonEl.disabled = true;  // To prevent multiple clicks.\n",
              "      quickchartButtonEl.classList.add('colab-df-spinner');\n",
              "      try {\n",
              "        const charts = await google.colab.kernel.invokeFunction(\n",
              "            'suggestCharts', [key], {});\n",
              "      } catch (error) {\n",
              "        console.error('Error during call to suggestCharts:', error);\n",
              "      }\n",
              "      quickchartButtonEl.classList.remove('colab-df-spinner');\n",
              "      quickchartButtonEl.classList.add('colab-df-quickchart-complete');\n",
              "    }\n",
              "    (() => {\n",
              "      let quickchartButtonEl =\n",
              "        document.querySelector('#df-2a14dd40-37f4-445e-ab5b-f0457291d4d4 button');\n",
              "      quickchartButtonEl.style.display =\n",
              "        google.colab.kernel.accessAllowed ? 'block' : 'none';\n",
              "    })();\n",
              "  </script>\n",
              "</div>\n",
              "\n",
              "    </div>\n",
              "  </div>\n"
            ],
            "application/vnd.google.colaboratory.intrinsic+json": {
              "type": "dataframe",
              "summary": "{\n  \"name\": \"data\",\n  \"rows\": 10,\n  \"fields\": [\n    {\n      \"column\": \"Rank\",\n      \"properties\": {\n        \"dtype\": \"number\",\n        \"std\": 161,\n        \"min\": 13,\n        \"max\": 579,\n        \"num_unique_values\": 10,\n        \"samples\": [\n          125,\n          88,\n          13\n        ],\n        \"semantic_type\": \"\",\n        \"description\": \"\"\n      }\n    },\n    {\n      \"column\": \"Title\",\n      \"properties\": {\n        \"dtype\": \"string\",\n        \"num_unique_values\": 10,\n        \"samples\": [\n          \"The Dark Knight Rises\",\n          \"Avatar\",\n          \"Rogue One\"\n        ],\n        \"semantic_type\": \"\",\n        \"description\": \"\"\n      }\n    },\n    {\n      \"column\": \"Genre\",\n      \"properties\": {\n        \"dtype\": \"string\",\n        \"num_unique_values\": 7,\n        \"samples\": [\n          \"Action,Adventure,Fantasy\",\n          \"Action,Adventure,Sci-Fi\",\n          \"Action,Thriller\"\n        ],\n        \"semantic_type\": \"\",\n        \"description\": \"\"\n      }\n    },\n    {\n      \"column\": \"Description\",\n      \"properties\": {\n        \"dtype\": \"string\",\n        \"num_unique_values\": 10,\n        \"samples\": [\n          \"Eight years after the Joker's reign of anarchy, the Dark Knight, with the help of the enigmatic Selina, is forced from his imposed exile to save Gotham City, now on the edge of total annihilation, from the brutal guerrilla terrorist Bane.\",\n          \"A paraplegic marine dispatched to the moon Pandora on a unique mission becomes torn between following his orders and protecting the world he feels is his home.\",\n          \"The Rebel Alliance makes a risky move to steal the plans for the Death Star, setting up the epic saga to follow.\"\n        ],\n        \"semantic_type\": \"\",\n        \"description\": \"\"\n      }\n    },\n    {\n      \"column\": \"Director\",\n      \"properties\": {\n        \"dtype\": \"string\",\n        \"num_unique_values\": 8,\n        \"samples\": [\n          \"James Cameron\",\n          \"Gareth Edwards\",\n          \"J.J. Abrams\"\n        ],\n        \"semantic_type\": \"\",\n        \"description\": \"\"\n      }\n    },\n    {\n      \"column\": \"Actors\",\n      \"properties\": {\n        \"dtype\": \"string\",\n        \"num_unique_values\": 10,\n        \"samples\": [\n          \"Christian Bale, Tom Hardy, Anne Hathaway,Gary Oldman\",\n          \"Sam Worthington, Zoe Saldana, Sigourney Weaver, Michelle Rodriguez\",\n          \"Felicity Jones, Diego Luna, Alan Tudyk, Donnie Yen\"\n        ],\n        \"semantic_type\": \"\",\n        \"description\": \"\"\n      }\n    },\n    {\n      \"column\": \"Year\",\n      \"properties\": {\n        \"dtype\": \"number\",\n        \"std\": 2,\n        \"min\": 2008,\n        \"max\": 2016,\n        \"num_unique_values\": 6,\n        \"samples\": [\n          2015,\n          2009,\n          2013\n        ],\n        \"semantic_type\": \"\",\n        \"description\": \"\"\n      }\n    },\n    {\n      \"column\": \"Runtime (Minutes)\",\n      \"properties\": {\n        \"dtype\": \"number\",\n        \"std\": 19,\n        \"min\": 97,\n        \"max\": 164,\n        \"num_unique_values\": 10,\n        \"samples\": [\n          164,\n          162,\n          133\n        ],\n        \"semantic_type\": \"\",\n        \"description\": \"\"\n      }\n    },\n    {\n      \"column\": \"Rating\",\n      \"properties\": {\n        \"dtype\": \"number\",\n        \"std\": 0.5827139568909908,\n        \"min\": 7.0,\n        \"max\": 9.0,\n        \"num_unique_values\": 8,\n        \"samples\": [\n          7.8,\n          7.4,\n          8.1\n        ],\n        \"semantic_type\": \"\",\n        \"description\": \"\"\n      }\n    },\n    {\n      \"column\": \"Votes\",\n      \"properties\": {\n        \"dtype\": \"number\",\n        \"std\": 490143,\n        \"min\": 157026,\n        \"max\": 1791916,\n        \"num_unique_values\": 10,\n        \"samples\": [\n          1222645,\n          935408,\n          323118\n        ],\n        \"semantic_type\": \"\",\n        \"description\": \"\"\n      }\n    },\n    {\n      \"column\": \"Revenue (Millions)\",\n      \"properties\": {\n        \"dtype\": \"number\",\n        \"std\": 161.91619246799664,\n        \"min\": 424.65,\n        \"max\": 936.63,\n        \"num_unique_values\": 10,\n        \"samples\": [\n          448.13,\n          760.51,\n          532.17\n        ],\n        \"semantic_type\": \"\",\n        \"description\": \"\"\n      }\n    },\n    {\n      \"column\": \"Metascore\",\n      \"properties\": {\n        \"dtype\": \"number\",\n        \"std\": 8.275801404630785,\n        \"min\": 59.0,\n        \"max\": 83.0,\n        \"num_unique_values\": 10,\n        \"samples\": [\n          78.0,\n          83.0,\n          65.0\n        ],\n        \"semantic_type\": \"\",\n        \"description\": \"\"\n      }\n    }\n  ]\n}"
            }
          },
          "metadata": {},
          "execution_count": 31
        }
      ]
    },
    {
      "cell_type": "code",
      "source": [
        "top_10 = data.nlargest(10,'Revenue (Millions)')[['Title','Director','Revenue (Millions)']].set_index('Title')"
      ],
      "metadata": {
        "execution": {
          "iopub.status.busy": "2022-10-07T07:48:15.758015Z",
          "iopub.execute_input": "2022-10-07T07:48:15.758462Z",
          "iopub.status.idle": "2022-10-07T07:48:15.771041Z",
          "shell.execute_reply.started": "2022-10-07T07:48:15.758428Z",
          "shell.execute_reply": "2022-10-07T07:48:15.769383Z"
        },
        "trusted": true,
        "id": "vBWD6pJ_Go43"
      },
      "execution_count": null,
      "outputs": []
    },
    {
      "cell_type": "code",
      "source": [
        "sns.barplot(x=top_10['Revenue (Millions)'], y=top_10.index)\n",
        "plt.title(\"Display Top 10 Highest Revenue Movie Titles\")\n",
        "plt.show()"
      ],
      "metadata": {
        "execution": {
          "iopub.status.busy": "2022-10-07T07:48:21.948173Z",
          "iopub.execute_input": "2022-10-07T07:48:21.948665Z",
          "iopub.status.idle": "2022-10-07T07:48:22.215979Z",
          "shell.execute_reply.started": "2022-10-07T07:48:21.948629Z",
          "shell.execute_reply": "2022-10-07T07:48:22.214341Z"
        },
        "trusted": true,
        "colab": {
          "base_uri": "https://localhost:8080/",
          "height": 472
        },
        "id": "Nz3B1NPqGo43",
        "outputId": "7e0afbae-57ae-46d1-e161-6ab1cc155d1d"
      },
      "execution_count": null,
      "outputs": [
        {
          "output_type": "display_data",
          "data": {
            "text/plain": [
              "<Figure size 640x480 with 1 Axes>"
            ],
            "image/png": "[encoded data removed]"
          },
          "metadata": {}
        }
      ]
    },
    {
      "cell_type": "markdown",
      "source": [
        "# 18.  Find Average Rating of Movies Year-wise"
      ],
      "metadata": {
        "id": "DYl3lbOLGo43"
      }
    },
    {
      "cell_type": "code",
      "source": [
        "data.columns"
      ],
      "metadata": {
        "execution": {
          "iopub.status.busy": "2022-10-07T07:50:24.983586Z",
          "iopub.execute_input": "2022-10-07T07:50:24.985212Z",
          "iopub.status.idle": "2022-10-07T07:50:24.994743Z",
          "shell.execute_reply.started": "2022-10-07T07:50:24.985163Z",
          "shell.execute_reply": "2022-10-07T07:50:24.993243Z"
        },
        "trusted": true,
        "colab": {
          "base_uri": "https://localhost:8080/"
        },
        "id": "FVs92_h8Go43",
        "outputId": "2aa2de38-db40-4d11-e535-40d51ca1687a"
      },
      "execution_count": null,
      "outputs": [
        {
          "output_type": "execute_result",
          "data": {
            "text/plain": [
              "Index(['Rank', 'Title', 'Genre', 'Description', 'Director', 'Actors', 'Year',\n",
              "       'Runtime (Minutes)', 'Rating', 'Votes', 'Revenue (Millions)',\n",
              "       'Metascore'],\n",
              "      dtype='object')"
            ]
          },
          "metadata": {},
          "execution_count": 33
        }
      ]
    },
    {
      "cell_type": "code",
      "source": [
        "data1 = data.groupby('Year')['Rating'].mean().sort_values(ascending=False).reset_index()\n",
        "print(data1)\n",
        "plt.figure(figsize=(10, 5))\n",
        "sns.barplot(x='Year', y='Rating', data=data1)\n",
        "plt.title(\"Average Rating of Movies Year-wise\")\n",
        "plt.show()\n"
      ],
      "metadata": {
        "execution": {
          "iopub.status.busy": "2022-10-07T07:50:34.649936Z",
          "iopub.execute_input": "2022-10-07T07:50:34.650312Z",
          "iopub.status.idle": "2022-10-07T07:50:34.666949Z",
          "shell.execute_reply.started": "2022-10-07T07:50:34.650283Z",
          "shell.execute_reply": "2022-10-07T07:50:34.665469Z"
        },
        "trusted": true,
        "colab": {
          "base_uri": "https://localhost:8080/",
          "height": 695
        },
        "id": "YPs2QUVFGo43",
        "outputId": "56f01e66-d24c-46eb-8e9a-b177c6a53f10"
      },
      "execution_count": null,
      "outputs": [
        {
          "output_type": "stream",
          "name": "stdout",
          "text": [
            "    Year    Rating\n",
            "0   2006  7.143902\n",
            "1   2007  7.140909\n",
            "2   2011  6.945614\n",
            "3   2012  6.933871\n",
            "4   2009  6.911111\n",
            "5   2010  6.894737\n",
            "6   2013  6.832143\n",
            "7   2014  6.822581\n",
            "8   2008  6.708333\n",
            "9   2015  6.674312\n",
            "10  2016  6.644444\n"
          ]
        },
        {
          "output_type": "display_data",
          "data": {
            "text/plain": [
              "<Figure size 1000x500 with 1 Axes>"
            ],
            "image/png": "[encoded data removed]"
          },
          "metadata": {}
        }
      ]
    },
    {
      "cell_type": "code",
      "source": [
        "data1 = data.groupby('Year')['Rating'].mean().sort_values(ascending=False).reset_index()"
      ],
      "metadata": {
        "execution": {
          "iopub.status.busy": "2022-10-07T07:50:42.206022Z",
          "iopub.execute_input": "2022-10-07T07:50:42.206518Z",
          "iopub.status.idle": "2022-10-07T07:50:42.221141Z",
          "shell.execute_reply.started": "2022-10-07T07:50:42.206476Z",
          "shell.execute_reply": "2022-10-07T07:50:42.219454Z"
        },
        "trusted": true,
        "id": "KVa7lpyiGo43"
      },
      "execution_count": null,
      "outputs": []
    },
    {
      "cell_type": "code",
      "source": [
        "plt.figure(figsize=(10, 5))\n",
        "sns.barplot(x=data1.index, y=data1['Rating'])\n",
        "plt.title(\"Average Rating of Movies Year-wise\")\n",
        "plt.show()"
      ],
      "metadata": {
        "execution": {
          "iopub.status.busy": "2022-10-07T07:56:13.053386Z",
          "iopub.execute_input": "2022-10-07T07:56:13.053935Z",
          "iopub.status.idle": "2022-10-07T07:56:13.332583Z",
          "shell.execute_reply.started": "2022-10-07T07:56:13.053892Z",
          "shell.execute_reply": "2022-10-07T07:56:13.33081Z"
        },
        "trusted": true,
        "colab": {
          "base_uri": "https://localhost:8080/",
          "height": 487
        },
        "id": "Zeo8-HApGo43",
        "outputId": "4fcc0766-da7f-4361-c138-533a0d319d5a"
      },
      "execution_count": null,
      "outputs": [
        {
          "output_type": "display_data",
          "data": {
            "text/plain": [
              "<Figure size 1000x500 with 1 Axes>"
            ],
            "image/png": "[encoded data removed]"
          },
          "metadata": {}
        }
      ]
    },
    {
      "cell_type": "markdown",
      "source": [
        "# 19. Does Rating Affect The Revenue?"
      ],
      "metadata": {
        "id": "i3mK6elPGo44"
      }
    },
    {
      "cell_type": "code",
      "source": [
        "sns.scatterplot(x='Rating',y='Revenue (Millions)',data=data)"
      ],
      "metadata": {
        "execution": {
          "iopub.status.busy": "2022-10-07T08:02:54.773564Z",
          "iopub.execute_input": "2022-10-07T08:02:54.774832Z",
          "iopub.status.idle": "2022-10-07T08:02:54.990111Z",
          "shell.execute_reply.started": "2022-10-07T08:02:54.774761Z",
          "shell.execute_reply": "2022-10-07T08:02:54.988664Z"
        },
        "trusted": true,
        "colab": {
          "base_uri": "https://localhost:8080/",
          "height": 466
        },
        "id": "G-5I3rgfGo44",
        "outputId": "9422bd92-f70d-4512-c88d-8d5beeab4673"
      },
      "execution_count": null,
      "outputs": [
        {
          "output_type": "execute_result",
          "data": {
            "text/plain": [
              "<Axes: xlabel='Rating', ylabel='Revenue (Millions)'>"
            ]
          },
          "metadata": {},
          "execution_count": 37
        },
        {
          "output_type": "display_data",
          "data": {
            "text/plain": [
              "<Figure size 640x480 with 1 Axes>"
            ],
            "image/png": "[encoded data removed]"
          },
          "metadata": {}
        }
      ]
    },
    {
      "cell_type": "markdown",
      "source": [
        "# Answer : Yes"
      ],
      "metadata": {
        "execution": {
          "iopub.status.busy": "2022-10-07T08:03:20.504347Z",
          "iopub.execute_input": "2022-10-07T08:03:20.504935Z",
          "iopub.status.idle": "2022-10-07T08:03:20.562599Z",
          "shell.execute_reply.started": "2022-10-07T08:03:20.504898Z",
          "shell.execute_reply": "2022-10-07T08:03:20.560512Z"
        },
        "id": "QaOlBQcDGo44"
      }
    },
    {
      "cell_type": "markdown",
      "source": [
        "# 20. Classify Movies Based on Ratings [Good,Better and Best]"
      ],
      "metadata": {
        "id": "aLiUBd1HGo44"
      }
    },
    {
      "cell_type": "code",
      "source": [
        "data.columns"
      ],
      "metadata": {
        "execution": {
          "iopub.status.busy": "2022-10-07T08:04:15.559477Z",
          "iopub.execute_input": "2022-10-07T08:04:15.560182Z",
          "iopub.status.idle": "2022-10-07T08:04:15.570724Z",
          "shell.execute_reply.started": "2022-10-07T08:04:15.560122Z",
          "shell.execute_reply": "2022-10-07T08:04:15.56931Z"
        },
        "trusted": true,
        "colab": {
          "base_uri": "https://localhost:8080/"
        },
        "id": "rJ_eJpbZGo44",
        "outputId": "eef2630f-a67a-4543-bbff-f2a20852b52a"
      },
      "execution_count": null,
      "outputs": [
        {
          "output_type": "execute_result",
          "data": {
            "text/plain": [
              "Index(['Rank', 'Title', 'Genre', 'Description', 'Director', 'Actors', 'Year',\n",
              "       'Runtime (Minutes)', 'Rating', 'Votes', 'Revenue (Millions)',\n",
              "       'Metascore'],\n",
              "      dtype='object')"
            ]
          },
          "metadata": {},
          "execution_count": 38
        }
      ]
    },
    {
      "cell_type": "code",
      "source": [
        "def rating(rating):\n",
        "    if rating>=7.0:\n",
        "        return 'Excellent'\n",
        "    elif rating>=6.0:\n",
        "        return 'Good'\n",
        "    else:\n",
        "        return 'Average'"
      ],
      "metadata": {
        "execution": {
          "iopub.status.busy": "2022-10-07T08:04:40.534622Z",
          "iopub.execute_input": "2022-10-07T08:04:40.535833Z",
          "iopub.status.idle": "2022-10-07T08:04:40.542749Z",
          "shell.execute_reply.started": "2022-10-07T08:04:40.535761Z",
          "shell.execute_reply": "2022-10-07T08:04:40.541212Z"
        },
        "trusted": true,
        "id": "wqczzyXNGo44"
      },
      "execution_count": null,
      "outputs": []
    },
    {
      "cell_type": "code",
      "source": [
        "data['rating_cat']=data['Rating'].apply(rating)"
      ],
      "metadata": {
        "execution": {
          "iopub.status.busy": "2022-10-07T08:04:46.527082Z",
          "iopub.execute_input": "2022-10-07T08:04:46.527732Z",
          "iopub.status.idle": "2022-10-07T08:04:46.535542Z",
          "shell.execute_reply.started": "2022-10-07T08:04:46.527694Z",
          "shell.execute_reply": "2022-10-07T08:04:46.533924Z"
        },
        "trusted": true,
        "id": "hJOnRk7CGo44"
      },
      "execution_count": null,
      "outputs": []
    },
    {
      "cell_type": "code",
      "source": [
        "data.head(1)"
      ],
      "metadata": {
        "execution": {
          "iopub.status.busy": "2022-10-07T08:04:52.619701Z",
          "iopub.execute_input": "2022-10-07T08:04:52.62047Z",
          "iopub.status.idle": "2022-10-07T08:04:52.643487Z",
          "shell.execute_reply.started": "2022-10-07T08:04:52.620423Z",
          "shell.execute_reply": "2022-10-07T08:04:52.642461Z"
        },
        "trusted": true,
        "colab": {
          "base_uri": "https://localhost:8080/",
          "height": 115
        },
        "id": "osVTMpSSGo44",
        "outputId": "9f05fd49-5a5f-4afd-e154-0e41b75d6126"
      },
      "execution_count": null,
      "outputs": [
        {
          "output_type": "execute_result",
          "data": {
            "text/plain": [
              "   Rank                    Title                    Genre  \\\n",
              "0     1  Guardians of the Galaxy  Action,Adventure,Sci-Fi   \n",
              "\n",
              "                                         Description    Director  \\\n",
              "0  A group of intergalactic criminals are forced ...  James Gunn   \n",
              "\n",
              "                                              Actors  Year  Runtime (Minutes)  \\\n",
              "0  Chris Pratt, Vin Diesel, Bradley Cooper, Zoe S...  2014                121   \n",
              "\n",
              "   Rating   Votes  Revenue (Millions)  Metascore rating_cat  \n",
              "0     8.1  757074              333.13       76.0  Excellent  "
            ],
            "text/html": [
              "\n",
              "  <div id=\"df-81719e85-0437-4ee8-82cf-1e6ec2a740c0\" class=\"colab-df-container\">\n",
              "    <div>\n",
              "<style scoped>\n",
              "    .dataframe tbody tr th:only-of-type {\n",
              "        vertical-align: middle;\n",
              "    }\n",
              "\n",
              "    .dataframe tbody tr th {\n",
              "        vertical-align: top;\n",
              "    }\n",
              "\n",
              "    .dataframe thead th {\n",
              "        text-align: right;\n",
              "    }\n",
              "</style>\n",
              "<table border=\"1\" class=\"dataframe\">\n",
              "  <thead>\n",
              "    <tr style=\"text-align: right;\">\n",
              "      <th></th>\n",
              "      <th>Rank</th>\n",
              "      <th>Title</th>\n",
              "      <th>Genre</th>\n",
              "      <th>Description</th>\n",
              "      <th>Director</th>\n",
              "      <th>Actors</th>\n",
              "      <th>Year</th>\n",
              "      <th>Runtime (Minutes)</th>\n",
              "      <th>Rating</th>\n",
              "      <th>Votes</th>\n",
              "      <th>Revenue (Millions)</th>\n",
              "      <th>Metascore</th>\n",
              "      <th>rating_cat</th>\n",
              "    </tr>\n",
              "  </thead>\n",
              "  <tbody>\n",
              "    <tr>\n",
              "      <th>0</th>\n",
              "      <td>1</td>\n",
              "      <td>Guardians of the Galaxy</td>\n",
              "      <td>Action,Adventure,Sci-Fi</td>\n",
              "      <td>A group of intergalactic criminals are forced ...</td>\n",
              "      <td>James Gunn</td>\n",
              "      <td>Chris Pratt, Vin Diesel, Bradley Cooper, Zoe S...</td>\n",
              "      <td>2014</td>\n",
              "      <td>121</td>\n",
              "      <td>8.1</td>\n",
              "      <td>757074</td>\n",
              "      <td>333.13</td>\n",
              "      <td>76.0</td>\n",
              "      <td>Excellent</td>\n",
              "    </tr>\n",
              "  </tbody>\n",
              "</table>\n",
              "</div>\n",
              "    <div class=\"colab-df-buttons\">\n",
              "\n",
              "  <div class=\"colab-df-container\">\n",
              "    <button class=\"colab-df-convert\" onclick=\"convertToInteractive('df-81719e85-0437-4ee8-82cf-1e6ec2a740c0')\"\n",
              "            title=\"Convert this dataframe to an interactive table.\"\n",
              "            style=\"display:none;\">\n",
              "\n",
              "  <svg xmlns=\"http://www.w3.org/2000/svg\" height=\"24px\" viewBox=\"0 -960 960 960\">\n",
              "    <path d=\"M120-120v-720h720v720H120Zm60-500h600v-160H180v160Zm220 220h160v-160H400v160Zm0 220h160v-160H400v160ZM180-400h160v-160H180v160Zm440 0h160v-160H620v160ZM180-180h160v-160H180v160Zm440 0h160v-160H620v160Z\"/>\n",
              "  </svg>\n",
              "    </button>\n",
              "\n",
              "  <style>\n",
              "    .colab-df-container {\n",
              "      display:flex;\n",
              "      gap: 12px;\n",
              "    }\n",
              "\n",
              "    .colab-df-convert {\n",
              "      background-color: #E8F0FE;\n",
              "      border: none;\n",
              "      border-radius: 50%;\n",
              "      cursor: pointer;\n",
              "      display: none;\n",
              "      fill: #1967D2;\n",
              "      height: 32px;\n",
              "      padding: 0 0 0 0;\n",
              "      width: 32px;\n",
              "    }\n",
              "\n",
              "    .colab-df-convert:hover {\n",
              "      background-color: #E2EBFA;\n",
              "      box-shadow: 0px 1px 2px rgba(60, 64, 67, 0.3), 0px 1px 3px 1px rgba(60, 64, 67, 0.15);\n",
              "      fill: #174EA6;\n",
              "    }\n",
              "\n",
              "    .colab-df-buttons div {\n",
              "      margin-bottom: 4px;\n",
              "    }\n",
              "\n",
              "    [theme=dark] .colab-df-convert {\n",
              "      background-color: #3B4455;\n",
              "      fill: #D2E3FC;\n",
              "    }\n",
              "\n",
              "    [theme=dark] .colab-df-convert:hover {\n",
              "      background-color: #434B5C;\n",
              "      box-shadow: 0px 1px 3px 1px rgba(0, 0, 0, 0.15);\n",
              "      filter: drop-shadow(0px 1px 2px rgba(0, 0, 0, 0.3));\n",
              "      fill: #FFFFFF;\n",
              "    }\n",
              "  </style>\n",
              "\n",
              "    <script>\n",
              "      const buttonEl =\n",
              "        document.querySelector('#df-81719e85-0437-4ee8-82cf-1e6ec2a740c0 button.colab-df-convert');\n",
              "      buttonEl.style.display =\n",
              "        google.colab.kernel.accessAllowed ? 'block' : 'none';\n",
              "\n",
              "      async function convertToInteractive(key) {\n",
              "        const element = document.querySelector('#df-81719e85-0437-4ee8-82cf-1e6ec2a740c0');\n",
              "        const dataTable =\n",
              "          await google.colab.kernel.invokeFunction('convertToInteractive',\n",
              "                                                    [key], {});\n",
              "        if (!dataTable) return;\n",
              "\n",
              "        const docLinkHtml = 'Like what you see? Visit the ' +\n",
              "          '<a target=\"_blank\" href=https://colab.research.google.com/notebooks/data_table.ipynb>data table notebook</a>'\n",
              "          + ' to learn more about interactive tables.';\n",
              "        element.innerHTML = '';\n",
              "        dataTable['output_type'] = 'display_data';\n",
              "        await google.colab.output.renderOutput(dataTable, element);\n",
              "        const docLink = document.createElement('div');\n",
              "        docLink.innerHTML = docLinkHtml;\n",
              "        element.appendChild(docLink);\n",
              "      }\n",
              "    </script>\n",
              "  </div>\n",
              "\n",
              "\n",
              "    </div>\n",
              "  </div>\n"
            ],
            "application/vnd.google.colaboratory.intrinsic+json": {
              "type": "dataframe",
              "variable_name": "data",
              "summary": "{\n  \"name\": \"data\",\n  \"rows\": 838,\n  \"fields\": [\n    {\n      \"column\": \"Rank\",\n      \"properties\": {\n        \"dtype\": \"number\",\n        \"std\": 286,\n        \"min\": 1,\n        \"max\": 1000,\n        \"num_unique_values\": 838,\n        \"samples\": [\n          239,\n          982,\n          90\n        ],\n        \"semantic_type\": \"\",\n        \"description\": \"\"\n      }\n    },\n    {\n      \"column\": \"Title\",\n      \"properties\": {\n        \"dtype\": \"string\",\n        \"num_unique_values\": 837,\n        \"samples\": [\n          \"The Disappointments Room\",\n          \"Annie\",\n          \"The Accountant\"\n        ],\n        \"semantic_type\": \"\",\n        \"description\": \"\"\n      }\n    },\n    {\n      \"column\": \"Genre\",\n      \"properties\": {\n        \"dtype\": \"category\",\n        \"num_unique_values\": 189,\n        \"samples\": [\n          \"Drama,Fantasy,Musical\",\n          \"Drama,Thriller,War\",\n          \"Action,Adventure,Drama\"\n        ],\n        \"semantic_type\": \"\",\n        \"description\": \"\"\n      }\n    },\n    {\n      \"column\": \"Description\",\n      \"properties\": {\n        \"dtype\": \"string\",\n        \"num_unique_values\": 838,\n        \"samples\": [\n          \"The adventures of Gustave H, a legendary concierge at a famous hotel from the fictional Republic of Zubrowka between the first and second World Wars, and Zero Moustafa, the lobby boy who becomes his most trusted friend.\",\n          \"A foster kid, who lives with her mean foster mom, sees her life change when business tycoon and New York mayoral candidate Will Stacks makes a thinly-veiled campaign move and takes her in.\",\n          \"As a math savant uncooks the books for a new client, the Treasury Department closes in on his activities and the body count starts to rise.\"\n        ],\n        \"semantic_type\": \"\",\n        \"description\": \"\"\n      }\n    },\n    {\n      \"column\": \"Director\",\n      \"properties\": {\n        \"dtype\": \"string\",\n        \"num_unique_values\": 524,\n        \"samples\": [\n          \"Andrey Kravchuk\",\n          \"John R. Leonetti\",\n          \"Damien Chazelle\"\n        ],\n        \"semantic_type\": \"\",\n        \"description\": \"\"\n      }\n    },\n    {\n      \"column\": \"Actors\",\n      \"properties\": {\n        \"dtype\": \"string\",\n        \"num_unique_values\": 834,\n        \"samples\": [\n          \"Elijah Wood, Brittany Murphy, Hugh Jackman, Robin Williams\",\n          \"Evan Rachel Wood, Jim Sturgess, Joe Anderson, Dana Fuchs\",\n          \"Vin Diesel, Rose Leslie, Elijah Wood, \\u00d3lafur Darri \\u00d3lafsson\"\n        ],\n        \"semantic_type\": \"\",\n        \"description\": \"\"\n      }\n    },\n    {\n      \"column\": \"Year\",\n      \"properties\": {\n        \"dtype\": \"number\",\n        \"std\": 3,\n        \"min\": 2006,\n        \"max\": 2016,\n        \"num_unique_values\": 11,\n        \"samples\": [\n          2008,\n          2014,\n          2010\n        ],\n        \"semantic_type\": \"\",\n        \"description\": \"\"\n      }\n    },\n    {\n      \"column\": \"Runtime (Minutes)\",\n      \"properties\": {\n        \"dtype\": \"number\",\n        \"std\": 18,\n        \"min\": 66,\n        \"max\": 187,\n        \"num_unique_values\": 90,\n        \"samples\": [\n          130,\n          144,\n          110\n        ],\n        \"semantic_type\": \"\",\n        \"description\": \"\"\n      }\n    },\n    {\n      \"column\": \"Rating\",\n      \"properties\": {\n        \"dtype\": \"number\",\n        \"std\": 0.8777538418027492,\n        \"min\": 1.9,\n        \"max\": 9.0,\n        \"num_unique_values\": 50,\n        \"samples\": [\n          6.6,\n          3.9,\n          6.8\n        ],\n        \"semantic_type\": \"\",\n        \"description\": \"\"\n      }\n    },\n    {\n      \"column\": \"Votes\",\n      \"properties\": {\n        \"dtype\": \"number\",\n        \"std\": 193099,\n        \"min\": 178,\n        \"max\": 1791916,\n        \"num_unique_values\": 837,\n        \"samples\": [\n          4895,\n          27312,\n          162122\n        ],\n        \"semantic_type\": \"\",\n        \"description\": \"\"\n      }\n    },\n    {\n      \"column\": \"Revenue (Millions)\",\n      \"properties\": {\n        \"dtype\": \"number\",\n        \"std\": 104.52022653335474,\n        \"min\": 0.0,\n        \"max\": 936.63,\n        \"num_unique_values\": 789,\n        \"samples\": [\n          93.95,\n          3.44,\n          26.62\n        ],\n        \"semantic_type\": \"\",\n        \"description\": \"\"\n      }\n    },\n    {\n      \"column\": \"Metascore\",\n      \"properties\": {\n        \"dtype\": \"number\",\n        \"std\": 16.95241649434647,\n        \"min\": 11.0,\n        \"max\": 100.0,\n        \"num_unique_values\": 82,\n        \"samples\": [\n          57.0,\n          76.0,\n          36.0\n        ],\n        \"semantic_type\": \"\",\n        \"description\": \"\"\n      }\n    },\n    {\n      \"column\": \"rating_cat\",\n      \"properties\": {\n        \"dtype\": \"category\",\n        \"num_unique_values\": 3,\n        \"samples\": [\n          \"Excellent\",\n          \"Good\",\n          \"Average\"\n        ],\n        \"semantic_type\": \"\",\n        \"description\": \"\"\n      }\n    }\n  ]\n}"
            }
          },
          "metadata": {},
          "execution_count": 41
        }
      ]
    },
    {
      "cell_type": "markdown",
      "source": [
        "# 21. Count Number of Action Movies"
      ],
      "metadata": {
        "id": "fvyGeNryGo44"
      }
    },
    {
      "cell_type": "code",
      "source": [
        "list1=[]\n",
        "for value in data['Genre']:\n",
        "    list1.append(value.split(','))"
      ],
      "metadata": {
        "execution": {
          "iopub.status.busy": "2022-10-07T08:05:27.981906Z",
          "iopub.execute_input": "2022-10-07T08:05:27.982431Z",
          "iopub.status.idle": "2022-10-07T08:05:27.989954Z",
          "shell.execute_reply.started": "2022-10-07T08:05:27.98239Z",
          "shell.execute_reply": "2022-10-07T08:05:27.988725Z"
        },
        "trusted": true,
        "id": "5qwsd9fOGo44"
      },
      "execution_count": 19,
      "outputs": []
    },
    {
      "cell_type": "code",
      "source": [
        "data['temp']=list1"
      ],
      "metadata": {
        "execution": {
          "iopub.status.busy": "2022-10-07T08:05:33.841197Z",
          "iopub.execute_input": "2022-10-07T08:05:33.84164Z",
          "iopub.status.idle": "2022-10-07T08:05:33.849647Z",
          "shell.execute_reply.started": "2022-10-07T08:05:33.841606Z",
          "shell.execute_reply": "2022-10-07T08:05:33.848249Z"
        },
        "trusted": true,
        "id": "RE3B79K6Go44"
      },
      "execution_count": 20,
      "outputs": []
    },
    {
      "cell_type": "code",
      "source": [
        "genre=input(\"Enter Genre you want to count : \").title()\n",
        "count=0\n",
        "for value in data['temp']:\n",
        "    if genre in value:\n",
        "        count=count+1\n",
        "print(\"Total Count is\",count)"
      ],
      "metadata": {
        "execution": {
          "iopub.status.busy": "2022-10-07T08:05:41.69947Z",
          "iopub.execute_input": "2022-10-07T08:05:41.699981Z",
          "iopub.status.idle": "2022-10-07T08:05:59.811213Z",
          "shell.execute_reply.started": "2022-10-07T08:05:41.699943Z",
          "shell.execute_reply": "2022-10-07T08:05:59.810135Z"
        },
        "trusted": true,
        "colab": {
          "base_uri": "https://localhost:8080/"
        },
        "id": "6OZ8bAgfGo44",
        "outputId": "9e8b62b2-a25a-40b2-febb-a9bcfe63c953"
      },
      "execution_count": 21,
      "outputs": [
        {
          "output_type": "stream",
          "name": "stdout",
          "text": [
            "Enter Genre you want to count : action\n",
            "Total Count is 277\n"
          ]
        }
      ]
    },
    {
      "cell_type": "markdown",
      "source": [
        "# OR"
      ],
      "metadata": {
        "id": "sTgVh4TYGo44"
      }
    },
    {
      "cell_type": "code",
      "source": [
        "len(data[data['Genre'].str.contains('action',case=False)])"
      ],
      "metadata": {
        "execution": {
          "iopub.status.busy": "2022-10-07T08:06:23.98736Z",
          "iopub.execute_input": "2022-10-07T08:06:23.987806Z",
          "iopub.status.idle": "2022-10-07T08:06:24.000377Z",
          "shell.execute_reply.started": "2022-10-07T08:06:23.987745Z",
          "shell.execute_reply": "2022-10-07T08:06:23.999005Z"
        },
        "trusted": true,
        "colab": {
          "base_uri": "https://localhost:8080/"
        },
        "id": "SJGAy4L8Go44",
        "outputId": "88961a8b-a4be-4410-cec2-e43149c528c2"
      },
      "execution_count": null,
      "outputs": [
        {
          "output_type": "execute_result",
          "data": {
            "text/plain": [
              "277"
            ]
          },
          "metadata": {},
          "execution_count": 45
        }
      ]
    },
    {
      "cell_type": "markdown",
      "source": [
        "**Top Ten Comedy**"
      ],
      "metadata": {
        "id": "6b0abrWfyPQU"
      }
    },
    {
      "cell_type": "code",
      "source": [
        "top_10_comedy = data[data['Genre'].str.contains('Comedy', case=False)].nlargest(10, 'Rating')[['Title', 'Rating']].set_index('Title')\n",
        "print(\"Top 10 Rated Comedy Movies:\")\n",
        "print(top_10_comedy)\n"
      ],
      "metadata": {
        "colab": {
          "base_uri": "https://localhost:8080/"
        },
        "id": "dp9K_eypGo45",
        "outputId": "1f2246e2-9a1c-4585-fd43-43761c10f594"
      },
      "execution_count": null,
      "outputs": [
        {
          "output_type": "stream",
          "name": "stdout",
          "text": [
            "Top 10 Rated Comedy Movies:\n",
            "                          Rating\n",
            "Title                           \n",
            "The Intouchables             8.6\n",
            "3 Idiots                     8.4\n",
            "La La Land                   8.3\n",
            "Up                           8.3\n",
            "Toy Story 3                  8.3\n",
            "The Wolf of Wall Street      8.2\n",
            "Inside Out                   8.2\n",
            "PK                           8.2\n",
            "Zootopia                     8.1\n",
            "The Grand Budapest Hotel     8.1\n"
          ]
        }
      ]
    },
    {
      "cell_type": "markdown",
      "source": [
        "**Bar Graph Of Top 10 Rated Comedy **"
      ],
      "metadata": {
        "id": "nXy8pGVkCSgG"
      }
    },
    {
      "cell_type": "code",
      "source": [
        "sns.barplot(x=top_10_comedy['Rating'], y=top_10_comedy.index)\n",
        "plt.title(\"Top 10 Rated Comedy Movies\")\n",
        "plt.show()"
      ],
      "metadata": {
        "colab": {
          "base_uri": "https://localhost:8080/",
          "height": 472
        },
        "id": "1nTF_XIlxO7T",
        "outputId": "1977672c-2148-4855-e657-921c395d6c32"
      },
      "execution_count": null,
      "outputs": [
        {
          "output_type": "display_data",
          "data": {
            "text/plain": [
              "<Figure size 640x480 with 1 Axes>"
            ],
            "image/png": "[encoded data removed]"
          },
          "metadata": {}
        }
      ]
    },
    {
      "cell_type": "markdown",
      "source": [
        "**Top 5 Overall Movies**"
      ],
      "metadata": {
        "id": "55RfrU2UCIpl"
      }
    },
    {
      "cell_type": "code",
      "source": [
        "top_5_overall = data.nlargest(5, 'Rating')[['Title', 'Rating']].set_index('Title')\n",
        "print(\"Top 5 Rated Movies Overall:\")\n",
        "print(top_5_overall)"
      ],
      "metadata": {
        "colab": {
          "base_uri": "https://localhost:8080/"
        },
        "id": "AC-On3HqyGSy",
        "outputId": "fe9ca554-963c-4021-fe48-18d79fd124ae"
      },
      "execution_count": null,
      "outputs": [
        {
          "output_type": "stream",
          "name": "stdout",
          "text": [
            "Top 5 Rated Movies Overall:\n",
            "                  Rating\n",
            "Title                   \n",
            "The Dark Knight      9.0\n",
            "Inception            8.8\n",
            "Interstellar         8.6\n",
            "Kimi no na wa        8.6\n",
            "The Intouchables     8.6\n"
          ]
        }
      ]
    },
    {
      "cell_type": "markdown",
      "source": [
        "**Top 5 overall Rated Movies Bargraph**"
      ],
      "metadata": {
        "id": "RoY5jLPcCiKe"
      }
    },
    {
      "cell_type": "code",
      "source": [
        "sns.barplot(x=top_5_overall['Rating'], y=top_5_overall.index)\n",
        "plt.title(\"Top 5 Rated Movies Overall\")\n",
        "plt.show()"
      ],
      "metadata": {
        "colab": {
          "base_uri": "https://localhost:8080/",
          "height": 472
        },
        "id": "sCaYQXEwytyg",
        "outputId": "3382fc5e-ceba-49ab-9868-a49426ed2275"
      },
      "execution_count": null,
      "outputs": [
        {
          "output_type": "display_data",
          "data": {
            "text/plain": [
              "<Figure size 640x480 with 1 Axes>"
            ],
            "image/png": "[encoded data removed]"
          },
          "metadata": {}
        }
      ]
    },
    {
      "cell_type": "markdown",
      "source": [
        "**5 Worst Rated Horror Movies**"
      ],
      "metadata": {
        "id": "_pTtENWtCAai"
      }
    },
    {
      "cell_type": "code",
      "source": [
        "worst_5_horror = data[data['Genre'].str.contains('Horror', case=False)].nsmallest(5, 'Rating')[['Title', 'Rating']].set_index('Title')\n",
        "print(\"5 Worst Rated Horror Movies:\")\n",
        "print(worst_5_horror)"
      ],
      "metadata": {
        "colab": {
          "base_uri": "https://localhost:8080/"
        },
        "id": "J7hUTx09zUAp",
        "outputId": "bc19a97a-43c4-4b31-90c4-d381d850f236"
      },
      "execution_count": null,
      "outputs": [
        {
          "output_type": "stream",
          "name": "stdout",
          "text": [
            "5 Worst Rated Horror Movies:\n",
            "                                      Rating\n",
            "Title                                       \n",
            "The Disappointments Room                 3.9\n",
            "The Human Centipede (First Sequence)     4.4\n",
            "Aliens vs Predator - Requiem             4.7\n",
            "Texas Chainsaw 3D                        4.8\n",
            "Knock Knock                              4.9\n"
          ]
        }
      ]
    },
    {
      "cell_type": "code",
      "source": [
        "sns.barplot(x=worst_5_horror['Rating'], y=worst_5_horror.index)\n",
        "plt.title(\"5 Worst Rated Horror Movies\")\n",
        "plt.show()"
      ],
      "metadata": {
        "colab": {
          "base_uri": "https://localhost:8080/",
          "height": 472
        },
        "id": "sDvgOzdezgiN",
        "outputId": "288560c4-8d41-4786-f0e2-97f94c3a262d"
      },
      "execution_count": null,
      "outputs": [
        {
          "output_type": "display_data",
          "data": {
            "text/plain": [
              "<Figure size 640x480 with 1 Axes>"
            ],
            "image/png": "[encoded data removed]"
          },
          "metadata": {}
        }
      ]
    },
    {
      "cell_type": "markdown",
      "source": [
        "**Directors with most movies**"
      ],
      "metadata": {
        "id": "87cAXp2UB0wh"
      }
    },
    {
      "cell_type": "code",
      "source": [
        "director_movie_count = data['Director'].value_counts().reset_index()\n",
        "director_movie_count.columns = ['Director', 'Number of Movies']\n",
        "top_directors = director_movie_count.head(10)\n",
        "print(\"Directors with Most Movies:\")\n",
        "print(top_directors)\n"
      ],
      "metadata": {
        "colab": {
          "base_uri": "https://localhost:8080/"
        },
        "id": "4HVs2bwy1DB8",
        "outputId": "ab131acc-2e94-435a-cc18-a2db716adaca"
      },
      "execution_count": null,
      "outputs": [
        {
          "output_type": "stream",
          "name": "stdout",
          "text": [
            "Directors with Most Movies:\n",
            "             Director  Number of Movies\n",
            "0        Ridley Scott                 8\n",
            "1  Paul W.S. Anderson                 6\n",
            "2         David Yates                 6\n",
            "3         Michael Bay                 6\n",
            "4       Antoine Fuqua                 5\n",
            "5          Justin Lin                 5\n",
            "6         J.J. Abrams                 5\n",
            "7     Martin Scorsese                 5\n",
            "8    Denis Villeneuve                 5\n",
            "9         Woody Allen                 5\n"
          ]
        }
      ]
    },
    {
      "cell_type": "markdown",
      "source": [
        "**Director with most movies(genre,year,etc)**"
      ],
      "metadata": {
        "id": "7cGG-KWsC_rg"
      }
    },
    {
      "cell_type": "code",
      "source": [
        "print(\"All Columns for Movies Directed by Top Directors:\")\n",
        "for director in top_directors['Director']:\n",
        "    director_movies = data[data['Director'] == director]\n",
        "    print(f\"\\nDirector: {director}\")\n",
        "    print(director_movies)"
      ],
      "metadata": {
        "colab": {
          "base_uri": "https://localhost:8080/"
        },
        "id": "-mM9o9sC1Ing",
        "outputId": "07df63ca-38da-404b-9aac-9ec67f5c6ad5"
      },
      "execution_count": null,
      "outputs": [
        {
          "output_type": "stream",
          "name": "stdout",
          "text": [
            "All Columns for Movies Directed by Top Directors:\n",
            "\n",
            "Director: Ridley Scott\n",
            "     Rank                   Title                     Genre  \\\n",
            "1       2              Prometheus  Adventure,Mystery,Sci-Fi   \n",
            "102   103             The Martian    Adventure,Drama,Sci-Fi   \n",
            "387   388              Robin Hood    Action,Adventure,Drama   \n",
            "470   471       American Gangster     Biography,Crime,Drama   \n",
            "516   517  Exodus: Gods and Kings    Action,Adventure,Drama   \n",
            "521   522           The Counselor      Crime,Drama,Thriller   \n",
            "530   531             A Good Year      Comedy,Drama,Romance   \n",
            "737   738            Body of Lies      Action,Drama,Romance   \n",
            "\n",
            "                                           Description      Director  \\\n",
            "1    Following clues to the origin of mankind, a te...  Ridley Scott   \n",
            "102  An astronaut becomes stranded on Mars after hi...  Ridley Scott   \n",
            "387  In 12th century England, Robin and his band of...  Ridley Scott   \n",
            "470  In 1970s America, a detective works to bring d...  Ridley Scott   \n",
            "516  The defiant leader Moses rises up against the ...  Ridley Scott   \n",
            "521  A lawyer finds himself in over his head when h...  Ridley Scott   \n",
            "530  A British investment broker inherits his uncle...  Ridley Scott   \n",
            "737  A CIA agent on the ground in Jordan hunts down...  Ridley Scott   \n",
            "\n",
            "                                                Actors  Year  \\\n",
            "1    Noomi Rapace, Logan Marshall-Green, Michael Fa...  2012   \n",
            "102  Matt Damon, Jessica Chastain, Kristen Wiig, Ka...  2015   \n",
            "387  Russell Crowe, Cate Blanchett, Matthew Macfady...  2010   \n",
            "470  Denzel Washington, Russell Crowe, Chiwetel Eji...  2007   \n",
            "516  Christian Bale, Joel Edgerton, Ben Kingsley, S...  2014   \n",
            "521  Michael Fassbender, Penélope Cruz, Cameron Dia...  2013   \n",
            "530  Russell Crowe, Abbie Cornish, Albert Finney, M...  2006   \n",
            "737  Leonardo DiCaprio, Russell Crowe, Mark Strong,...  2008   \n",
            "\n",
            "     Runtime (Minutes)  Rating   Votes  Revenue (Millions)  Metascore  \\\n",
            "1                  124     7.0  485820              126.46       65.0   \n",
            "102                144     8.0  556097              228.43       80.0   \n",
            "387                140     6.7  221117              105.22       53.0   \n",
            "470                157     7.8  337835              130.13       76.0   \n",
            "516                150     6.0  137299               65.01       52.0   \n",
            "521                117     5.3   84927               16.97       48.0   \n",
            "530                117     6.9   74674                7.46       47.0   \n",
            "737                128     7.1  182305               39.38       57.0   \n",
            "\n",
            "    rating_cat                          temp  \n",
            "1    Excellent  [Adventure, Mystery, Sci-Fi]  \n",
            "102  Excellent    [Adventure, Drama, Sci-Fi]  \n",
            "387       Good    [Action, Adventure, Drama]  \n",
            "470  Excellent     [Biography, Crime, Drama]  \n",
            "516       Good    [Action, Adventure, Drama]  \n",
            "521    Average      [Crime, Drama, Thriller]  \n",
            "530       Good      [Comedy, Drama, Romance]  \n",
            "737  Excellent      [Action, Drama, Romance]  \n",
            "\n",
            "Director: Paul W.S. Anderson\n",
            "     Rank                             Title                     Genre  \\\n",
            "34     35  Resident Evil: The Final Chapter      Action,Horror,Sci-Fi   \n",
            "345   346              The Three Musketeers  Action,Adventure,Romance   \n",
            "690   691        Resident Evil: Retribution      Action,Horror,Sci-Fi   \n",
            "693   694                           Pompeii    Action,Adventure,Drama   \n",
            "954   955                        Death Race    Action,Sci-Fi,Thriller   \n",
            "993   994          Resident Evil: Afterlife   Action,Adventure,Horror   \n",
            "\n",
            "                                           Description            Director  \\\n",
            "34   Alice returns to where the nightmare began: Th...  Paul W.S. Anderson   \n",
            "345  The hot-headed young D'Artagnan along with thr...  Paul W.S. Anderson   \n",
            "690  Alice fights alongside a resistance movement t...  Paul W.S. Anderson   \n",
            "693  A slave-turned-gladiator finds himself in a ra...  Paul W.S. Anderson   \n",
            "954  Ex-con Jensen Ames is forced by the warden of ...  Paul W.S. Anderson   \n",
            "993  While still out to destroy the evil Umbrella C...  Paul W.S. Anderson   \n",
            "\n",
            "                                                Actors  Year  \\\n",
            "34   Milla Jovovich, Iain Glen, Ali Larter, Shawn R...  2016   \n",
            "345  Logan Lerman, Matthew Macfadyen, Ray Stevenson...  2011   \n",
            "690  Milla Jovovich, Sienna Guillory, Michelle Rodr...  2012   \n",
            "693  Kit Harington, Emily Browning, Kiefer Sutherla...  2014   \n",
            "954  Jason Statham, Joan Allen, Tyrese Gibson, Ian ...  2008   \n",
            "993  Milla Jovovich, Ali Larter, Wentworth Miller,K...  2010   \n",
            "\n",
            "     Runtime (Minutes)  Rating   Votes  Revenue (Millions)  Metascore  \\\n",
            "34                 107     5.6   46165               26.84       49.0   \n",
            "345                110     5.8   92329               20.32       35.0   \n",
            "690                 96     5.4  114144               42.35       39.0   \n",
            "693                105     5.5   90188               23.22       39.0   \n",
            "954                105     6.4  173731               36.06       43.0   \n",
            "993                 97     5.9  140900               60.13       37.0   \n",
            "\n",
            "    rating_cat                          temp  \n",
            "34     Average      [Action, Horror, Sci-Fi]  \n",
            "345    Average  [Action, Adventure, Romance]  \n",
            "690    Average      [Action, Horror, Sci-Fi]  \n",
            "693    Average    [Action, Adventure, Drama]  \n",
            "954       Good    [Action, Sci-Fi, Thriller]  \n",
            "993    Average   [Action, Adventure, Horror]  \n",
            "\n",
            "Director: David Yates\n",
            "     Rank                                         Title  \\\n",
            "10     11       Fantastic Beasts and Where to Find Them   \n",
            "107   108                          The Legend of Tarzan   \n",
            "114   115  Harry Potter and the Deathly Hallows: Part 2   \n",
            "314   315     Harry Potter and the Order of the Phoenix   \n",
            "418   419  Harry Potter and the Deathly Hallows: Part 1   \n",
            "473   474        Harry Potter and the Half-Blood Prince   \n",
            "\n",
            "                        Genre  \\\n",
            "10   Adventure,Family,Fantasy   \n",
            "107    Action,Adventure,Drama   \n",
            "114   Adventure,Drama,Fantasy   \n",
            "314  Adventure,Family,Fantasy   \n",
            "418  Adventure,Family,Fantasy   \n",
            "473  Adventure,Family,Fantasy   \n",
            "\n",
            "                                           Description     Director  \\\n",
            "10   The adventures of writer Newt Scamander in New...  David Yates   \n",
            "107  Tarzan, having acclimated to life in London, i...  David Yates   \n",
            "114  Harry, Ron and Hermione search for Voldemort's...  David Yates   \n",
            "314  With their warning about Lord Voldemort's retu...  David Yates   \n",
            "418  As Harry races against time and evil to destro...  David Yates   \n",
            "473  As Harry Potter begins his sixth year at Hogwa...  David Yates   \n",
            "\n",
            "                                                Actors  Year  \\\n",
            "10   Eddie Redmayne, Katherine Waterston, Alison Su...  2016   \n",
            "107  Alexander Skarsgård, Rory J. Saper, Christian ...  2016   \n",
            "114  Daniel Radcliffe, Emma Watson, Rupert Grint, M...  2011   \n",
            "314  Daniel Radcliffe, Emma Watson, Rupert Grint, B...  2007   \n",
            "418  Daniel Radcliffe, Emma Watson, Rupert Grint, B...  2010   \n",
            "473  Daniel Radcliffe, Emma Watson, Rupert Grint, M...  2009   \n",
            "\n",
            "     Runtime (Minutes)  Rating   Votes  Revenue (Millions)  Metascore  \\\n",
            "10                 133     7.5  232072              234.02       66.0   \n",
            "107                110     6.3  117590              126.59       44.0   \n",
            "114                130     8.1  590595              380.96       87.0   \n",
            "314                138     7.5  385325              292.00       71.0   \n",
            "418                146     7.7  357213              294.98       65.0   \n",
            "473                153     7.5  351059              301.96       78.0   \n",
            "\n",
            "    rating_cat                          temp  \n",
            "10   Excellent  [Adventure, Family, Fantasy]  \n",
            "107       Good    [Action, Adventure, Drama]  \n",
            "114  Excellent   [Adventure, Drama, Fantasy]  \n",
            "314  Excellent  [Adventure, Family, Fantasy]  \n",
            "418  Excellent  [Adventure, Family, Fantasy]  \n",
            "473  Excellent  [Adventure, Family, Fantasy]  \n",
            "\n",
            "Director: Michael Bay\n",
            "     Rank                                Title                    Genre  \\\n",
            "126   127      Transformers: Age of Extinction  Action,Adventure,Sci-Fi   \n",
            "168   169                             13 Hours     Action,Drama,History   \n",
            "212   213                         Transformers  Action,Adventure,Sci-Fi   \n",
            "566   567       Transformers: Dark of the Moon  Action,Adventure,Sci-Fi   \n",
            "668   669                          Pain & Gain       Comedy,Crime,Drama   \n",
            "710   711  Transformers: Revenge of the Fallen  Action,Adventure,Sci-Fi   \n",
            "\n",
            "                                           Description     Director  \\\n",
            "126  Autobots must escape sight from a bounty hunte...  Michael Bay   \n",
            "168  During an attack on a U.S. compound in Libya, ...  Michael Bay   \n",
            "212  An ancient struggle between two Cybertronian r...  Michael Bay   \n",
            "566  The Autobots learn of a Cybertronian spacecraf...  Michael Bay   \n",
            "668  A trio of bodybuilders in Florida get caught u...  Michael Bay   \n",
            "710  Sam Witwicky leaves the Autobots behind for a ...  Michael Bay   \n",
            "\n",
            "                                                Actors  Year  \\\n",
            "126  Mark Wahlberg, Nicola Peltz, Jack Reynor, Stan...  2014   \n",
            "168  John Krasinski, Pablo Schreiber, James Badge D...  2016   \n",
            "212  Shia LaBeouf, Megan Fox, Josh Duhamel, Tyrese ...  2007   \n",
            "566  Shia LaBeouf, Rosie Huntington-Whiteley, Tyres...  2011   \n",
            "668  Mark Wahlberg, Dwayne Johnson, Anthony Mackie,...  2013   \n",
            "710  Shia LaBeouf, Megan Fox, Josh Duhamel, Tyrese ...  2009   \n",
            "\n",
            "     Runtime (Minutes)  Rating   Votes  Revenue (Millions)  Metascore  \\\n",
            "126                165     5.7  255483              245.43       32.0   \n",
            "168                144     7.3   76935               52.82       48.0   \n",
            "212                144     7.1  531112              318.76       61.0   \n",
            "566                154     6.3  338369              352.36       42.0   \n",
            "668                129     6.5  168875               49.87       45.0   \n",
            "710                150     6.0  335757              402.08       35.0   \n",
            "\n",
            "    rating_cat                         temp  \n",
            "126    Average  [Action, Adventure, Sci-Fi]  \n",
            "168  Excellent     [Action, Drama, History]  \n",
            "212  Excellent  [Action, Adventure, Sci-Fi]  \n",
            "566       Good  [Action, Adventure, Sci-Fi]  \n",
            "668       Good       [Comedy, Crime, Drama]  \n",
            "710       Good  [Action, Adventure, Sci-Fi]  \n",
            "\n",
            "Director: Antoine Fuqua\n",
            "     Rank                  Title                     Genre  \\\n",
            "38     39  The Magnificent Seven  Action,Adventure,Western   \n",
            "300   301          The Equalizer     Action,Crime,Thriller   \n",
            "381   382               Southpaw               Drama,Sport   \n",
            "453   454     Olympus Has Fallen           Action,Thriller   \n",
            "511   512                Shooter        Action,Crime,Drama   \n",
            "\n",
            "                                           Description       Director  \\\n",
            "38   Seven gunmen in the old west gradually come to...  Antoine Fuqua   \n",
            "300  A man believes he has put his mysterious past ...  Antoine Fuqua   \n",
            "381  Boxer Billy Hope turns to trainer Tick Wills t...  Antoine Fuqua   \n",
            "453  Disgraced Secret Service agent (and former pre...  Antoine Fuqua   \n",
            "511  A marksman living in exile is coaxed back into...  Antoine Fuqua   \n",
            "\n",
            "                                                Actors  Year  \\\n",
            "38   Denzel Washington, Chris Pratt, Ethan Hawke,Vi...  2016   \n",
            "300  Denzel Washington, Marton Csokas, Chloë Grace ...  2014   \n",
            "381  Jake Gyllenhaal, Rachel McAdams, Oona Laurence...  2015   \n",
            "453  Gerard Butler, Aaron Eckhart, Morgan Freeman,A...  2013   \n",
            "511  Mark Wahlberg, Michael Peña, Rhona Mitra, Dann...  2007   \n",
            "\n",
            "     Runtime (Minutes)  Rating   Votes  Revenue (Millions)  Metascore  \\\n",
            "38                 132     6.9  122853               93.38       54.0   \n",
            "300                132     7.2  249425              101.53       57.0   \n",
            "381                124     7.4  169083               52.42       57.0   \n",
            "453                119     6.5  214994               98.90       41.0   \n",
            "511                124     7.2  267820               46.98       53.0   \n",
            "\n",
            "    rating_cat                          temp  \n",
            "38        Good  [Action, Adventure, Western]  \n",
            "300  Excellent     [Action, Crime, Thriller]  \n",
            "381  Excellent                [Drama, Sport]  \n",
            "453       Good            [Action, Thriller]  \n",
            "511  Excellent        [Action, Crime, Drama]  \n",
            "\n",
            "Director: Justin Lin\n",
            "     Rank                                  Title                    Genre  \\\n",
            "48     49                       Star Trek Beyond  Action,Adventure,Sci-Fi   \n",
            "134   135                              Furious 6    Action,Crime,Thriller   \n",
            "308   309  The Fast and the Furious: Tokyo Drift    Action,Crime,Thriller   \n",
            "319   320                              Fast Five    Action,Crime,Thriller   \n",
            "340   341                         Fast & Furious    Action,Crime,Thriller   \n",
            "\n",
            "                                           Description    Director  \\\n",
            "48   The USS Enterprise crew explores the furthest ...  Justin Lin   \n",
            "134  Hobbs has Dominic and Brian reassemble their c...  Justin Lin   \n",
            "308  A teenager becomes a major competitor in the w...  Justin Lin   \n",
            "319  Dominic Toretto and his crew of street racers ...  Justin Lin   \n",
            "340  Brian O'Conner, back working for the FBI in Lo...  Justin Lin   \n",
            "\n",
            "                                                Actors  Year  \\\n",
            "48   Chris Pine, Zachary Quinto, Karl Urban, Zoe Sa...  2016   \n",
            "134  Vin Diesel, Paul Walker, Dwayne Johnson, Miche...  2013   \n",
            "308  Lucas Black, Zachery Ty Bryan, Shad Moss, Dami...  2006   \n",
            "319  Vin Diesel, Paul Walker, Dwayne Johnson, Jorda...  2011   \n",
            "340  Vin Diesel, Paul Walker, Michelle Rodriguez, J...  2009   \n",
            "\n",
            "     Runtime (Minutes)  Rating   Votes  Revenue (Millions)  Metascore  \\\n",
            "48                 122     7.1  164567              158.80       68.0   \n",
            "134                130     7.1  318051              238.67       61.0   \n",
            "308                104     6.0  193479               62.49       45.0   \n",
            "319                131     7.3  300803              209.81       66.0   \n",
            "340                107     6.6  217464              155.02       46.0   \n",
            "\n",
            "    rating_cat                         temp  \n",
            "48   Excellent  [Action, Adventure, Sci-Fi]  \n",
            "134  Excellent    [Action, Crime, Thriller]  \n",
            "308       Good    [Action, Crime, Thriller]  \n",
            "319  Excellent    [Action, Crime, Thriller]  \n",
            "340       Good    [Action, Crime, Thriller]  \n",
            "\n",
            "Director: J.J. Abrams\n",
            "     Rank                                       Title  \\\n",
            "50     51  Star Wars: Episode VII - The Force Awakens   \n",
            "140   141                                   Star Trek   \n",
            "362   363                     Star Trek Into Darkness   \n",
            "497   498                                     Super 8   \n",
            "869   870                     Mission: Impossible III   \n",
            "\n",
            "                         Genre  \\\n",
            "50    Action,Adventure,Fantasy   \n",
            "140    Action,Adventure,Sci-Fi   \n",
            "362    Action,Adventure,Sci-Fi   \n",
            "497    Mystery,Sci-Fi,Thriller   \n",
            "869  Action,Adventure,Thriller   \n",
            "\n",
            "                                           Description     Director  \\\n",
            "50   Three decades after the defeat of the Galactic...  J.J. Abrams   \n",
            "140  The brash James T. Kirk tries to live up to hi...  J.J. Abrams   \n",
            "362  After the crew of the Enterprise find an unsto...  J.J. Abrams   \n",
            "497  During the summer of 1979, a group of friends ...  J.J. Abrams   \n",
            "869  Agent Ethan Hunt comes into conflict with a da...  J.J. Abrams   \n",
            "\n",
            "                                                Actors  Year  \\\n",
            "50   Daisy Ridley, John Boyega, Oscar Isaac, Domhna...  2015   \n",
            "140  Chris Pine, Zachary Quinto, Simon Pegg, Leonar...  2009   \n",
            "362  Chris Pine, Zachary Quinto, Zoe Saldana, Bened...  2013   \n",
            "497  Elle Fanning, AJ Michalka, Kyle Chandler, Joel...  2011   \n",
            "869  Tom Cruise, Michelle Monaghan, Ving Rhames, Ph...  2006   \n",
            "\n",
            "     Runtime (Minutes)  Rating   Votes  Revenue (Millions)  Metascore  \\\n",
            "50                 136     8.1  661608              936.63       81.0   \n",
            "140                127     8.0  526324              257.70       82.0   \n",
            "362                132     7.8  417663              228.76       72.0   \n",
            "497                112     7.1  298913              126.98       72.0   \n",
            "869                126     6.9  270429              133.38       66.0   \n",
            "\n",
            "    rating_cat                           temp  \n",
            "50   Excellent   [Action, Adventure, Fantasy]  \n",
            "140  Excellent    [Action, Adventure, Sci-Fi]  \n",
            "362  Excellent    [Action, Adventure, Sci-Fi]  \n",
            "497  Excellent    [Mystery, Sci-Fi, Thriller]  \n",
            "869       Good  [Action, Adventure, Thriller]  \n",
            "\n",
            "Director: Martin Scorsese\n",
            "     Rank                    Title                    Genre  \\\n",
            "55     56                  Silence  Adventure,Drama,History   \n",
            "82     83  The Wolf of Wall Street   Biography,Comedy,Crime   \n",
            "99    100             The Departed     Crime,Drama,Thriller   \n",
            "138   139           Shutter Island         Mystery,Thriller   \n",
            "735   736                     Hugo   Adventure,Drama,Family   \n",
            "\n",
            "                                           Description         Director  \\\n",
            "55   In the 17th century, two Portuguese Jesuit pri...  Martin Scorsese   \n",
            "82   Based on the true story of Jordan Belfort, fro...  Martin Scorsese   \n",
            "99   An undercover cop and a mole in the police att...  Martin Scorsese   \n",
            "138  In 1954, a U.S. marshal investigates the disap...  Martin Scorsese   \n",
            "735  In Paris in 1931, an orphan named Hugo Cabret ...  Martin Scorsese   \n",
            "\n",
            "                                                Actors  Year  \\\n",
            "55   Andrew Garfield, Adam Driver, Liam Neeson,Tada...  2016   \n",
            "82   Leonardo DiCaprio, Jonah Hill, Margot Robbie,M...  2013   \n",
            "99   Leonardo DiCaprio, Matt Damon, Jack Nicholson,...  2006   \n",
            "138  Leonardo DiCaprio, Emily Mortimer, Mark Ruffal...  2010   \n",
            "735  Asa Butterfield, Chloë Grace Moretz, Christoph...  2011   \n",
            "\n",
            "     Runtime (Minutes)  Rating   Votes  Revenue (Millions)  Metascore  \\\n",
            "55                 161     7.3   49190                7.08       79.0   \n",
            "82                 180     8.2  865134              116.87       75.0   \n",
            "99                 151     8.5  937414              132.37       85.0   \n",
            "138                138     8.1  855604              127.97       63.0   \n",
            "735                126     7.5  259182               73.82       83.0   \n",
            "\n",
            "    rating_cat                         temp  \n",
            "55   Excellent  [Adventure, Drama, History]  \n",
            "82   Excellent   [Biography, Comedy, Crime]  \n",
            "99   Excellent     [Crime, Drama, Thriller]  \n",
            "138  Excellent          [Mystery, Thriller]  \n",
            "735  Excellent   [Adventure, Drama, Family]  \n",
            "\n",
            "Director: Denis Villeneuve\n",
            "     Rank      Title                 Genre  \\\n",
            "19     20    Arrival  Drama,Mystery,Sci-Fi   \n",
            "90     91  Prisoners   Crime,Drama,Mystery   \n",
            "153   154    Sicario    Action,Crime,Drama   \n",
            "467   468      Enemy      Mystery,Thriller   \n",
            "713   714  Incendies     Drama,Mystery,War   \n",
            "\n",
            "                                           Description          Director  \\\n",
            "19   When twelve mysterious spacecraft appear aroun...  Denis Villeneuve   \n",
            "90   When Keller Dover's daughter and her friend go...  Denis Villeneuve   \n",
            "153  An idealistic FBI agent is enlisted by a gover...  Denis Villeneuve   \n",
            "467  A man seeks out his exact look-alike after spo...  Denis Villeneuve   \n",
            "713  Twins journey to the Middle East to discover t...  Denis Villeneuve   \n",
            "\n",
            "                                                Actors  Year  \\\n",
            "19   Amy Adams, Jeremy Renner, Forest Whitaker,Mich...  2016   \n",
            "90   Hugh Jackman, Jake Gyllenhaal, Viola Davis,Mel...  2013   \n",
            "153  Emily Blunt, Josh Brolin, Benicio Del Toro, Jo...  2015   \n",
            "467  Jake Gyllenhaal, Mélanie Laurent, Sarah Gadon,...  2013   \n",
            "713  Lubna Azabal, Mélissa Désormeaux-Poulin, Maxim...  2010   \n",
            "\n",
            "     Runtime (Minutes)  Rating   Votes  Revenue (Millions)  Metascore  \\\n",
            "19                 116     8.0  340798              100.50       81.0   \n",
            "90                 153     8.1  431185               60.96       74.0   \n",
            "153                121     7.6  243230               46.88       82.0   \n",
            "467                 91     6.9  111558                1.01       61.0   \n",
            "713                131     8.2   92863                6.86       80.0   \n",
            "\n",
            "    rating_cat                      temp  \n",
            "19   Excellent  [Drama, Mystery, Sci-Fi]  \n",
            "90   Excellent   [Crime, Drama, Mystery]  \n",
            "153  Excellent    [Action, Crime, Drama]  \n",
            "467       Good       [Mystery, Thriller]  \n",
            "713  Excellent     [Drama, Mystery, War]  \n",
            "\n",
            "Director: Woody Allen\n",
            "     Rank                     Title                   Genre  \\\n",
            "349   350         Midnight in Paris  Comedy,Fantasy,Romance   \n",
            "353   354              Café Society    Comedy,Drama,Romance   \n",
            "813   814         To Rome with Love          Comedy,Romance   \n",
            "853   854  Vicky Cristina Barcelona           Drama,Romance   \n",
            "877   878              Blue Jasmine                   Drama   \n",
            "\n",
            "                                           Description     Director  \\\n",
            "349  While on a trip to Paris with his fiancée's fa...  Woody Allen   \n",
            "353  In the 1930s, a Bronx native moves to Hollywoo...  Woody Allen   \n",
            "813  The lives of some visitors and residents of Ro...  Woody Allen   \n",
            "853  Two girlfriends on a summer holiday in Spain b...  Woody Allen   \n",
            "877  A New York socialite, deeply troubled and in d...  Woody Allen   \n",
            "\n",
            "                                                Actors  Year  \\\n",
            "349  Owen Wilson, Rachel McAdams, Kathy Bates, Kurt...  2011   \n",
            "353  Jesse Eisenberg, Kristen Stewart, Steve Carell...  2016   \n",
            "813  Woody Allen, Penélope Cruz, Jesse Eisenberg, E...  2012   \n",
            "853  Rebecca Hall, Scarlett Johansson, Javier Barde...  2008   \n",
            "877  Cate Blanchett, Alec Baldwin, Peter Sarsgaard,...  2013   \n",
            "\n",
            "     Runtime (Minutes)  Rating   Votes  Revenue (Millions)  Metascore  \\\n",
            "349                 94     7.7  320323               56.82       81.0   \n",
            "353                 96     6.7   45579               11.08       64.0   \n",
            "813                112     6.3   72050               16.68       54.0   \n",
            "853                 96     7.1  208770               23.21       70.0   \n",
            "877                 98     7.3  160592               33.40       78.0   \n",
            "\n",
            "    rating_cat                        temp  \n",
            "349  Excellent  [Comedy, Fantasy, Romance]  \n",
            "353       Good    [Comedy, Drama, Romance]  \n",
            "813       Good           [Comedy, Romance]  \n",
            "853  Excellent            [Drama, Romance]  \n",
            "877  Excellent                     [Drama]  \n"
          ]
        }
      ]
    },
    {
      "cell_type": "markdown",
      "source": [
        "**Pie Chart of % of movies directed by the top 10 Directors with most number of films**"
      ],
      "metadata": {
        "id": "e0ioGjhwDSvi"
      }
    },
    {
      "cell_type": "code",
      "source": [
        "plt.figure(figsize=(10, 7))\n",
        "plt.pie(top_directors['Number of Movies'], labels=top_directors['Director'], autopct='%1.1f%%', startangle=140)\n",
        "plt.title(\"Directors with Most Movies\")\n",
        "plt.axis('equal')\n",
        "plt.show()"
      ],
      "metadata": {
        "colab": {
          "base_uri": "https://localhost:8080/",
          "height": 598
        },
        "id": "8D4U97BJ1cPD",
        "outputId": "cd9ef036-bdfe-4722-88b4-a531a1c36593"
      },
      "execution_count": null,
      "outputs": [
        {
          "output_type": "display_data",
          "data": {
            "text/plain": [
              "<Figure size 1000x700 with 1 Axes>"
            ],
            "image/png": "[encoded data removed]"
          },
          "metadata": {}
        }
      ]
    }
  ]
}